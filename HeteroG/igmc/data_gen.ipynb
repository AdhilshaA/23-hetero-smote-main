{
 "cells": [
  {
   "cell_type": "code",
   "execution_count": 1,
   "metadata": {},
   "outputs": [
    {
     "ename": "ImportError",
     "evalue": "cannot import name 'IGMCDataset' from 'torch_geometric.datasets' (/home/deependra/project/venv/lib/python3.10/site-packages/torch_geometric/datasets/__init__.py)",
     "output_type": "error",
     "traceback": [
      "\u001b[0;31m---------------------------------------------------------------------------\u001b[0m",
      "\u001b[0;31mImportError\u001b[0m                               Traceback (most recent call last)",
      "\u001b[1;32m/home/deependra/project/23-hetero-smote/HeteroG/igmc/data_gen.ipynb Cell 1\u001b[0m line \u001b[0;36m1\n\u001b[0;32m----> <a href='vscode-notebook-cell://ssh-remote%2Bananta/home/deependra/project/23-hetero-smote/HeteroG/igmc/data_gen.ipynb#W0sdnNjb2RlLXJlbW90ZQ%3D%3D?line=0'>1</a>\u001b[0m \u001b[39mfrom\u001b[39;00m \u001b[39mtorch_geometric\u001b[39;00m\u001b[39m.\u001b[39;00m\u001b[39mdatasets\u001b[39;00m \u001b[39mimport\u001b[39;00m IGMCDataset\n\u001b[1;32m      <a href='vscode-notebook-cell://ssh-remote%2Bananta/home/deependra/project/23-hetero-smote/HeteroG/igmc/data_gen.ipynb#W0sdnNjb2RlLXJlbW90ZQ%3D%3D?line=2'>3</a>\u001b[0m \u001b[39m# Provide the root directory where you want to store the dataset\u001b[39;00m\n\u001b[1;32m      <a href='vscode-notebook-cell://ssh-remote%2Bananta/home/deependra/project/23-hetero-smote/HeteroG/igmc/data_gen.ipynb#W0sdnNjb2RlLXJlbW90ZQ%3D%3D?line=3'>4</a>\u001b[0m root \u001b[39m=\u001b[39m \u001b[39m'\u001b[39m\u001b[39mdata\u001b[39m\u001b[39m'\u001b[39m\n",
      "\u001b[0;31mImportError\u001b[0m: cannot import name 'IGMCDataset' from 'torch_geometric.datasets' (/home/deependra/project/venv/lib/python3.10/site-packages/torch_geometric/datasets/__init__.py)"
     ]
    }
   ],
   "source": [
    "from torch_geometric.datasets import IGMCDataset\n",
    "\n",
    "# Provide the root directory where you want to store the dataset\n",
    "root = 'data'\n",
    "\n",
    "# Specify the name of the dataset you want to download\n",
    "name = 'igmc'\n",
    "\n",
    "# Instantiate the IGMCDataset class\n",
    "dataset = IGMCDataset(root, name, transform=None, pre_transform=None, force_reload=False)\n"
   ]
  }
 ],
 "metadata": {
  "kernelspec": {
   "display_name": "venv",
   "language": "python",
   "name": "python3"
  },
  "language_info": {
   "codemirror_mode": {
    "name": "ipython",
    "version": 3
   },
   "file_extension": ".py",
   "mimetype": "text/x-python",
   "name": "python",
   "nbconvert_exporter": "python",
   "pygments_lexer": "ipython3",
   "version": "3.10.12"
  }
 },
 "nbformat": 4,
 "nbformat_minor": 2
}
