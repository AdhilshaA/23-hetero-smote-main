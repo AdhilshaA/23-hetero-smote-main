{
 "cells": [
  {
   "cell_type": "code",
   "execution_count": null,
   "metadata": {},
   "outputs": [],
   "source": [
    "import sys\n",
    "sys.path.extend([ '../', '../../'])\n",
    "import torch\n",
    "import dataloader as dl\n",
    "from args import Args\n",
    "from model import Het_ConEn, Het_NetEn, EdgePredictor, Edge_classify\n",
    "from train2 import train_smote\n",
    "\n",
    "# Set device to GPU if available, else use CPU\n",
    "args = Args()\n",
    "args.movielens_edge_pred()\n",
    "torch.cuda.empty_cache()"
   ]
  },
  {
   "cell_type": "code",
   "execution_count": null,
   "metadata": {},
   "outputs": [],
   "source": [
    "# data = input_data(args) \n",
    "# torch.save(data, 'data.pt')\n",
    "data = torch.load('ml_data.pt')\n",
    "print(data)"
   ]
  },
  {
   "cell_type": "code",
   "execution_count": null,
   "metadata": {},
   "outputs": [],
   "source": [
    "print(data['u','walk','m'].edge_index)\n",
    "device = args.device\n",
    "# data = data.to(device)\n",
    "\n",
    "# Send all x tensors to the device\n",
    "data['u_embed']['x'] = data['u_embed']['x'].to(device)\n",
    "data['u_net_embed']['x'] = data['u_net_embed']['x'].to(device)\n",
    "data['m_embed']['x'] = data['m_embed']['x'].to(device)\n",
    "data['m_net_embed']['x'] = data['m_net_embed']['x'].to(device)\n",
    "\n",
    "# Send all y tensors to the device\n",
    "data['u', 'edge', 'm']['y'] = data['u', 'edge', 'm']['y'].to(device)\n",
    "data['u', 'edge', 'm']['edge_index'] = data['u', 'edge', 'm']['edge_index'].to(device)\n",
    "\n",
    "# Send all edge_index tensors to the device\n",
    "data['u', 'walk', 'u']['edge_index'] = data['u', 'walk', 'u']['edge_index'].to(device)\n",
    "data['u', 'walk', 'm']['edge_index'] = data['u', 'walk', 'm']['edge_index'].to(device)\n",
    "data['m', 'walk', 'u']['edge_index'] = data['m', 'walk', 'u']['edge_index'].to(device)\n",
    "data['m', 'walk', 'm']['edge_index'] = data['m', 'walk', 'm']['edge_index'].to(device)\n",
    "\n",
    "\n",
    "edge_indices_list = [[ data['u', 'walk', 'u'].edge_index, data['u', 'walk', 'm'].edge_index],\n",
    "                [ data['m', 'walk', 'u'].edge_index, data['m', 'walk', 'm'].edge_index]]\n",
    "target_edge = data['u', 'edge', 'm']['edge_index'].transpose(0, 1)"
   ]
  },
  {
   "cell_type": "code",
   "execution_count": null,
   "metadata": {},
   "outputs": [],
   "source": [
    "c_train_num = dl.train_num(data['u', 'edge', 'm']['y'], args.im_class_num, args.class_samp_num[0], args.im_ratio)\n",
    "print(c_train_num, sum(c_train_num))\n",
    "train_idx, val_idx, test_idx, c_num_mat = dl.segregate(data['u', 'edge', 'm']['y'], c_train_num, args.seed[1], args)\n",
    "print(\"train_idx: \", train_idx, \"\\n\", len(train_idx))\n",
    "print(\"val_idx: \", val_idx, \"\\n\", len(val_idx))\n",
    "print(\"test_idx: \", test_idx, \"\\n\", len(test_idx))"
   ]
  },
  {
   "cell_type": "code",
   "execution_count": null,
   "metadata": {},
   "outputs": [],
   "source": [
    "encoder1 = Het_ConEn(args.embed_dim, args, args.dropout)\n",
    "encoder2 = Het_NetEn(args.embed_dim, args.dropout)\n",
    "classifier = Edge_classify(args.embed_dim, args.nclass, args.dropout)\n",
    "decoder_uu = EdgePredictor(args.embed_dim)\n",
    "decoder_um = EdgePredictor(args.embed_dim)\n",
    "decoder_mu = EdgePredictor(args.embed_dim)\n",
    "decoder_mm = EdgePredictor(args.embed_dim)\n",
    "# encoder = torch.load('pretrained/encoder.pth')\n",
    "# encoder2 = torch.load('pretrained/encoder2.pth')\n",
    "# decoder_pa = torch.load('pretrained/decoder_pa.pth')\n",
    "# decoder_pp = torch.load('pretrained/decoder_pp.pth')\n",
    "# decoder_pv = torch.load('pretrained/decoder_pv.pth')\n",
    "decoder_list1 = [decoder_uu, decoder_um]\n",
    "decoder_list2 = [decoder_mu, decoder_mm]\n",
    "\n",
    "encoder1.to(device)\n",
    "encoder2.to(device)\n",
    "classifier.to(device)\n",
    "for decoder in decoder_list1: decoder.to(device)\n",
    "for decoder in decoder_list2: decoder.to(device)"
   ]
  },
  {
   "cell_type": "markdown",
   "metadata": {},
   "source": [
    "## Training Part"
   ]
  },
  {
   "cell_type": "code",
   "execution_count": null,
   "metadata": {},
   "outputs": [],
   "source": [
    "# import os\n",
    "# os.environ['CUDA_LAUNCH_BLOCKING'] = '1'\n",
    "\n",
    "torch.cuda.empty_cache()\n",
    "# profiler = cProfile.Profile()\n",
    "# profiler.enable()\n",
    "train_smote(data, edge_indices_list, target_edge, encoder1, encoder2, classifier, decoder_list1, decoder_list2, train_idx, \n",
    "val_idx, test_idx, args, os_mode = 'edge_sm', train_mode = '')\n",
    "\n",
    "# profiler.disable()"
   ]
  },
  {
   "cell_type": "code",
   "execution_count": null,
   "metadata": {},
   "outputs": [],
   "source": [
    "# torch.save(decoder_list1[0], 'pretrained/decoder_uu.pth')\n",
    "# torch.save(decoder_list1[1], 'pretrained/decoder_um.pth')\n",
    "# torch.save(decoder_list2[0], 'pretrained/decoder_mu.pth')\n",
    "# torch.save(decoder_list2[1], 'pretrained/decoder_mm.pth')\n",
    "# torch.save(encoder1, 'pretrained/encoder1.pth')\n",
    "# torch.save(encoder2, 'pretrained/encoder2.pth')"
   ]
  }
 ],
 "metadata": {
  "kernelspec": {
   "display_name": "venv",
   "language": "python",
   "name": "python3"
  },
  "language_info": {
   "codemirror_mode": {
    "name": "ipython",
    "version": 3
   },
   "file_extension": ".py",
   "mimetype": "text/x-python",
   "name": "python",
   "nbconvert_exporter": "python",
   "pygments_lexer": "ipython3",
   "version": "3.10.12"
  },
  "orig_nbformat": 4
 },
 "nbformat": 4,
 "nbformat_minor": 2
}
