{
 "cells": [
  {
   "cell_type": "code",
   "execution_count": null,
   "metadata": {},
   "outputs": [],
   "source": [
    "import sys\n",
    "sys.path.extend([ '../', '../../'])\n",
    "import torch\n",
    "import dataloader as dl\n",
    "from args import Args\n",
    "from model import Het_ConEn, Het_NetEn, EdgePredictor, Het_classify\n",
    "from train import train_smote\n",
    "\n",
    "# Set device to GPU if available, else use CPU\n",
    "args = Args()\n",
    "args.pubmed()\n",
    "torch.cuda.empty_cache()"
   ]
  },
  {
   "cell_type": "code",
   "execution_count": null,
   "metadata": {},
   "outputs": [],
   "source": [
    "data = torch.load('../data/pubmed_data.pt')\n",
    "print(data)"
   ]
  },
  {
   "cell_type": "code",
   "execution_count": null,
   "metadata": {},
   "outputs": [],
   "source": [
    "\n",
    "print(data['d'].y[:10,:])\n",
    "# args.device = torch.device(\"cpu\")\n",
    "device = args.device\n",
    "# data = data.to(device)\n",
    "\n",
    "# Send all x tensors to the device\n",
    "data['g']['x'] = data['g']['x'].to(device)\n",
    "data['d']['x'] = data['d']['x'].to(device)\n",
    "data['c']['x'] = data['c']['x'].to(device)\n",
    "data['s']['x'] = data['s']['x'].to(device)\n",
    "\n",
    "# Send all y tensors to the device\n",
    "data['d']['y'] = data['d']['y'].to(device)\n",
    "\n",
    "data['g', 'walk', 'g']['edge_index'] = data['g', 'walk', 'g']['edge_index'].to(device) \n",
    "data['g', 'walk', 'd']['edge_index'] = data['g', 'walk', 'd']['edge_index'].to(device)\n",
    "data['g', 'walk', 'c']['edge_index'] = data['g', 'walk', 'c']['edge_index'].to(device)\n",
    "data['g', 'walk', 's']['edge_index'] = data['g', 'walk', 's']['edge_index'].to(device)\n",
    "\n",
    "data['d', 'walk', 'g']['edge_index'] = data['d', 'walk', 'g']['edge_index'].to(device)\n",
    "data['d', 'walk', 'd']['edge_index'] = data['d', 'walk', 'd']['edge_index'].to(device)\n",
    "data['d', 'walk', 'c']['edge_index'] = data['d', 'walk', 'c']['edge_index'].to(device)\n",
    "data['d', 'walk', 's']['edge_index'] = data['d', 'walk', 's']['edge_index'].to(device)\n",
    "\n",
    "data['c', 'walk', 'g']['edge_index'] = data['c', 'walk', 'g']['edge_index'].to(device)\n",
    "data['c', 'walk', 'd']['edge_index'] = data['c', 'walk', 'd']['edge_index'].to(device)\n",
    "data['c', 'walk', 'c']['edge_index'] = data['c', 'walk', 'c']['edge_index'].to(device)\n",
    "data['c', 'walk', 's']['edge_index'] = data['c', 'walk', 's']['edge_index'].to(device)\n",
    "\n",
    "data['s', 'walk', 'g']['edge_index'] = data['s', 'walk', 'g']['edge_index'].to(device)\n",
    "data['s', 'walk', 'd']['edge_index'] = data['s', 'walk', 'd']['edge_index'].to(device)\n",
    "data['s', 'walk', 'c']['edge_index'] = data['s', 'walk', 'c']['edge_index'].to(device)\n",
    "data['s', 'walk', 's']['edge_index'] = data['s', 'walk', 's']['edge_index'].to(device)\n",
    "\n",
    "edge_indices = [ data['d', 'walk', 'g'].edge_index, data['d', 'walk', 'd'].edge_index, data['d', 'walk', 'c'].edge_index, data['d', 'walk', 's'].edge_index ]"
   ]
  },
  {
   "cell_type": "code",
   "execution_count": null,
   "metadata": {},
   "outputs": [],
   "source": [
    "args.portion = 0\n",
    "args.im_ratio = [0.7, 0.1, 0.2, 0.2, 0.4, 0.4]"
   ]
  },
  {
   "cell_type": "code",
   "execution_count": null,
   "metadata": {},
   "outputs": [],
   "source": [
    "c_train_num = dl.train_num(data['d'].y[:,1], args.im_class_num, args.class_samp_num[0], args.im_ratio)\n",
    "print(c_train_num, sum(c_train_num))\n",
    "train_idx, val_idx, test_idx, c_num_mat = dl.segregate(data['d'].y, c_train_num, args.seed[1], args)\n",
    "print(\"train_idx: \", train_idx, \"\\n\", len(train_idx))\n",
    "print(\"val_idx: \", val_idx, \"\\n\", len(val_idx))\n",
    "print(\"test_idx: \", test_idx, \"\\n\", len(test_idx))\n",
    "# print(c_num_mat)"
   ]
  },
  {
   "cell_type": "code",
   "execution_count": null,
   "metadata": {},
   "outputs": [],
   "source": [
    "encoder1 = Het_ConEn(args.embed_dim, args.dropout)\n",
    "encoder2 = Het_NetEn(args.embed_dim, args.dropout)\n",
    "# encoder1 = torch.load('pretrained/encoder1.pth')\n",
    "# encoder2 = torch.load('pretrained/encoder2.pth')\n",
    "classifier = Het_classify(args.embed_dim, args.nclass, args.dropout)\n",
    "decoder_g = EdgePredictor(args.embed_dim)\n",
    "decoder_d = EdgePredictor(args.embed_dim)\n",
    "decoder_c = EdgePredictor(args.embed_dim)\n",
    "decoder_s = EdgePredictor(args.embed_dim)\n",
    "# decoder_g = torch.load('pretrained/decoder_g.pth')\n",
    "# decoder_d = torch.load('pretrained/decoder_d.pth')\n",
    "# decoder_c = torch.load('pretrained/decoder_c.pth')\n",
    "# decoder_s = torch.load('pretrained/decoder_s.pth')\n",
    "\n",
    "decoder_list = [decoder_g, decoder_d, decoder_c, decoder_s]\n",
    "\n",
    "encoder1.to(device)\n",
    "encoder2.to(device)\n",
    "classifier.to(device)\n",
    "for decoder in decoder_list:\n",
    "    decoder.to(device)"
   ]
  },
  {
   "cell_type": "markdown",
   "metadata": {},
   "source": [
    "## Training Part"
   ]
  },
  {
   "cell_type": "code",
   "execution_count": null,
   "metadata": {},
   "outputs": [],
   "source": [
    "torch.cuda.empty_cache()\n",
    "train_smote(data, edge_indices, encoder1, encoder2, classifier, decoder_list, \n",
    "            train_idx, val_idx, test_idx, args, os_mode = 'smote', train_mode = '')"
   ]
  },
  {
   "cell_type": "code",
   "execution_count": null,
   "metadata": {},
   "outputs": [],
   "source": [
    "# test_smote(data, edge_indices, encoder1, encoder2, classifier, decoder_list, test_idx, args = args, dataset = 'Test', os_mode = 'no', train_mode = '')"
   ]
  },
  {
   "cell_type": "code",
   "execution_count": null,
   "metadata": {},
   "outputs": [],
   "source": [
    "# torch.save(decoder_list[0], 'pretrained/decoder_g.pth')\n",
    "# torch.save(decoder_list[1], 'pretrained/decoder_d.pth')\n",
    "# torch.save(decoder_list[2], 'pretrained/decoder_c.pth')\n",
    "# torch.save(decoder_list[3], 'pretrained/decoder_s.pth')\n",
    "# torch.save(encoder1, 'pretrained/encoder1.pth')\n",
    "# torch.save(encoder2, 'pretrained/encoder2.pth')"
   ]
  }
 ],
 "metadata": {
  "kernelspec": {
   "display_name": "venv",
   "language": "python",
   "name": "python3"
  },
  "language_info": {
   "codemirror_mode": {
    "name": "ipython",
    "version": 3
   },
   "file_extension": ".py",
   "mimetype": "text/x-python",
   "name": "python",
   "nbconvert_exporter": "python",
   "pygments_lexer": "ipython3",
   "version": "3.10.12"
  },
  "orig_nbformat": 4
 },
 "nbformat": 4,
 "nbformat_minor": 2
}
