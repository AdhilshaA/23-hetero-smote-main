{
 "cells": [
  {
   "cell_type": "code",
   "execution_count": 1,
   "metadata": {},
   "outputs": [
    {
     "name": "stdout",
     "output_type": "stream",
     "text": [
      "Current device: NVIDIA A100 80GB PCIe\n"
     ]
    }
   ],
   "source": [
    "import sys\n",
    "import torch\n",
    "sys.path.extend([ '../', '../../'])\n",
    "from Data import input_data\n",
    "from args import Args\n",
    "\n",
    "args = Args()\n",
    "args.yelp()\n",
    "torch.cuda.empty_cache()"
   ]
  },
  {
   "cell_type": "code",
   "execution_count": 2,
   "metadata": {},
   "outputs": [
    {
     "name": "stderr",
     "output_type": "stream",
     "text": [
      "Reading random walks file: 290281it [00:00, 508685.59it/s]\n",
      "Processing lines: 290281it [00:51, 5586.28it/s]\n",
      "Reading classes file: 5554it [00:00, 4662763.09it/s]"
     ]
    },
    {
     "name": "stdout",
     "output_type": "stream",
     "text": [
      "HeteroData(\n",
      "  \u001b[1mr\u001b[0m={ num_nodes=157499 },\n",
      "  \u001b[1mu\u001b[0m={ num_nodes=127228 },\n",
      "  \u001b[1mb\u001b[0m={\n",
      "    num_nodes=5554,\n",
      "    y=[5554]\n",
      "  },\n",
      "  \u001b[1mr_embed\u001b[0m={ x=[157499, 128] },\n",
      "  \u001b[1mu_embed\u001b[0m={ x=[127228, 128] },\n",
      "  \u001b[1mb_embed\u001b[0m={ x=[5554, 128] },\n",
      "  \u001b[1m(r, walk, r)\u001b[0m={ edge_index=[2, 1536221] },\n",
      "  \u001b[1m(r, walk, u)\u001b[0m={ edge_index=[2, 1145847] },\n",
      "  \u001b[1m(r, walk, b)\u001b[0m={ edge_index=[2, 222486] },\n",
      "  \u001b[1m(u, walk, r)\u001b[0m={ edge_index=[2, 954708] },\n",
      "  \u001b[1m(u, walk, u)\u001b[0m={ edge_index=[2, 925690] },\n",
      "  \u001b[1m(u, walk, b)\u001b[0m={ edge_index=[2, 160170] },\n",
      "  \u001b[1m(b, walk, r)\u001b[0m={ edge_index=[2, 46890] },\n",
      "  \u001b[1m(b, walk, u)\u001b[0m={ edge_index=[2, 44549] },\n",
      "  \u001b[1m(b, walk, b)\u001b[0m={ edge_index=[2, 8394] }\n",
      ")\n"
     ]
    },
    {
     "name": "stderr",
     "output_type": "stream",
     "text": [
      "\n"
     ]
    }
   ],
   "source": [
    "data = input_data(args)\n",
    "print(data)"
   ]
  },
  {
   "cell_type": "code",
   "execution_count": 3,
   "metadata": {},
   "outputs": [],
   "source": [
    "torch.save(data, 'data2.pt')"
   ]
  },
  {
   "cell_type": "code",
   "execution_count": 4,
   "metadata": {},
   "outputs": [
    {
     "name": "stdout",
     "output_type": "stream",
     "text": [
      "HeteroData(\n",
      "  \u001b[1mr\u001b[0m={ num_nodes=157499 },\n",
      "  \u001b[1mu\u001b[0m={ num_nodes=127228 },\n",
      "  \u001b[1mb\u001b[0m={\n",
      "    num_nodes=5554,\n",
      "    y=[5554]\n",
      "  },\n",
      "  \u001b[1mr_embed\u001b[0m={ x=[157499, 128] },\n",
      "  \u001b[1mu_embed\u001b[0m={ x=[127228, 128] },\n",
      "  \u001b[1mb_embed\u001b[0m={ x=[5554, 128] },\n",
      "  \u001b[1m(r, walk, r)\u001b[0m={ edge_index=[2, 1536221] },\n",
      "  \u001b[1m(r, walk, u)\u001b[0m={ edge_index=[2, 1145847] },\n",
      "  \u001b[1m(r, walk, b)\u001b[0m={ edge_index=[2, 222486] },\n",
      "  \u001b[1m(u, walk, r)\u001b[0m={ edge_index=[2, 954708] },\n",
      "  \u001b[1m(u, walk, u)\u001b[0m={ edge_index=[2, 925690] },\n",
      "  \u001b[1m(u, walk, b)\u001b[0m={ edge_index=[2, 160170] },\n",
      "  \u001b[1m(b, walk, r)\u001b[0m={ edge_index=[2, 46890] },\n",
      "  \u001b[1m(b, walk, u)\u001b[0m={ edge_index=[2, 44549] },\n",
      "  \u001b[1m(b, walk, b)\u001b[0m={ edge_index=[2, 8394] }\n",
      ")\n"
     ]
    }
   ],
   "source": [
    "data = torch.load('data2.pt')\n",
    "print(data)"
   ]
  },
  {
   "cell_type": "code",
   "execution_count": null,
   "metadata": {},
   "outputs": [],
   "source": [
    "# import numpy as np\n",
    "\n",
    "# # Load the .npy file\n",
    "# data = np.load('../data/yelp_kaggle/user_embeddings.npy')\n",
    "\n",
    "# # Check the shape and type of the loaded data\n",
    "# print(\"Data Shape:\", data.shape)\n",
    "# print(\"Data Type:\", data.dtype)\n",
    "\n",
    "# # Print the first few lines (adjust the slicing as needed)\n",
    "# print(\"First 4 lines:\")\n",
    "# print(data[:1])"
   ]
  },
  {
   "cell_type": "code",
   "execution_count": null,
   "metadata": {},
   "outputs": [],
   "source": [
    "# import torch\n",
    "# new_dat = torch.tensor(data)\n",
    "# print(new_dat.shape)"
   ]
  }
 ],
 "metadata": {
  "kernelspec": {
   "display_name": "venv",
   "language": "python",
   "name": "python3"
  },
  "language_info": {
   "codemirror_mode": {
    "name": "ipython",
    "version": 3
   },
   "file_extension": ".py",
   "mimetype": "text/x-python",
   "name": "python",
   "nbconvert_exporter": "python",
   "pygments_lexer": "ipython3",
   "version": "3.10.12"
  }
 },
 "nbformat": 4,
 "nbformat_minor": 2
}
