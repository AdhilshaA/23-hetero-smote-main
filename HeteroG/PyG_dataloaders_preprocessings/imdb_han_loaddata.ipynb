{
 "cells": [
  {
   "cell_type": "markdown",
   "metadata": {},
   "source": [
    "## Importing libraries and directory settings"
   ]
  },
  {
   "cell_type": "code",
   "execution_count": 1,
   "metadata": {},
   "outputs": [],
   "source": [
    "import numpy as np\n",
    "from torch_geometric.data import HeteroData\n",
    "import torch\n",
    "import random \n",
    "\n",
    "data_dir = '/home/deependra/project/23-hetero-smote/HeteroG/data/imdb_han/'"
   ]
  },
  {
   "cell_type": "markdown",
   "metadata": {},
   "source": [
    "# Loading the data from the files (already created in the preprocess)"
   ]
  },
  {
   "cell_type": "code",
   "execution_count": 2,
   "metadata": {},
   "outputs": [],
   "source": [
    "# node numbers and file_names\n",
    " \n",
    "N_m = 4666\n",
    "N_d = 2272\n",
    "N_a = 5850\n",
    "\n",
    "data_dir = '/home/deependra/project/23-hetero-smote/HeteroG/data/imdb_han/'\n",
    "\n",
    "md_file = 'movie_director.txt'\n",
    "ma_file = 'movie_actors.txt'\n",
    "\n",
    "m_fullclass_file = 'm_class_local.txt'\n",
    "\n",
    "m_emb_file = 'movie_embeddings.txt'"
   ]
  },
  {
   "cell_type": "markdown",
   "metadata": {},
   "source": [
    "## Loading full data as PyG HeteroData"
   ]
  },
  {
   "cell_type": "code",
   "execution_count": 3,
   "metadata": {},
   "outputs": [
    {
     "name": "stdout",
     "output_type": "stream",
     "text": [
      "number of class 0 movies: 543\n",
      "number of class 1 movies: 924\n",
      "number of class 2 movies: 1473\n"
     ]
    }
   ],
   "source": [
    "# creating full classes\n",
    "\n",
    "full_y = np.loadtxt(data_dir + m_fullclass_file, delimiter=',', dtype=int)\n",
    "\n",
    "ratio_train_val_test = [0.2, 0.2, 0.6] # for test whatever rest of data is used not the given value\n",
    "\n",
    "class0 = full_y[full_y[:,1] == 0]\n",
    "class1 = full_y[full_y[:,1] == 1]\n",
    "class2 = full_y[full_y[:,1] == 2]\n",
    "\n",
    "np.random.shuffle(class0)\n",
    "np.random.shuffle(class1)\n",
    "np.random.shuffle(class2)\n",
    "\n",
    "# train and val numbers needed correctly calculated rest will be assigned to test\n",
    "class0_train_val_test = np.array([int(len(class0)*i) for i in ratio_train_val_test])\n",
    "class1_train_val_test = np.array([int(len(class1)*i) for i in ratio_train_val_test])\n",
    "class2_train_val_test = np.array([int(len(class2)*i) for i in ratio_train_val_test])\n",
    "\n",
    "print(f\"number of class 0 movies: {len(class0)}\")\n",
    "print(f\"number of class 1 movies: {len(class1)}\")\n",
    "print(f\"number of class 2 movies: {len(class2)}\")\n",
    "\n",
    "m_fullclass_train = []\n",
    "m_fullclass_val = []\n",
    "m_fullclass_test = []\n",
    "\n",
    "\n",
    "m_fullclass_train.extend(class0[:class0_train_val_test[0]])\n",
    "m_fullclass_train.extend(class1[:class1_train_val_test[0]])\n",
    "m_fullclass_train.extend(class2[:class2_train_val_test[0]])\n",
    "\n",
    "m_fullclass_val.extend(class0[class0_train_val_test[0]:class0_train_val_test[0]+class0_train_val_test[1]])\n",
    "m_fullclass_val.extend(class1[class1_train_val_test[0]:class1_train_val_test[0]+class1_train_val_test[1]])\n",
    "m_fullclass_val.extend(class2[class2_train_val_test[0]:class2_train_val_test[0]+class2_train_val_test[1]])\n",
    "\n",
    "# test will have rest of the data\n",
    "m_fullclass_test.extend(class0[class0_train_val_test[0]+class0_train_val_test[1]:])\n",
    "m_fullclass_test.extend(class1[class1_train_val_test[0]+class1_train_val_test[1]:])\n",
    "m_fullclass_test.extend(class2[class2_train_val_test[0]+class2_train_val_test[1]:])"
   ]
  },
  {
   "cell_type": "code",
   "execution_count": 4,
   "metadata": {},
   "outputs": [
    {
     "name": "stdout",
     "output_type": "stream",
     "text": [
      "HeteroData(\n",
      "  \u001b[1mmovie\u001b[0m={\n",
      "    num_nodes=4666,\n",
      "    x=[4666, 128],\n",
      "    y_train=[586, 2],\n",
      "    y_test=[586, 2],\n",
      "    y_val=[1768, 2]\n",
      "  },\n",
      "  \u001b[1mdirector\u001b[0m={ num_nodes=2272 },\n",
      "  \u001b[1mactor\u001b[0m={ num_nodes=5850 },\n",
      "  \u001b[1m(movie, directed by, director)\u001b[0m={ edge_index=[2, 4666] },\n",
      "  \u001b[1m(movie, has, actor)\u001b[0m={ edge_index=[2, 13990] }\n",
      ")\n"
     ]
    },
    {
     "name": "stderr",
     "output_type": "stream",
     "text": [
      "/tmp/ipykernel_3234876/2986533754.py:19: UserWarning: Creating a tensor from a list of numpy.ndarrays is extremely slow. Please consider converting the list to a single numpy.ndarray with numpy.array() before converting to a tensor. (Triggered internally at ../torch/csrc/utils/tensor_new.cpp:261.)\n",
      "  full_data['movie'].y_train = torch.tensor(m_fullclass_train).long()\n"
     ]
    }
   ],
   "source": [
    "# loading full HeteroData\n",
    "\n",
    "full_data = HeteroData()\n",
    "\n",
    "# adding nodes\n",
    "full_data['movie'].num_nodes = N_m\n",
    "full_data['director'].num_nodes = N_d\n",
    "full_data['actor'].num_nodes = N_a\n",
    "\n",
    "# movie director edge index\n",
    "full_data['movie','directed by','director'].edge_index = torch.tensor(np.loadtxt(data_dir + md_file, delimiter=',', dtype=int)).T.long()\n",
    "full_data['movie','has','actor'].edge_index = torch.tensor(np.loadtxt(data_dir + ma_file, delimiter=',', dtype=int)).T.long()\n",
    "\n",
    "# movie embeddings\n",
    "full_data['movie'].x = torch.tensor(np.loadtxt(data_dir + m_emb_file, delimiter=' ', dtype=float))\n",
    "\n",
    "\n",
    "# movie class\n",
    "full_data['movie'].y_train = torch.tensor(m_fullclass_train).long()\n",
    "full_data['movie'].y_val = torch.tensor(m_fullclass_test).long()\n",
    "full_data['movie'].y_test = torch.tensor(m_fullclass_val).long()\n",
    "\n",
    "\n",
    "print(full_data)"
   ]
  },
  {
   "cell_type": "markdown",
   "metadata": {},
   "source": [
    "## Loading balanced data as PyG Heterodata\n",
    "\n"
   ]
  },
  {
   "cell_type": "code",
   "execution_count": 5,
   "metadata": {},
   "outputs": [
    {
     "name": "stdout",
     "output_type": "stream",
     "text": [
      "number of class 0 movies: 543\n",
      "number of class 1 movies: 924\n",
      "number of class 2 movies: 1473\n",
      "\n",
      "training_idxs: 300\n",
      "number of class 0 movies: 100\n",
      "number of class 1 movies: 100\n",
      "number of class 2 movies: 100\n"
     ]
    }
   ],
   "source": [
    "# creating balanced train\n",
    "\n",
    "m_all_class = np.loadtxt(data_dir + 'm_class_local.txt',delimiter=',', dtype=int)\n",
    "\n",
    "# for each class, creating train index and class\n",
    "n_train = 100\n",
    "\n",
    "training_idx = []\n",
    "\n",
    "\n",
    "for i in range(3):\n",
    "    class_idx = [m_all_class[i] for i in np.where(m_all_class[:,1] == i)[0]]\n",
    "    print(f\"number of class {i} movies: {len(class_idx)}\")\n",
    "    random.shuffle(class_idx)\n",
    "    class_idx = np.array(class_idx)\n",
    "    training_idx.extend(class_idx[:n_train,:])\n",
    "\n",
    "training_idx = np.array(training_idx)\n",
    "\n",
    "\n",
    "print(f\"\\ntraining_idxs: {len(training_idx)}\")\n",
    "for i in range(3):\n",
    "    print(f\"number of class {i} movies: {len(np.where(training_idx[:,1] == i)[0])}\")"
   ]
  },
  {
   "cell_type": "code",
   "execution_count": 6,
   "metadata": {},
   "outputs": [
    {
     "name": "stdout",
     "output_type": "stream",
     "text": [
      "HeteroData(\n",
      "  \u001b[1mmovie\u001b[0m={\n",
      "    num_nodes=4666,\n",
      "    x=[4666, 128],\n",
      "    y_train=[300, 2],\n",
      "    y_val=[586, 2],\n",
      "    y_test=[1768, 2]\n",
      "  },\n",
      "  \u001b[1mdirector\u001b[0m={ num_nodes=2272 },\n",
      "  \u001b[1mactor\u001b[0m={ num_nodes=5850 },\n",
      "  \u001b[1m(movie, directed by, director)\u001b[0m={ edge_index=[2, 4666] },\n",
      "  \u001b[1m(movie, has, actor)\u001b[0m={ edge_index=[2, 13990] }\n",
      ")\n"
     ]
    }
   ],
   "source": [
    "# loading imbalanced HeteroData\n",
    "\n",
    "balanced_data = HeteroData()\n",
    "\n",
    "# adding nodes\n",
    "balanced_data['movie'].num_nodes = N_m\n",
    "balanced_data['director'].num_nodes = N_d\n",
    "balanced_data['actor'].num_nodes = N_a\n",
    "\n",
    "# movie director edge index\n",
    "balanced_data['movie','directed by','director'].edge_index = torch.tensor(np.loadtxt(data_dir + md_file, delimiter=',', dtype=int)).T.long()\n",
    "balanced_data['movie','has','actor'].edge_index = torch.tensor(np.loadtxt(data_dir + ma_file, delimiter=',', dtype=int)).T.long()\n",
    "\n",
    "# movie embeddings\n",
    "balanced_data['movie'].x = torch.tensor(np.loadtxt(data_dir + m_emb_file, delimiter=' ', dtype=float))\n",
    "\n",
    "# movie class\n",
    "balanced_data['movie'].y_train = torch.tensor(training_idx).long()\n",
    "balanced_data['movie'].y_val = torch.tensor(m_fullclass_val).long()\n",
    "balanced_data['movie'].y_test = torch.tensor(m_fullclass_test).long()\n",
    "\n",
    "\n",
    "print(balanced_data)"
   ]
  },
  {
   "cell_type": "markdown",
   "metadata": {},
   "source": [
    "## Loading imbalanced data as PyG Heterodata"
   ]
  },
  {
   "cell_type": "code",
   "execution_count": 7,
   "metadata": {},
   "outputs": [
    {
     "name": "stdout",
     "output_type": "stream",
     "text": [
      "imbalanced_train_idx: 250\n"
     ]
    }
   ],
   "source": [
    "# DATA imbalance settings\n",
    "classes = [0,1,2]\n",
    "n_full = [100,100,300] # take only less than [100,100,300] for now (train, val, test)\n",
    "ratio_classes = [1,1,0.5] # for classes\n",
    "random_seed_value = 42 # change this to get different datasets for same imbalance settings\n",
    "random.seed(random_seed_value)\n",
    "\n",
    "n_train_classes = [int(n_full[0]*cls) for cls in ratio_classes]\n",
    "\n",
    "#setting imbalance to classes\n",
    "balanced_train_idx = np.loadtxt(data_dir + m_fullclass_file, delimiter=',', dtype=int)\n",
    "\n",
    "imbalanced_train_idx = []\n",
    "for cls in classes:\n",
    "    imbalanced_train_idx.extend(random.sample(list(balanced_train_idx[balanced_train_idx[:,1] == [cls for i in range(len(balanced_train_idx))]]), n_train_classes[cls]))\n",
    "    \n",
    "imbalanced_train_idx = np.array(imbalanced_train_idx)\n",
    "\n",
    "\n",
    "print(f\"imbalanced_train_idx: {len(imbalanced_train_idx)}\")\n",
    "# for cls in classes:\n",
    "#     print(f\"number of class {cls} movies: {len(np.where(imbalanced_train_idx[:,1] == cls)[0])}\")"
   ]
  },
  {
   "cell_type": "code",
   "execution_count": 8,
   "metadata": {},
   "outputs": [
    {
     "name": "stdout",
     "output_type": "stream",
     "text": [
      "HeteroData(\n",
      "  \u001b[1mmovie\u001b[0m={\n",
      "    num_nodes=4666,\n",
      "    x=[4666, 128],\n",
      "    y_train=[250, 2],\n",
      "    y_test=[1768, 2],\n",
      "    y_val=[586, 2]\n",
      "  },\n",
      "  \u001b[1mdirector\u001b[0m={ num_nodes=2272 },\n",
      "  \u001b[1mactor\u001b[0m={ num_nodes=5850 },\n",
      "  \u001b[1m(movie, directed by, director)\u001b[0m={ edge_index=[2, 4666] },\n",
      "  \u001b[1m(movie, has, actor)\u001b[0m={ edge_index=[2, 13990] }\n",
      ")\n"
     ]
    }
   ],
   "source": [
    "# loading imbalanced HeteroData\n",
    "\n",
    "imbalanced_data = HeteroData()\n",
    "\n",
    "imbalanced_data['movie'].num_nodes = N_m\n",
    "imbalanced_data['director'].num_nodes = N_d\n",
    "imbalanced_data['actor'].num_nodes = N_a\n",
    "\n",
    "# movie director edge index\n",
    "imbalanced_data['movie','directed by','director'].edge_index = torch.tensor(np.loadtxt(data_dir + md_file, delimiter=',', dtype=int)).T.long()\n",
    "imbalanced_data['movie','has','actor'].edge_index = torch.tensor(np.loadtxt(data_dir + ma_file, delimiter=',', dtype=int)).T.long()\n",
    "\n",
    "# movie embeddings\n",
    "imbalanced_data['movie'].x = torch.tensor(np.loadtxt(data_dir + m_emb_file, delimiter=' ', dtype=float))\n",
    "\n",
    "# movie class\n",
    "imbalanced_data['movie'].y_train = torch.tensor(imbalanced_train_idx).long()\n",
    "imbalanced_data['movie'].y_test = torch.tensor(m_fullclass_test).long()\n",
    "imbalanced_data['movie'].y_val = torch.tensor(m_fullclass_val).long()\n",
    "\n",
    "print(imbalanced_data)"
   ]
  }
 ],
 "metadata": {
  "kernelspec": {
   "display_name": "rfmidc",
   "language": "python",
   "name": "python3"
  },
  "language_info": {
   "codemirror_mode": {
    "name": "ipython",
    "version": 3
   },
   "file_extension": ".py",
   "mimetype": "text/x-python",
   "name": "python",
   "nbconvert_exporter": "python",
   "pygments_lexer": "ipython3",
   "version": "3.10.12"
  },
  "orig_nbformat": 4
 },
 "nbformat": 4,
 "nbformat_minor": 2
}
