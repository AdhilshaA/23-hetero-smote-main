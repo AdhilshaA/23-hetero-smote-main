{
 "cells": [
  {
   "cell_type": "code",
   "execution_count": 3,
   "metadata": {},
   "outputs": [],
   "source": [
    "# from gensim.models import Word2Vec\n",
    "# from itertools import *\n",
    "# dimen = 128\n",
    "# window = 5"
   ]
  },
  {
   "cell_type": "code",
   "execution_count": 4,
   "metadata": {},
   "outputs": [],
   "source": [
    "import string;\n",
    "import re;\n",
    "import random\n",
    "import math\n",
    "import numpy as np"
   ]
  },
  {
   "cell_type": "code",
   "execution_count": null,
   "metadata": {},
   "outputs": [],
   "source": []
  },
  {
   "cell_type": "code",
   "execution_count": 7,
   "metadata": {},
   "outputs": [],
   "source": [
    "# def read_random_walk_corpus():\n",
    "#     walks, node_ids = [], []\n",
    "#     with open(\"data/random_walks.txt\", 'r') as file:\n",
    "#         lines = file.readlines()\n",
    "#         for line in lines:\n",
    "#             parts = line.strip().split(':')\n",
    "#             node_ids.append(parts[0])\n",
    "#             path = parts[1].split(',')\n",
    "#             walks.append(path)\n",
    "\n",
    "#     return walks, node_ids\n",
    "\n",
    "# walk_corpus, node_ids = read_random_walk_corpus()\n",
    "\n",
    "# # Train the Word2Vec model\n",
    "# model = Word2Vec(walk_corpus, vector_size=dimen, window=window, min_count=0, workers=8, sg=1, hs=0, negative=5)\n",
    "\n",
    "# # Save node embeddings to a text file\n",
    "# with open(\"data/node_net_embedding.txt\", 'w') as file:\n",
    "#     for i, node_id in enumerate(node_ids):\n",
    "#         embedding = model.wv[node_id]\n",
    "#         embedding_str = \" \".join(str(val) for val in embedding)\n",
    "#         file.write(node_id + \" \" + embedding_str + \"\\n\")\n",
    "# model.wv.save_word2vec_format(\"data/node_net_embedding.txt\")"
   ]
  },
  {
   "cell_type": "code",
   "execution_count": null,
   "metadata": {},
   "outputs": [],
   "source": []
  }
 ],
 "metadata": {
  "kernelspec": {
   "display_name": "venv",
   "language": "python",
   "name": "python3"
  },
  "language_info": {
   "codemirror_mode": {
    "name": "ipython",
    "version": 3
   },
   "file_extension": ".py",
   "mimetype": "text/x-python",
   "name": "python",
   "nbconvert_exporter": "python",
   "pygments_lexer": "ipython3",
   "version": "3.10.12"
  }
 },
 "nbformat": 4,
 "nbformat_minor": 2
}
