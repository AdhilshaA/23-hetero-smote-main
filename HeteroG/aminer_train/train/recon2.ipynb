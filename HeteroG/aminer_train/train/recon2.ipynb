{
 "cells": [
  {
   "cell_type": "code",
   "execution_count": 1,
   "metadata": {},
   "outputs": [
    {
     "name": "stdout",
     "output_type": "stream",
     "text": [
      "Current device: NVIDIA A100 80GB PCIe\n"
     ]
    }
   ],
   "source": [
    "import numpy as np\n",
    "import matplotlib.pyplot as plt\n",
    "import sys\n",
    "sys.path.extend([ '../', '../../', '../edge_pred/'])\n",
    "import torch\n",
    "import torch.nn as nn\n",
    "import torch.optim as optim\n",
    "from data import input_data\n",
    "import dataloader as dl\n",
    "from args import Args\n",
    "from model2 import Het_En, EdgePredictor, Het_classify, encoder2\n",
    "from smote import oversample\n",
    "from train_edge_pred2 import train_smote, test_smote\n",
    "import cProfile\n",
    "\n",
    "# Set device to GPU if available, else use CPU\n",
    "args = Args()\n",
    "args.aminer_train()\n",
    "torch.cuda.empty_cache()"
   ]
  },
  {
   "cell_type": "code",
   "execution_count": 2,
   "metadata": {},
   "outputs": [
    {
     "name": "stdout",
     "output_type": "stream",
     "text": [
      "HeteroData(\n",
      "  \u001b[1ma\u001b[0m={\n",
      "    num_nodes=20171,\n",
      "    y=[20171]\n",
      "  },\n",
      "  \u001b[1mp\u001b[0m={ num_nodes=13250 },\n",
      "  \u001b[1mv\u001b[0m={ num_nodes=18 },\n",
      "  \u001b[1mp_title_embed\u001b[0m={ x=[13250, 128] },\n",
      "  \u001b[1mp_abstract_embed\u001b[0m={ x=[13250, 128] },\n",
      "  \u001b[1mp_net_embed\u001b[0m={ x=[13250, 128] },\n",
      "  \u001b[1mp_a_net_embed\u001b[0m={ x=[13250, 128] },\n",
      "  \u001b[1mp_v_net_embed\u001b[0m={ x=[13250, 128] },\n",
      "  \u001b[1ma_net_embed\u001b[0m={ x=[20171, 128] },\n",
      "  \u001b[1ma_text_embed\u001b[0m={ x=[20171, 128] },\n",
      "  \u001b[1mv_net_embed\u001b[0m={ x=[18, 128] },\n",
      "  \u001b[1mv_text_embed\u001b[0m={ x=[18, 128] },\n",
      "  \u001b[1me\u001b[0m={\n",
      "    x=[29166, 2],\n",
      "    y=[29166]\n",
      "  },\n",
      "  \u001b[1m(a, walk, a)\u001b[0m={ edge_index=[2, 90641] },\n",
      "  \u001b[1m(a, walk, p)\u001b[0m={ edge_index=[2, 89734] },\n",
      "  \u001b[1m(a, walk, v)\u001b[0m={ edge_index=[2, 28573] },\n",
      "  \u001b[1m(p, walk, a)\u001b[0m={ edge_index=[2, 65555] },\n",
      "  \u001b[1m(p, walk, p)\u001b[0m={ edge_index=[2, 66190] },\n",
      "  \u001b[1m(p, walk, v)\u001b[0m={ edge_index=[2, 19461] },\n",
      "  \u001b[1m(v, walk, a)\u001b[0m={ edge_index=[2, 90] },\n",
      "  \u001b[1m(v, walk, p)\u001b[0m={ edge_index=[2, 90] },\n",
      "  \u001b[1m(v, walk, v)\u001b[0m={ edge_index=[2, 13] }\n",
      ")\n"
     ]
    }
   ],
   "source": [
    "# data = input_data(args) \n",
    "# torch.save(data, 'data.pt')\n",
    "data = torch.load('../edge_pred/edge_pred_data.pt')\n",
    "print(data)"
   ]
  },
  {
   "cell_type": "code",
   "execution_count": 3,
   "metadata": {},
   "outputs": [
    {
     "name": "stdout",
     "output_type": "stream",
     "text": [
      "tensor([[    0,     0,     0,  ..., 20169, 20169, 20170],\n",
      "        [10523, 10550, 10395,  ...,  9100,  9274,  4378]])\n"
     ]
    }
   ],
   "source": [
    "print(data['a','walk','p'].edge_index)\n",
    "device = args.device\n",
    "# data = data.to(device)\n",
    "\n",
    "# Send all x tensors to the device\n",
    "data['p_title_embed']['x'] = data['p_title_embed']['x'].to(device)\n",
    "data['p_abstract_embed']['x'] = data['p_abstract_embed']['x'].to(device)\n",
    "data['p_net_embed']['x'] = data['p_net_embed']['x'].to(device)\n",
    "data['p_a_net_embed']['x'] = data['p_a_net_embed']['x'].to(device)\n",
    "# data['p_p_net_embed']['x'] = data['p_p_net_embed']['x'].to(device)\n",
    "data['p_v_net_embed']['x'] = data['p_v_net_embed']['x'].to(device)\n",
    "data['a_net_embed']['x'] = data['a_net_embed']['x'].to(device)\n",
    "data['a_text_embed']['x'] = data['a_text_embed']['x'].to(device)\n",
    "data['v_net_embed']['x'] = data['v_net_embed']['x'].to(device)\n",
    "data['v_text_embed']['x'] = data['v_text_embed']['x'].to(device)\n",
    "\n",
    "# Send all y tensors to the device\n",
    "data['a']['y'] = data['a']['y'].to(device)\n",
    "\n",
    "# Send all edge_index tensors to the device\n",
    "data['a', 'walk', 'a']['edge_index'] = data['a', 'walk', 'a']['edge_index'].to(device)\n",
    "data['a', 'walk', 'p']['edge_index'] = data['a', 'walk', 'p']['edge_index'].to(device)\n",
    "data['a', 'walk', 'v']['edge_index'] = data['a', 'walk', 'v']['edge_index'].to(device)\n",
    "data['p', 'walk', 'a']['edge_index'] = data['p', 'walk', 'a']['edge_index'].to(device)\n",
    "data['p', 'walk', 'p']['edge_index'] = data['p', 'walk', 'p']['edge_index'].to(device)\n",
    "data['p', 'walk', 'v']['edge_index'] = data['p', 'walk', 'v']['edge_index'].to(device)\n",
    "data['v', 'walk', 'a']['edge_index'] = data['v', 'walk', 'a']['edge_index'].to(device)\n",
    "data['v', 'walk', 'p']['edge_index'] = data['v', 'walk', 'p']['edge_index'].to(device)\n",
    "data['v', 'walk', 'v']['edge_index'] = data['v', 'walk', 'v']['edge_index'].to(device)\n",
    "\n",
    "edge_indices = [ data['a', 'walk', 'a'].edge_index, data['a', 'walk', 'p'].edge_index, data['a', 'walk', 'v'].edge_index ]"
   ]
  },
  {
   "cell_type": "code",
   "execution_count": 4,
   "metadata": {},
   "outputs": [
    {
     "name": "stdout",
     "output_type": "stream",
     "text": [
      "[50, 30, 25, 20] 125\n",
      "0 335\n",
      "1 202\n",
      "2 299\n",
      "3 289\n",
      "train_idx:  [14147, 1051, 17095, 7503, 7936, 17118, 2931, 421, 1195, 8409, 10422, 18801, 18004, 3191, 11979, 16139, 13109, 8058, 19059, 16001, 3426, 4572, 11803, 355, 5652, 4945, 18712, 7370, 5582, 4863, 7900, 17721, 7909, 9359, 10535, 15393, 3649, 19625, 3700, 11747, 6896, 3208, 3042, 17258, 9286, 6833, 8423, 7481, 18876, 5208, 9795, 4300, 18214, 15705, 5324, 8721, 1730, 17796, 13892, 7082, 11659, 9834, 12172, 17063, 19102, 11519, 11560, 16191, 6769, 590, 9688, 5002, 14009, 8272, 16326, 11823, 19784, 15679, 5488, 153, 16344, 1538, 13082, 12515, 9363, 10151, 5932, 9930, 2034, 992, 6010, 14625, 15042, 13097, 5404, 12562, 17924, 3404, 19663, 10918, 8769, 6670, 17328, 13689, 13157, 16631, 1260, 10506, 16098, 9040, 11291, 8711, 12810, 9364, 14614, 10229, 3238, 3461, 17944, 5739, 8630, 7484, 17881, 16685, 12603] 125\n",
      "val_idx:  [5782, 10442, 21, 10301, 1135, 14500, 16033, 13395, 19079, 15984, 5254, 295, 11727, 7688, 10865, 20158, 489, 14025, 4553, 15697, 7988, 151, 10692, 6233, 36, 13137, 19732, 10021, 59, 17783, 19130, 9507, 9699, 10434, 3004, 2096, 8410, 8755, 4242, 9056, 13386, 7643, 607, 3850, 13745, 17458, 2296, 18119, 8657, 6484, 11948, 17201, 13096, 3968, 11076, 16505, 215, 13265, 12878, 11915, 9926, 19659, 11530, 17253, 9709, 20047, 16062, 18492, 6566, 11220, 1319, 1255, 7752, 10339, 7196, 7569, 2444, 8113, 8346, 17947, 9247, 14798, 6616, 3960, 17368, 6116, 3495, 1268, 10741, 3060, 5525, 15291, 8436, 4932, 11190, 4330, 8420, 19283, 12375, 18371, 2675, 1002, 13074, 8890, 8232, 3446, 16623, 7308, 8784, 13942, 11061, 9789, 9986, 2504, 13844, 2752, 19516, 11451, 14683, 2455, 15593, 17126, 9387, 17807, 1811, 16881, 5606, 12161, 13231, 3413, 18120, 10371, 7556, 11547, 2441, 9376, 6950, 121, 15802, 7549, 7053, 5675, 9469, 13730, 15795, 19888, 15876, 12094, 1091, 6410, 4534, 5119, 8366, 6324, 11027, 4586, 1120, 5091, 5316, 6640, 10265, 10131, 2803, 16021, 174, 3540, 651, 16395, 14302, 7778, 8159, 657, 11858, 12128, 18182, 10349, 13810, 19597, 15079, 5352, 19878, 10886, 18747, 16115, 15979, 297, 16274, 10352, 19728, 6657, 14442, 18418, 111, 13228, 8646, 5718, 14559, 5209, 4566, 7210, 10142, 13635, 14436, 14772, 8885, 2918, 19618, 19863, 20170, 12263, 2071, 11500, 17446, 6735, 15445, 11345, 12035, 6716, 3755, 15163] 220\n",
      "test_idx:  [6236, 5820, 4856, 9923, 8796, 12599, 917, 16374, 4325, 11966, 5050, 3596, 848, 6837, 1149, 19186, 4327, 3893, 3869, 17838, 16232, 10984, 7412, 9740, 12974, 19506, 630, 12842, 4719, 9990, 7070, 10777, 14682, 8072, 9180, 296, 384, 7069, 17386, 11409, 9855, 13072, 13934, 17692, 13107, 15168, 19661, 3842, 4578, 12589, 11195, 1119, 19791, 1381, 15999, 950, 3535, 1494, 13132, 8308, 10526, 19234, 3289, 16337, 4765, 16279, 8835, 9844, 11665, 753, 17781, 15651, 7518, 6710, 4095, 19282, 13200, 11406, 2782, 1292, 14327, 13577, 15203, 12494, 18155, 8151, 9411, 5073, 3121, 13084, 17090, 10797, 13610, 16371, 8666, 15205, 14619, 19809, 14760, 15365, 9223, 15127, 205, 1028, 8882, 15791, 2090, 407, 19066, 2579, 8507, 16278, 17900, 15569, 10819, 12648, 4844, 9342, 3370, 3512, 10610, 17356, 4743, 7786, 15057, 12302, 4470, 2532, 254, 14560, 15824, 9029, 3743, 3396, 18885, 3003, 11434, 12019, 521, 18798, 6050, 13302, 7621, 13007, 7125, 14416, 8884, 116, 5680, 3442, 18866, 10813, 18809, 1632, 6102, 12056, 10701, 17998, 14707, 15237, 6158, 13373, 10724, 9782, 13529, 18849, 14011, 9658, 6520, 16357, 14825, 15521, 16449, 11456, 14564, 19813, 10953, 15019, 12250, 10032, 10086, 10435, 14429, 9390, 10801, 7212, 1219, 11735, 16477, 1044, 17604, 10457, 19529, 17629, 1313, 12858, 6433, 14004, 11859, 16069, 11894, 13015, 11408, 1510, 12946, 6632, 1108, 1151, 14313, 9573, 10331, 11625, 18608, 6408, 17308, 2643, 13677, 1944, 9802, 14987, 11567, 6972, 16654, 18560, 4500, 13552, 16551, 13790, 1348, 1658, 6719, 432, 12517, 1943, 5452, 7927, 7513, 16812, 16562, 1350, 6133, 14380, 8862, 7309, 2158, 10564, 14309, 1881, 11838, 15060, 10967, 15304, 7764, 6891, 7652, 4024, 16693, 9727, 17594, 18454, 14513, 16664, 7325, 10115, 10875, 7531, 2978, 18068, 7731, 13507, 11463, 10597, 6597, 3174, 20069, 19004, 9174, 15206, 8856, 14409, 6638, 18499, 15574, 12373, 12458, 18225, 17635, 2298, 14642, 1307, 13165, 19337, 9430, 18942, 15986, 17071, 11299, 17634, 9566, 18467] 300\n"
     ]
    }
   ],
   "source": [
    "c_train_num = dl.train_num(data['a'].y, args.im_class_num, args.class_samp_num[0], args.im_ratio)\n",
    "print(c_train_num, sum(c_train_num))\n",
    "train_idx, val_idx, test_idx, c_num_mat = dl.segregate(data['a'].y, c_train_num, args)\n",
    "print(\"train_idx: \", train_idx, len(train_idx))\n",
    "print(\"val_idx: \", val_idx, len(val_idx))\n",
    "print(\"test_idx: \", test_idx, len(test_idx))\n",
    "# print(c_num_mat)"
   ]
  },
  {
   "cell_type": "code",
   "execution_count": 5,
   "metadata": {},
   "outputs": [],
   "source": [
    "# os_mode = 'up'\n",
    "# portion = sum(c_train_num)/(4*c_train_num[1])\n",
    "# if os_mode != 'reweight' and os_mode != 'no':\n",
    "#     if portion >= 1:\n",
    "#         args.node_dim[0] = args.A_n + (portion-1)*c_train_num[1] + int((portion - int(portion))*c_train_num[1])\n",
    "#     else:\n",
    "#         args.node_dim[0] = args.A_n + int((portion - int(portion))*c_train_num[1])\n",
    "\n",
    "# args.node_dim[0] += 22"
   ]
  },
  {
   "cell_type": "code",
   "execution_count": 6,
   "metadata": {},
   "outputs": [],
   "source": [
    "encoder = Het_En(args.embed_dim, args.dropout)\n",
    "encoder2 = encoder2(args.embed_dim, args.dropout)\n",
    "classifier = Het_classify(args.embed_dim, args.nclass, args.dropout)\n",
    "decoder_a = EdgePredictor(args.embed_dim)\n",
    "decoder_p = EdgePredictor(args.embed_dim)\n",
    "decoder_v = EdgePredictor(args.embed_dim)\n",
    "decoder_list = [decoder_a, decoder_p, decoder_v]\n",
    "\n",
    "decoder_pa = EdgePredictor(args.embed_dim)\n",
    "decoder_pp = EdgePredictor(args.embed_dim)\n",
    "decoder_pv = EdgePredictor(args.embed_dim)\n",
    "decoder_list2 = [decoder_pa, decoder_pp, decoder_pv]\n",
    "#print(features.shape)\n",
    "encoder.to(device)\n",
    "encoder2.to(device)\n",
    "classifier.to(device)\n",
    "for decoder in decoder_list:\n",
    "    decoder.to(device)\n",
    "for decoder in decoder_list2:\n",
    "    decoder.to(device)"
   ]
  },
  {
   "cell_type": "markdown",
   "metadata": {},
   "source": [
    "## Training Part"
   ]
  },
  {
   "cell_type": "code",
   "execution_count": 7,
   "metadata": {},
   "outputs": [
    {
     "name": "stdout",
     "output_type": "stream",
     "text": [
      "Epoch [1/200], Loss: 1.4189, Accuracy: 0.2063, Edge Accuracy: ([0.9998607685361991, 0.9998768491660454, 0.9999972457708812], [0.9997812327243577, 0.9997821003915984, 0.9448385744234801])\n",
      "Class 0: AUC-ROC- 0.6183, F1 Score- 0.0000; Class 1: AUC-ROC- 0.4537, F1 Score- 0.3949; Class 2: AUC-ROC- 0.5576, F1 Score- 0.0000; Class 3: AUC-ROC- 0.4231, F1 Score- 0.0000; Macro-Average AUC-ROC: 0.5132; Macro-Average F1 Score: 0.0987\n",
      "Validation Loss: 1.3859, Validation Accuracy: 0.2773, Validation Edge Accuracy: ([], [])\n",
      "Class 0: AUC-ROC- 0.6966, F1 Score- 0.0000; Class 1: AUC-ROC- 0.5104, F1 Score- 0.4000; Class 2: AUC-ROC- 0.6396, F1 Score- 0.0000; Class 3: AUC-ROC- 0.3675, F1 Score- 0.0000; Macro-Average AUC-ROC: 0.5535; Macro-Average F1 Score: 0.1000\n",
      "Test Loss: 1.3843, Test Accuracy: 0.3100, Test Edge Accuracy: ([], [])\n",
      "Class 0: AUC-ROC- 0.7095, F1 Score- 0.0000; Class 1: AUC-ROC- 0.5742, F1 Score- 0.4000; Class 2: AUC-ROC- 0.7345, F1 Score- 0.0000; Class 3: AUC-ROC- 0.3668, F1 Score- 0.0000; Macro-Average AUC-ROC: 0.5963; Macro-Average F1 Score: 0.1000\n",
      "\n",
      "Epoch [11/200], Loss: 1.3545, Accuracy: 0.7937, Edge Accuracy: ([0.999838338725635, 0.999970052279426, 1.0], [0.9997547197873278, 0.9997132246351015, 0.9749601677148847])\n",
      "Class 0: AUC-ROC- 0.9968, F1 Score- 0.9600; Class 1: AUC-ROC- 0.9959, F1 Score- 0.3949; Class 2: AUC-ROC- 0.9790, F1 Score- 0.0000; Class 3: AUC-ROC- 0.9382, F1 Score- 0.0000; Macro-Average AUC-ROC: 0.9775; Macro-Average F1 Score: 0.3387\n",
      "Validation Loss: 1.3502, Validation Accuracy: 0.6364, Validation Edge Accuracy: ([], [])\n",
      "Class 0: AUC-ROC- 0.9989, F1 Score- 0.8397; Class 1: AUC-ROC- 0.9892, F1 Score- 0.4000; Class 2: AUC-ROC- 0.9219, F1 Score- 0.0000; Class 3: AUC-ROC- 0.9075, F1 Score- 0.0000; Macro-Average AUC-ROC: 0.9544; Macro-Average F1 Score: 0.3099\n",
      "Test Loss: 1.3472, Test Accuracy: 0.6700, Test Edge Accuracy: ([], [])\n",
      "Class 0: AUC-ROC- 0.9992, F1 Score- 0.8721; Class 1: AUC-ROC- 0.9870, F1 Score- 0.4000; Class 2: AUC-ROC- 0.9529, F1 Score- 0.0000; Class 3: AUC-ROC- 0.9346, F1 Score- 0.0000; Macro-Average AUC-ROC: 0.9684; Macro-Average F1 Score: 0.3180\n",
      "\n",
      "Epoch [21/200], Loss: 1.2927, Accuracy: 0.8333, Edge Accuracy: ([0.9997985052893197, 0.9999835631763516, 1.0], [0.9997547197873278, 0.9996802335350659, 0.9975513626834381])\n",
      "Class 0: AUC-ROC- 0.9995, F1 Score- 0.9009; Class 1: AUC-ROC- 1.0000, F1 Score- 0.3949; Class 2: AUC-ROC- 0.9877, F1 Score- 0.5294; Class 3: AUC-ROC- 0.9943, F1 Score- 0.0000; Macro-Average AUC-ROC: 0.9954; Macro-Average F1 Score: 0.4563\n",
      "Validation Loss: 1.2977, Validation Accuracy: 0.7182, Validation Edge Accuracy: ([], [])\n",
      "Class 0: AUC-ROC- 0.9999, F1 Score- 0.7971; Class 1: AUC-ROC- 0.9997, F1 Score- 0.4000; Class 2: AUC-ROC- 0.9593, F1 Score- 0.3077; Class 3: AUC-ROC- 0.9700, F1 Score- 0.0000; Macro-Average AUC-ROC: 0.9822; Macro-Average F1 Score: 0.3762\n",
      "Test Loss: 1.2935, Test Accuracy: 0.7333, Test Edge Accuracy: ([], [])\n",
      "Class 0: AUC-ROC- 0.9999, F1 Score- 0.8197; Class 1: AUC-ROC- 0.9957, F1 Score- 0.4000; Class 2: AUC-ROC- 0.9701, F1 Score- 0.4330; Class 3: AUC-ROC- 0.9858, F1 Score- 0.0000; Macro-Average AUC-ROC: 0.9879; Macro-Average F1 Score: 0.4132\n",
      "\n",
      "Epoch [31/200], Loss: 1.2269, Accuracy: 0.8175, Edge Accuracy: ([0.999792323942227, 0.9999879707744072, 1.0], [0.9997547197873278, 0.9997255507297971, 1.0])\n",
      "Class 0: AUC-ROC- 0.9992, F1 Score- 0.9899; Class 1: AUC-ROC- 1.0000, F1 Score- 0.3949; Class 2: AUC-ROC- 0.9949, F1 Score- 0.8889; Class 3: AUC-ROC- 0.9995, F1 Score- 0.0000; Macro-Average AUC-ROC: 0.9984; Macro-Average F1 Score: 0.5684\n",
      "Validation Loss: 1.2294, Validation Accuracy: 0.7364, Validation Edge Accuracy: ([], [])\n",
      "Class 0: AUC-ROC- 0.9999, F1 Score- 0.9910; Class 1: AUC-ROC- 0.9998, F1 Score- 0.4000; Class 2: AUC-ROC- 0.9689, F1 Score- 0.8596; Class 3: AUC-ROC- 0.9842, F1 Score- 0.0000; Macro-Average AUC-ROC: 0.9882; Macro-Average F1 Score: 0.5627\n",
      "Test Loss: 1.2267, Test Accuracy: 0.7433, Test Edge Accuracy: ([], [])\n",
      "Class 0: AUC-ROC- 0.9999, F1 Score- 0.9868; Class 1: AUC-ROC- 0.9980, F1 Score- 0.4000; Class 2: AUC-ROC- 0.9793, F1 Score- 0.8861; Class 3: AUC-ROC- 0.9934, F1 Score- 0.0000; Macro-Average AUC-ROC: 0.9927; Macro-Average F1 Score: 0.5682\n",
      "\n",
      "Epoch [41/200], Loss: 1.1762, Accuracy: 0.8730, Edge Accuracy: ([0.9997973943672975, 0.999995218242517, 1.0], [0.9997547197873278, 0.9997912481310075, 1.0])\n",
      "Class 0: AUC-ROC- 1.0000, F1 Score- 0.9899; Class 1: AUC-ROC- 1.0000, F1 Score- 0.4106; Class 2: AUC-ROC- 0.9984, F1 Score- 0.9259; Class 3: AUC-ROC- 1.0000, F1 Score- 0.0000; Macro-Average AUC-ROC: 0.9996; Macro-Average F1 Score: 0.5816\n",
      "Validation Loss: 1.1799, Validation Accuracy: 0.8182, Validation Edge Accuracy: ([], [])\n",
      "Class 0: AUC-ROC- 0.9999, F1 Score- 0.9910; Class 1: AUC-ROC- 0.9999, F1 Score- 0.4198; Class 2: AUC-ROC- 0.9760, F1 Score- 0.8814; Class 3: AUC-ROC- 0.9924, F1 Score- 0.0000; Macro-Average AUC-ROC: 0.9920; Macro-Average F1 Score: 0.5730\n",
      "Test Loss: 1.1787, Test Accuracy: 0.7933, Test Edge Accuracy: ([], [])\n",
      "Class 0: AUC-ROC- 0.9999, F1 Score- 0.9868; Class 1: AUC-ROC- 0.9980, F1 Score- 0.4213; Class 2: AUC-ROC- 0.9851, F1 Score- 0.8727; Class 3: AUC-ROC- 0.9970, F1 Score- 0.0000; Macro-Average AUC-ROC: 0.9950; Macro-Average F1 Score: 0.5702\n",
      "\n",
      "Epoch [51/200], Loss: 1.1413, Accuracy: 0.9444, Edge Accuracy: ([0.9997956124680362, 0.9999997156388352, 1.0], [0.9997547197873278, 0.9997888387326451, 1.0])\n",
      "Class 0: AUC-ROC- 1.0000, F1 Score- 1.0000; Class 1: AUC-ROC- 1.0000, F1 Score- 0.5487; Class 2: AUC-ROC- 0.9996, F1 Score- 0.9434; Class 3: AUC-ROC- 1.0000, F1 Score- 0.0000; Macro-Average AUC-ROC: 0.9999; Macro-Average F1 Score: 0.6230\n",
      "Validation Loss: 1.1465, Validation Accuracy: 0.8955, Validation Edge Accuracy: ([], [])\n",
      "Class 0: AUC-ROC- 0.9999, F1 Score- 0.9910; Class 1: AUC-ROC- 0.9998, F1 Score- 0.5164; Class 2: AUC-ROC- 0.9802, F1 Score- 0.8966; Class 3: AUC-ROC- 0.9950, F1 Score- 0.0000; Macro-Average AUC-ROC: 0.9937; Macro-Average F1 Score: 0.6010\n",
      "Test Loss: 1.1471, Test Accuracy: 0.8767, Test Edge Accuracy: ([], [])\n",
      "Class 0: AUC-ROC- 0.9999, F1 Score- 0.9804; Class 1: AUC-ROC- 0.9976, F1 Score- 0.5085; Class 2: AUC-ROC- 0.9878, F1 Score- 0.9012; Class 3: AUC-ROC- 0.9981, F1 Score- 0.0000; Macro-Average AUC-ROC: 0.9959; Macro-Average F1 Score: 0.5975\n",
      "\n",
      "Epoch [61/200], Loss: 1.1182, Accuracy: 0.9841, Edge Accuracy: ([0.9997982300166063, 1.0, 1.0], [0.9997547197873278, 0.9997809213243147, 1.0])\n",
      "Class 0: AUC-ROC- 1.0000, F1 Score- 1.0000; Class 1: AUC-ROC- 1.0000, F1 Score- 0.7654; Class 2: AUC-ROC- 1.0000, F1 Score- 0.9615; Class 3: AUC-ROC- 1.0000, F1 Score- 0.0000; Macro-Average AUC-ROC: 1.0000; Macro-Average F1 Score: 0.6817\n",
      "Validation Loss: 1.1253, Validation Accuracy: 0.9364, Validation Edge Accuracy: ([], [])\n",
      "Class 0: AUC-ROC- 0.9999, F1 Score- 0.9910; Class 1: AUC-ROC- 0.9998, F1 Score- 0.6358; Class 2: AUC-ROC- 0.9809, F1 Score- 0.9369; Class 3: AUC-ROC- 0.9959, F1 Score- 0.0000; Macro-Average AUC-ROC: 0.9941; Macro-Average F1 Score: 0.6409\n",
      "Test Loss: 1.1262, Test Accuracy: 0.9367, Test Edge Accuracy: ([], [])\n",
      "Class 0: AUC-ROC- 0.9999, F1 Score- 0.9868; Class 1: AUC-ROC- 0.9977, F1 Score- 0.6550; Class 2: AUC-ROC- 0.9901, F1 Score- 0.9241; Class 3: AUC-ROC- 0.9990, F1 Score- 0.0000; Macro-Average AUC-ROC: 0.9967; Macro-Average F1 Score: 0.6415\n",
      "\n",
      "Epoch [71/200], Loss: 1.1029, Accuracy: 0.9841, Edge Accuracy: ([0.9998008328184238, 1.0, 1.0], [0.9997547197873278, 0.9997782726949093, 1.0])\n",
      "Class 0: AUC-ROC- 1.0000, F1 Score- 1.0000; Class 1: AUC-ROC- 1.0000, F1 Score- 0.7949; Class 2: AUC-ROC- 1.0000, F1 Score- 0.9615; Class 3: AUC-ROC- 1.0000, F1 Score- 0.8571; Macro-Average AUC-ROC: 1.0000; Macro-Average F1 Score: 0.9034\n",
      "Validation Loss: 1.1118, Validation Accuracy: 0.9591, Validation Edge Accuracy: ([], [])\n",
      "Class 0: AUC-ROC- 0.9999, F1 Score- 0.9910; Class 1: AUC-ROC- 0.9998, F1 Score- 0.6627; Class 2: AUC-ROC- 0.9828, F1 Score- 0.9455; Class 3: AUC-ROC- 0.9968, F1 Score- 0.7059; Macro-Average AUC-ROC: 0.9948; Macro-Average F1 Score: 0.8262\n",
      "Test Loss: 1.1126, Test Accuracy: 0.9600, Test Edge Accuracy: ([], [])\n",
      "Class 0: AUC-ROC- 0.9999, F1 Score- 0.9868; Class 1: AUC-ROC- 0.9987, F1 Score- 0.6787; Class 2: AUC-ROC- 0.9913, F1 Score- 0.9299; Class 3: AUC-ROC- 0.9992, F1 Score- 0.5149; Macro-Average AUC-ROC: 0.9973; Macro-Average F1 Score: 0.7776\n",
      "\n",
      "Epoch [81/200], Loss: 1.0917, Accuracy: 0.9921, Edge Accuracy: ([0.9997993507697969, 1.0, 1.0], [0.9997547197873278, 0.9997775948736205, 1.0])\n",
      "Class 0: AUC-ROC- 1.0000, F1 Score- 1.0000; Class 1: AUC-ROC- 1.0000, F1 Score- 0.8732; Class 2: AUC-ROC- 1.0000, F1 Score- 0.9804; Class 3: AUC-ROC- 1.0000, F1 Score- 0.9189; Macro-Average AUC-ROC: 1.0000; Macro-Average F1 Score: 0.9431\n",
      "Validation Loss: 1.1013, Validation Accuracy: 0.9636, Validation Edge Accuracy: ([], [])\n",
      "Class 0: AUC-ROC- 0.9999, F1 Score- 0.9910; Class 1: AUC-ROC- 0.9999, F1 Score- 0.7006; Class 2: AUC-ROC- 0.9840, F1 Score- 0.9455; Class 3: AUC-ROC- 0.9974, F1 Score- 0.8542; Macro-Average AUC-ROC: 0.9953; Macro-Average F1 Score: 0.8728\n",
      "Test Loss: 1.1021, Test Accuracy: 0.9633, Test Edge Accuracy: ([], [])\n",
      "Class 0: AUC-ROC- 0.9999, F1 Score- 0.9868; Class 1: AUC-ROC- 0.9985, F1 Score- 0.7109; Class 2: AUC-ROC- 0.9919, F1 Score- 0.9359; Class 3: AUC-ROC- 0.9992, F1 Score- 0.7903; Macro-Average AUC-ROC: 0.9974; Macro-Average F1 Score: 0.8560\n",
      "\n",
      "Epoch [91/200], Loss: 1.0823, Accuracy: 0.9921, Edge Accuracy: ([0.9997999185197683, 1.0, 1.0], [0.9997547197873278, 0.9997813599145603, 1.0])\n",
      "Class 0: AUC-ROC- 1.0000, F1 Score- 1.0000; Class 1: AUC-ROC- 1.0000, F1 Score- 0.9394; Class 2: AUC-ROC- 1.0000, F1 Score- 1.0000; Class 3: AUC-ROC- 1.0000, F1 Score- 0.9744; Macro-Average AUC-ROC: 1.0000; Macro-Average F1 Score: 0.9784\n",
      "Validation Loss: 1.0934, Validation Accuracy: 0.9682, Validation Edge Accuracy: ([], [])\n",
      "Class 0: AUC-ROC- 0.9999, F1 Score- 0.9910; Class 1: AUC-ROC- 1.0000, F1 Score- 0.7285; Class 2: AUC-ROC- 0.9846, F1 Score- 0.9455; Class 3: AUC-ROC- 0.9974, F1 Score- 0.9000; Macro-Average AUC-ROC: 0.9955; Macro-Average F1 Score: 0.8912\n",
      "Test Loss: 1.0941, Test Accuracy: 0.9667, Test Edge Accuracy: ([], [])\n",
      "Class 0: AUC-ROC- 0.9999, F1 Score- 0.9868; Class 1: AUC-ROC- 0.9986, F1 Score- 0.7426; Class 2: AUC-ROC- 0.9924, F1 Score- 0.9542; Class 3: AUC-ROC- 0.9993, F1 Score- 0.8722; Macro-Average AUC-ROC: 0.9976; Macro-Average F1 Score: 0.8890\n",
      "\n",
      "Epoch [101/200], Loss: 1.0738, Accuracy: 1.0000, Edge Accuracy: ([0.9998005280522053, 1.0, 1.0], [0.9997547197873278, 0.9997844471342114, 1.0])\n",
      "Class 0: AUC-ROC- 1.0000, F1 Score- 1.0000; Class 1: AUC-ROC- 1.0000, F1 Score- 0.9538; Class 2: AUC-ROC- 1.0000, F1 Score- 1.0000; Class 3: AUC-ROC- 1.0000, F1 Score- 1.0000; Macro-Average AUC-ROC: 1.0000; Macro-Average F1 Score: 0.9885\n",
      "Validation Loss: 1.0859, Validation Accuracy: 0.9682, Validation Edge Accuracy: ([], [])\n",
      "Class 0: AUC-ROC- 0.9999, F1 Score- 0.9821; Class 1: AUC-ROC- 1.0000, F1 Score- 0.7383; Class 2: AUC-ROC- 0.9847, F1 Score- 0.9550; Class 3: AUC-ROC- 0.9977, F1 Score- 0.9109; Macro-Average AUC-ROC: 0.9956; Macro-Average F1 Score: 0.8966\n",
      "Test Loss: 1.0867, Test Accuracy: 0.9700, Test Edge Accuracy: ([], [])\n",
      "Class 0: AUC-ROC- 0.9999, F1 Score- 0.9868; Class 1: AUC-ROC- 0.9986, F1 Score- 0.7614; Class 2: AUC-ROC- 0.9922, F1 Score- 0.9542; Class 3: AUC-ROC- 0.9994, F1 Score- 0.8889; Macro-Average AUC-ROC: 0.9975; Macro-Average F1 Score: 0.8979\n",
      "\n",
      "Epoch [111/200], Loss: 1.0653, Accuracy: 1.0000, Edge Accuracy: ([0.9997990435457863, 1.0, 1.0], [0.9997547197873278, 0.999785438234247, 1.0])\n",
      "Class 0: AUC-ROC- 1.0000, F1 Score- 1.0000; Class 1: AUC-ROC- 1.0000, F1 Score- 1.0000; Class 2: AUC-ROC- 1.0000, F1 Score- 1.0000; Class 3: AUC-ROC- 1.0000, F1 Score- 1.0000; Macro-Average AUC-ROC: 1.0000; Macro-Average F1 Score: 1.0000\n",
      "Validation Loss: 1.0786, Validation Accuracy: 0.9727, Validation Edge Accuracy: ([], [])\n",
      "Class 0: AUC-ROC- 0.9999, F1 Score- 0.9821; Class 1: AUC-ROC- 1.0000, F1 Score- 0.7914; Class 2: AUC-ROC- 0.9846, F1 Score- 0.9455; Class 3: AUC-ROC- 0.9977, F1 Score- 0.9216; Macro-Average AUC-ROC: 0.9955; Macro-Average F1 Score: 0.9101\n",
      "Test Loss: 1.0793, Test Accuracy: 0.9733, Test Edge Accuracy: ([], [])\n",
      "Class 0: AUC-ROC- 0.9999, F1 Score- 0.9868; Class 1: AUC-ROC- 0.9986, F1 Score- 0.7937; Class 2: AUC-ROC- 0.9919, F1 Score- 0.9481; Class 3: AUC-ROC- 0.9994, F1 Score- 0.9130; Macro-Average AUC-ROC: 0.9975; Macro-Average F1 Score: 0.9104\n",
      "\n",
      "Epoch [121/200], Loss: 1.0569, Accuracy: 1.0000, Edge Accuracy: ([0.9997999308087288, 1.0, 1.0], [0.9997547197873278, 0.999778477750089, 1.0])\n",
      "Class 0: AUC-ROC- 1.0000, F1 Score- 1.0000; Class 1: AUC-ROC- 1.0000, F1 Score- 1.0000; Class 2: AUC-ROC- 1.0000, F1 Score- 1.0000; Class 3: AUC-ROC- 1.0000, F1 Score- 1.0000; Macro-Average AUC-ROC: 1.0000; Macro-Average F1 Score: 1.0000\n",
      "Validation Loss: 1.0711, Validation Accuracy: 0.9682, Validation Edge Accuracy: ([], [])\n",
      "Class 0: AUC-ROC- 0.9999, F1 Score- 0.9821; Class 1: AUC-ROC- 1.0000, F1 Score- 0.8088; Class 2: AUC-ROC- 0.9845, F1 Score- 0.9455; Class 3: AUC-ROC- 0.9976, F1 Score- 0.9320; Macro-Average AUC-ROC: 0.9955; Macro-Average F1 Score: 0.9171\n",
      "Test Loss: 1.0719, Test Accuracy: 0.9767, Test Edge Accuracy: ([], [])\n",
      "Class 0: AUC-ROC- 0.9999, F1 Score- 0.9868; Class 1: AUC-ROC- 0.9986, F1 Score- 0.8108; Class 2: AUC-ROC- 0.9921, F1 Score- 0.9481; Class 3: AUC-ROC- 0.9993, F1 Score- 0.9209; Macro-Average AUC-ROC: 0.9975; Macro-Average F1 Score: 0.9166\n",
      "\n",
      "Epoch [131/200], Loss: 1.0494, Accuracy: 1.0000, Edge Accuracy: ([0.9998015455781284, 1.0, 1.0], [0.9997547197873278, 0.999780084015664, 1.0])\n",
      "Class 0: AUC-ROC- 1.0000, F1 Score- 1.0000; Class 1: AUC-ROC- 1.0000, F1 Score- 1.0000; Class 2: AUC-ROC- 1.0000, F1 Score- 1.0000; Class 3: AUC-ROC- 1.0000, F1 Score- 1.0000; Macro-Average AUC-ROC: 1.0000; Macro-Average F1 Score: 1.0000\n",
      "Validation Loss: 1.0644, Validation Accuracy: 0.9682, Validation Edge Accuracy: ([], [])\n",
      "Class 0: AUC-ROC- 0.9999, F1 Score- 0.9821; Class 1: AUC-ROC- 1.0000, F1 Score- 0.8397; Class 2: AUC-ROC- 0.9849, F1 Score- 0.9455; Class 3: AUC-ROC- 0.9975, F1 Score- 0.9320; Macro-Average AUC-ROC: 0.9956; Macro-Average F1 Score: 0.9248\n",
      "Test Loss: 1.0651, Test Accuracy: 0.9800, Test Edge Accuracy: ([], [])\n",
      "Class 0: AUC-ROC- 0.9999, F1 Score- 0.9868; Class 1: AUC-ROC- 0.9985, F1 Score- 0.8242; Class 2: AUC-ROC- 0.9921, F1 Score- 0.9548; Class 3: AUC-ROC- 0.9993, F1 Score- 0.9437; Macro-Average AUC-ROC: 0.9975; Macro-Average F1 Score: 0.9274\n",
      "\n",
      "Epoch [141/200], Loss: 1.0423, Accuracy: 1.0000, Edge Accuracy: ([0.9998006214483046, 1.0, 1.0], [0.9997547197873278, 0.9997886450694197, 1.0])\n",
      "Class 0: AUC-ROC- 1.0000, F1 Score- 1.0000; Class 1: AUC-ROC- 1.0000, F1 Score- 1.0000; Class 2: AUC-ROC- 1.0000, F1 Score- 1.0000; Class 3: AUC-ROC- 1.0000, F1 Score- 1.0000; Macro-Average AUC-ROC: 1.0000; Macro-Average F1 Score: 1.0000\n",
      "Validation Loss: 1.0584, Validation Accuracy: 0.9636, Validation Edge Accuracy: ([], [])\n",
      "Class 0: AUC-ROC- 0.9999, F1 Score- 0.9821; Class 1: AUC-ROC- 1.0000, F1 Score- 0.8271; Class 2: AUC-ROC- 0.9849, F1 Score- 0.9455; Class 3: AUC-ROC- 0.9977, F1 Score- 0.9423; Macro-Average AUC-ROC: 0.9956; Macro-Average F1 Score: 0.9242\n",
      "Test Loss: 1.0590, Test Accuracy: 0.9767, Test Edge Accuracy: ([], [])\n",
      "Class 0: AUC-ROC- 0.9999, F1 Score- 0.9868; Class 1: AUC-ROC- 0.9986, F1 Score- 0.8287; Class 2: AUC-ROC- 0.9920, F1 Score- 0.9548; Class 3: AUC-ROC- 0.9993, F1 Score- 0.9437; Macro-Average AUC-ROC: 0.9975; Macro-Average F1 Score: 0.9285\n",
      "\n",
      "Epoch [151/200], Loss: 1.0354, Accuracy: 1.0000, Edge Accuracy: ([0.9997999037730159, 1.0, 1.0], [0.9997547197873278, 0.9997926835172659, 1.0])\n",
      "Class 0: AUC-ROC- 1.0000, F1 Score- 1.0000; Class 1: AUC-ROC- 1.0000, F1 Score- 1.0000; Class 2: AUC-ROC- 1.0000, F1 Score- 1.0000; Class 3: AUC-ROC- 1.0000, F1 Score- 1.0000; Macro-Average AUC-ROC: 1.0000; Macro-Average F1 Score: 1.0000\n",
      "Validation Loss: 1.0525, Validation Accuracy: 0.9591, Validation Edge Accuracy: ([], [])\n",
      "Class 0: AUC-ROC- 0.9999, F1 Score- 0.9821; Class 1: AUC-ROC- 1.0000, F1 Score- 0.8462; Class 2: AUC-ROC- 0.9847, F1 Score- 0.9455; Class 3: AUC-ROC- 0.9976, F1 Score- 0.9423; Macro-Average AUC-ROC: 0.9955; Macro-Average F1 Score: 0.9290\n",
      "Test Loss: 1.0531, Test Accuracy: 0.9767, Test Edge Accuracy: ([], [])\n",
      "Class 0: AUC-ROC- 0.9999, F1 Score- 0.9868; Class 1: AUC-ROC- 0.9986, F1 Score- 0.8287; Class 2: AUC-ROC- 0.9919, F1 Score- 0.9548; Class 3: AUC-ROC- 0.9993, F1 Score- 0.9510; Macro-Average AUC-ROC: 0.9975; Macro-Average F1 Score: 0.9304\n",
      "\n",
      "Epoch [161/200], Loss: 1.0276, Accuracy: 1.0000, Edge Accuracy: ([0.9998022263865358, 1.0, 1.0], [0.9997547197873278, 0.9997973314346743, 1.0])\n",
      "Class 0: AUC-ROC- 1.0000, F1 Score- 1.0000; Class 1: AUC-ROC- 1.0000, F1 Score- 1.0000; Class 2: AUC-ROC- 1.0000, F1 Score- 1.0000; Class 3: AUC-ROC- 1.0000, F1 Score- 1.0000; Macro-Average AUC-ROC: 1.0000; Macro-Average F1 Score: 1.0000\n",
      "Validation Loss: 1.0461, Validation Accuracy: 0.9591, Validation Edge Accuracy: ([], [])\n",
      "Class 0: AUC-ROC- 0.9999, F1 Score- 0.9821; Class 1: AUC-ROC- 1.0000, F1 Score- 0.8527; Class 2: AUC-ROC- 0.9845, F1 Score- 0.9455; Class 3: AUC-ROC- 0.9974, F1 Score- 0.9423; Macro-Average AUC-ROC: 0.9954; Macro-Average F1 Score: 0.9307\n",
      "Test Loss: 1.0469, Test Accuracy: 0.9733, Test Edge Accuracy: ([], [])\n",
      "Class 0: AUC-ROC- 0.9999, F1 Score- 0.9868; Class 1: AUC-ROC- 0.9986, F1 Score- 0.8287; Class 2: AUC-ROC- 0.9915, F1 Score- 0.9548; Class 3: AUC-ROC- 0.9993, F1 Score- 0.9437; Macro-Average AUC-ROC: 0.9973; Macro-Average F1 Score: 0.9285\n",
      "\n",
      "Epoch [171/200], Loss: 1.0195, Accuracy: 1.0000, Edge Accuracy: ([0.9998012186917812, 1.0, 1.0], [0.9997547197873278, 0.9997965283018868, 1.0])\n",
      "Class 0: AUC-ROC- 1.0000, F1 Score- 1.0000; Class 1: AUC-ROC- 1.0000, F1 Score- 1.0000; Class 2: AUC-ROC- 1.0000, F1 Score- 1.0000; Class 3: AUC-ROC- 1.0000, F1 Score- 1.0000; Macro-Average AUC-ROC: 1.0000; Macro-Average F1 Score: 1.0000\n",
      "Validation Loss: 1.0385, Validation Accuracy: 0.9591, Validation Edge Accuracy: ([], [])\n",
      "Class 0: AUC-ROC- 0.9999, F1 Score- 0.9821; Class 1: AUC-ROC- 1.0000, F1 Score- 0.8661; Class 2: AUC-ROC- 0.9849, F1 Score- 0.9550; Class 3: AUC-ROC- 0.9971, F1 Score- 0.9423; Macro-Average AUC-ROC: 0.9955; Macro-Average F1 Score: 0.9364\n",
      "Test Loss: 1.0392, Test Accuracy: 0.9767, Test Edge Accuracy: ([], [])\n",
      "Class 0: AUC-ROC- 0.9999, F1 Score- 0.9868; Class 1: AUC-ROC- 0.9985, F1 Score- 0.8427; Class 2: AUC-ROC- 0.9919, F1 Score- 0.9542; Class 3: AUC-ROC- 0.9993, F1 Score- 0.9583; Macro-Average AUC-ROC: 0.9974; Macro-Average F1 Score: 0.9355\n",
      "\n",
      "Epoch [181/200], Loss: 1.0125, Accuracy: 1.0000, Edge Accuracy: ([0.999797438607555, 1.0, 1.0], [0.9997547197873278, 0.9997968529725881, 1.0])\n",
      "Class 0: AUC-ROC- 1.0000, F1 Score- 1.0000; Class 1: AUC-ROC- 1.0000, F1 Score- 1.0000; Class 2: AUC-ROC- 1.0000, F1 Score- 1.0000; Class 3: AUC-ROC- 1.0000, F1 Score- 1.0000; Macro-Average AUC-ROC: 1.0000; Macro-Average F1 Score: 1.0000\n",
      "Validation Loss: 1.0326, Validation Accuracy: 0.9591, Validation Edge Accuracy: ([], [])\n",
      "Class 0: AUC-ROC- 0.9999, F1 Score- 0.9821; Class 1: AUC-ROC- 1.0000, F1 Score- 0.8730; Class 2: AUC-ROC- 0.9845, F1 Score- 0.9358; Class 3: AUC-ROC- 0.9976, F1 Score- 0.9423; Macro-Average AUC-ROC: 0.9955; Macro-Average F1 Score: 0.9333\n",
      "Test Loss: 1.0333, Test Accuracy: 0.9767, Test Edge Accuracy: ([], [])\n",
      "Class 0: AUC-ROC- 0.9999, F1 Score- 0.9868; Class 1: AUC-ROC- 0.9987, F1 Score- 0.8427; Class 2: AUC-ROC- 0.9916, F1 Score- 0.9542; Class 3: AUC-ROC- 0.9993, F1 Score- 0.9583; Macro-Average AUC-ROC: 0.9974; Macro-Average F1 Score: 0.9355\n",
      "\n",
      "Epoch [191/200], Loss: 1.0058, Accuracy: 1.0000, Edge Accuracy: ([0.9997973181757428, 1.0, 1.0], [0.9997547197873278, 0.9998062228551086, 1.0])\n",
      "Class 0: AUC-ROC- 1.0000, F1 Score- 1.0000; Class 1: AUC-ROC- 1.0000, F1 Score- 1.0000; Class 2: AUC-ROC- 1.0000, F1 Score- 1.0000; Class 3: AUC-ROC- 1.0000, F1 Score- 1.0000; Macro-Average AUC-ROC: 1.0000; Macro-Average F1 Score: 1.0000\n",
      "Validation Loss: 1.0266, Validation Accuracy: 0.9591, Validation Edge Accuracy: ([], [])\n",
      "Class 0: AUC-ROC- 0.9999, F1 Score- 0.9821; Class 1: AUC-ROC- 1.0000, F1 Score- 0.8800; Class 2: AUC-ROC- 0.9847, F1 Score- 0.9358; Class 3: AUC-ROC- 0.9975, F1 Score- 0.9423; Macro-Average AUC-ROC: 0.9955; Macro-Average F1 Score: 0.9351\n",
      "Test Loss: 1.0271, Test Accuracy: 0.9767, Test Edge Accuracy: ([], [])\n",
      "Class 0: AUC-ROC- 0.9999, F1 Score- 0.9868; Class 1: AUC-ROC- 0.9988, F1 Score- 0.8475; Class 2: AUC-ROC- 0.9918, F1 Score- 0.9542; Class 3: AUC-ROC- 0.9993, F1 Score- 0.9583; Macro-Average AUC-ROC: 0.9974; Macro-Average F1 Score: 0.9367\n",
      "\n",
      "Finished Training\n",
      "Validation Metrics:\n",
      "Val_acc_list: ['0.2773', '0.6364', '0.7182', '0.7364', '0.8182', '0.8955', '0.9364', '0.9591', '0.9636', '0.9682', '0.9682', '0.9727', '0.9682', '0.9682', '0.9636', '0.9591', '0.9591', '0.9591', '0.9591', '0.9591']\n",
      "Val_auc_list: ['0.5535', '0.9544', '0.9822', '0.9882', '0.9920', '0.9937', '0.9941', '0.9948', '0.9953', '0.9955', '0.9956', '0.9955', '0.9955', '0.9956', '0.9956', '0.9955', '0.9954', '0.9955', '0.9955', '0.9955']\n",
      "Val_f1_list: ['0.1000', '0.3099', '0.3762', '0.5627', '0.5730', '0.6010', '0.6409', '0.8262', '0.8728', '0.8912', '0.8966', '0.9101', '0.9171', '0.9248', '0.9242', '0.9290', '0.9307', '0.9364', '0.9333', '0.9351']\n",
      "Test Metrics:\n",
      "Test_acc_list: ['0.3100', '0.6700', '0.7333', '0.7433', '0.7933', '0.8767', '0.9367', '0.9600', '0.9633', '0.9667', '0.9700', '0.9733', '0.9767', '0.9800', '0.9767', '0.9767', '0.9733', '0.9767', '0.9767', '0.9767']\n",
      "Test_auc_list: ['0.5963', '0.9684', '0.9879', '0.9927', '0.9950', '0.9959', '0.9967', '0.9973', '0.9974', '0.9976', '0.9975', '0.9975', '0.9975', '0.9975', '0.9975', '0.9975', '0.9973', '0.9974', '0.9974', '0.9974']\n",
      "Test_f1_list: ['0.1000', '0.3180', '0.4132', '0.5682', '0.5702', '0.5975', '0.6415', '0.7776', '0.8560', '0.8890', '0.8979', '0.9104', '0.9166', '0.9274', '0.9285', '0.9304', '0.9285', '0.9355', '0.9355', '0.9367']\n"
     ]
    }
   ],
   "source": [
    "torch.cuda.empty_cache()\n",
    "# profiler = cProfile.Profile()\n",
    "# profiler.enable()\n",
    "train_smote(data, edge_indices, encoder, encoder2, classifier, decoder_list, decoder_list2,\n",
    "            train_idx, val_idx, test_idx, args, os_mode = 'gsm', train_mode = 'preo')\n",
    "# profiler.disable()"
   ]
  },
  {
   "cell_type": "code",
   "execution_count": 8,
   "metadata": {},
   "outputs": [],
   "source": [
    "# profiler.print_stats(sort='cumulative')  # Print results to the console\n",
    "# # Or save to a file\n",
    "# with open('profile_results.txt', 'w') as f:\n",
    "#     profiler.dump_stats(f)"
   ]
  },
  {
   "cell_type": "code",
   "execution_count": 9,
   "metadata": {},
   "outputs": [
    {
     "name": "stdout",
     "output_type": "stream",
     "text": [
      "Test Loss: 1.0222, Test Accuracy: 0.9767, Test Edge Accuracy: ([], [])\n",
      "Class 0: AUC-ROC- 0.9999, F1 Score- 0.9804; Class 1: AUC-ROC- 0.9988, F1 Score- 0.8621; Class 2: AUC-ROC- 0.9918, F1 Score- 0.9542; Class 3: AUC-ROC- 0.9993, F1 Score- 0.9583; Macro-Average AUC-ROC: 0.9974; Macro-Average F1 Score: 0.9388\n"
     ]
    },
    {
     "data": {
      "text/plain": [
       "(0.9766666666666667,\n",
       " 0.9974370370370369,\n",
       " 0.938760705431598,\n",
       " [0.9999407407407407,\n",
       "  0.9987555555555555,\n",
       "  0.991762962962963,\n",
       "  0.9992888888888889],\n",
       " [0.9803921568627451,\n",
       "  0.8620689655172413,\n",
       "  0.954248366013072,\n",
       "  0.9583333333333334])"
      ]
     },
     "execution_count": 9,
     "metadata": {},
     "output_type": "execute_result"
    }
   ],
   "source": [
    "test_smote(data, edge_indices, encoder, encoder2, classifier, decoder_list, decoder_list2,\n",
    "           test_idx, args = args, dataset = 'Test', os_mode = 'no', train_mode = 'preo')"
   ]
  },
  {
   "cell_type": "code",
   "execution_count": 10,
   "metadata": {},
   "outputs": [],
   "source": [
    "torch.save(decoder_list2[0], 'pre_decoder/new_edge_pred/decoder_pa.pth')\n",
    "torch.save(decoder_list2[1], 'pre_decoder/new_edge_pred/decoder_pp.pth')\n",
    "torch.save(decoder_list2[2], 'pre_decoder/new_edge_pred/decoder_pv.pth')\n",
    "torch.save(encoder2, 'pre_decoder/new_edge_pred/encoder2.pth')\n",
    "torch.save(encoder, 'pre_decoder/new_edge_pred/encoder.pth')"
   ]
  }
 ],
 "metadata": {
  "kernelspec": {
   "display_name": "venv",
   "language": "python",
   "name": "python3"
  },
  "language_info": {
   "codemirror_mode": {
    "name": "ipython",
    "version": 3
   },
   "file_extension": ".py",
   "mimetype": "text/x-python",
   "name": "python",
   "nbconvert_exporter": "python",
   "pygments_lexer": "ipython3",
   "version": "3.10.12"
  },
  "orig_nbformat": 4
 },
 "nbformat": 4,
 "nbformat_minor": 2
}
