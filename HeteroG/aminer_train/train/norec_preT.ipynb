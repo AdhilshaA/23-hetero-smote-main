{
 "cells": [
  {
   "cell_type": "code",
   "execution_count": 1,
   "metadata": {},
   "outputs": [
    {
     "name": "stdout",
     "output_type": "stream",
     "text": [
      "Current device: NVIDIA A100 80GB PCIe\n"
     ]
    }
   ],
   "source": [
    "import numpy as np\n",
    "import matplotlib.pyplot as plt\n",
    "import sys\n",
    "sys.path.extend([ '../', '../../'])\n",
    "import torch\n",
    "import torch.nn as nn\n",
    "import torch.optim as optim\n",
    "from data import input_data\n",
    "import dataloader as dl\n",
    "from args import Args\n",
    "from model import Het_En, Classifier, EdgePredictor, Het_classify\n",
    "from smote import oversample\n",
    "from train import train_smote, test_smote\n",
    "import cProfile\n",
    "\n",
    "# Set device to GPU if available, else use CPU\n",
    "args = Args()\n",
    "args.aminer_train()\n",
    "torch.cuda.empty_cache()"
   ]
  },
  {
   "cell_type": "code",
   "execution_count": 2,
   "metadata": {},
   "outputs": [
    {
     "name": "stdout",
     "output_type": "stream",
     "text": [
      "HeteroData(\n",
      "  \u001b[1ma\u001b[0m={\n",
      "    num_nodes=20171,\n",
      "    y=[20171]\n",
      "  },\n",
      "  \u001b[1mp\u001b[0m={ num_nodes=13250 },\n",
      "  \u001b[1mv\u001b[0m={ num_nodes=18 },\n",
      "  \u001b[1mp_title_embed\u001b[0m={ x=[13250, 128] },\n",
      "  \u001b[1mp_abstract_embed\u001b[0m={ x=[13250, 128] },\n",
      "  \u001b[1mp_net_embed\u001b[0m={ x=[13250, 128] },\n",
      "  \u001b[1mp_a_net_embed\u001b[0m={ x=[13250, 128] },\n",
      "  \u001b[1mp_p_net_embed\u001b[0m={ x=[13250, 128] },\n",
      "  \u001b[1mp_v_net_embed\u001b[0m={ x=[13250, 128] },\n",
      "  \u001b[1ma_net_embed\u001b[0m={ x=[20171, 128] },\n",
      "  \u001b[1ma_text_embed\u001b[0m={ x=[20171, 128] },\n",
      "  \u001b[1mv_net_embed\u001b[0m={ x=[18, 128] },\n",
      "  \u001b[1mv_text_embed\u001b[0m={ x=[18, 128] },\n",
      "  \u001b[1m(a, walk, a)\u001b[0m={ edge_index=[2, 99480] },\n",
      "  \u001b[1m(a, walk, p)\u001b[0m={ edge_index=[2, 86444] },\n",
      "  \u001b[1m(a, walk, v)\u001b[0m={ edge_index=[2, 31716] },\n",
      "  \u001b[1m(p, walk, a)\u001b[0m={ edge_index=[2, 65534] },\n",
      "  \u001b[1m(p, walk, p)\u001b[0m={ edge_index=[2, 66174] },\n",
      "  \u001b[1m(p, walk, v)\u001b[0m={ edge_index=[2, 20838] },\n",
      "  \u001b[1m(v, walk, a)\u001b[0m={ edge_index=[2, 90] },\n",
      "  \u001b[1m(v, walk, p)\u001b[0m={ edge_index=[2, 90] },\n",
      "  \u001b[1m(v, walk, v)\u001b[0m={ edge_index=[2, 27] }\n",
      ")\n"
     ]
    }
   ],
   "source": [
    "# data = input_data(args) \n",
    "# torch.save(data, 'data.pt')\n",
    "data = torch.load('../../data/aminer/am_data.pt')\n",
    "print(data)"
   ]
  },
  {
   "cell_type": "code",
   "execution_count": 3,
   "metadata": {},
   "outputs": [
    {
     "name": "stdout",
     "output_type": "stream",
     "text": [
      "tensor([[    0,     0,     0,  ..., 20170, 20170, 20170],\n",
      "        [10523, 10442, 10329,  ...,  4378, 12456,  6612]])\n"
     ]
    }
   ],
   "source": [
    "print(data['a','walk','p'].edge_index)\n",
    "device = args.device\n",
    "# data = data.to(device)\n",
    "\n",
    "# Send all x tensors to the device\n",
    "data['p_title_embed']['x'] = data['p_title_embed']['x'].to(device)\n",
    "data['p_abstract_embed']['x'] = data['p_abstract_embed']['x'].to(device)\n",
    "data['p_net_embed']['x'] = data['p_net_embed']['x'].to(device)\n",
    "data['p_a_net_embed']['x'] = data['p_a_net_embed']['x'].to(device)\n",
    "data['p_p_net_embed']['x'] = data['p_p_net_embed']['x'].to(device)\n",
    "data['p_v_net_embed']['x'] = data['p_v_net_embed']['x'].to(device)\n",
    "data['a_net_embed']['x'] = data['a_net_embed']['x'].to(device)\n",
    "data['a_text_embed']['x'] = data['a_text_embed']['x'].to(device)\n",
    "data['v_net_embed']['x'] = data['v_net_embed']['x'].to(device)\n",
    "data['v_text_embed']['x'] = data['v_text_embed']['x'].to(device)\n",
    "\n",
    "# Send all y tensors to the device\n",
    "data['a']['y'] = data['a']['y'].to(device)\n",
    "\n",
    "# Send all edge_index tensors to the device\n",
    "data['a', 'walk', 'a']['edge_index'] = data['a', 'walk', 'a']['edge_index'].to(device)\n",
    "data['a', 'walk', 'p']['edge_index'] = data['a', 'walk', 'p']['edge_index'].to(device)\n",
    "data['a', 'walk', 'v']['edge_index'] = data['a', 'walk', 'v']['edge_index'].to(device)\n",
    "data['p', 'walk', 'a']['edge_index'] = data['p', 'walk', 'a']['edge_index'].to(device)\n",
    "data['p', 'walk', 'p']['edge_index'] = data['p', 'walk', 'p']['edge_index'].to(device)\n",
    "data['p', 'walk', 'v']['edge_index'] = data['p', 'walk', 'v']['edge_index'].to(device)\n",
    "data['v', 'walk', 'a']['edge_index'] = data['v', 'walk', 'a']['edge_index'].to(device)\n",
    "data['v', 'walk', 'p']['edge_index'] = data['v', 'walk', 'p']['edge_index'].to(device)\n",
    "data['v', 'walk', 'v']['edge_index'] = data['v', 'walk', 'v']['edge_index'].to(device)\n",
    "\n",
    "edge_indices = [ data['a', 'walk', 'a'].edge_index, data['a', 'walk', 'p'].edge_index, data['a', 'walk', 'v'].edge_index ]"
   ]
  },
  {
   "cell_type": "code",
   "execution_count": 4,
   "metadata": {},
   "outputs": [
    {
     "name": "stdout",
     "output_type": "stream",
     "text": [
      "[50, 20, 50, 50] 170\n",
      "0 335\n",
      "1 202\n",
      "2 299\n",
      "3 289\n",
      "train_idx:  [7986, 17783, 3370, 16357, 950, 19108, 9573, 470, 8595, 3850, 12858, 8024, 13473, 19186, 3968, 3426, 17594, 11532, 17386, 2755, 3700, 421, 11220, 16931, 13677, 15984, 12648, 18805, 1151, 10925, 2402, 6960, 1730, 2620, 214, 11345, 11547, 2918, 1960, 14143, 1658, 10568, 4064, 20158, 9802, 5042, 12634, 7936, 1296, 19253, 13132, 11456, 9040, 10961, 10801, 6632, 18747, 10142, 19629, 17643, 7503, 19529, 3461, 10797, 7309, 2887, 1149, 17934, 11003, 68, 12236, 14969, 7104, 12239, 4475, 14409, 11390, 19234, 7786, 12603, 18083, 4270, 19004, 3735, 17541, 14772, 18801, 215, 19427, 19581, 17071, 11061, 4572, 19525, 10021, 12681, 11874, 13039, 17924, 17325, 1350, 5718, 5302, 3288, 13819, 14625, 3003, 384, 10483, 15201, 9376, 9279, 15542, 14313, 15986, 10885, 2995, 12019, 7212, 14025, 2741, 15651, 1051, 13284, 19337, 15417, 16664, 12056, 10032, 16518, 18499, 7549, 11948, 12458, 4649, 15262, 14642, 10331, 8436, 15291, 1002, 13320, 9789, 4553, 10984, 14304, 18466, 13635, 18769, 19927, 17721, 2752, 14564, 2876, 13340, 4170, 13631, 16485, 13200, 17533, 8423, 4884, 18560, 15925, 16693, 19714, 12946, 15060, 7531, 11858] 170\n",
      "val_idx:  [11727, 16279, 1124, 4719, 8281, 19055, 7688, 16781, 6228, 6710, 19120, 3596, 2225, 11966, 13345, 7070, 13137, 6772, 4765, 15092, 10151, 5820, 15048, 19121, 6663, 5404, 13386, 19647, 8072, 3978, 1381, 7988, 13097, 19168, 2096, 11076, 15076, 11651, 12449, 15705, 630, 12589, 10301, 9855, 4322, 13072, 7076, 17781, 2857, 12333, 10741, 8113, 1892, 18059, 11728, 11530, 4844, 18492, 11803, 19663, 10422, 6381, 5525, 8890, 7277, 18885, 3121, 9223, 15791, 8630, 17796, 12698, 7196, 17090, 10955, 4330, 254, 2532, 15205, 13610, 17253, 10229, 10339, 6616, 5680, 9247, 1292, 2742, 16062, 13265, 8420, 12302, 13084, 17947, 2579, 14103, 11747, 4470, 13302, 8507, 12690, 15521, 18029, 13231, 4500, 14683, 14814, 17998, 13893, 3649, 13015, 6520, 14340, 5268, 9986, 14417, 5652, 18983, 7100, 3413, 12172, 14004, 13373, 8260, 14547, 14011, 17769, 17604, 14024, 10237, 10371, 4586, 18809, 1120, 6530, 16191, 19813, 16611, 6972, 17629, 18584, 2931, 9387, 9782, 7015, 14566, 10196, 12612, 13529, 11659, 14632, 6133, 4937, 6719, 12128, 7210, 14709, 19618, 519, 18454, 20085, 16237, 10725, 14878, 19059, 7325, 15419, 4566, 19896, 6716, 15422, 14147, 9786, 3986, 7652, 9566, 18225, 11500, 14302, 16274, 5983, 19728, 20079, 20170, 5352, 16853, 5506, 1307, 14513, 111, 19597, 657, 13206, 3755, 10834, 10930, 14422, 3701, 11463, 8364] 200\n",
      "test_idx:  [18876, 19130, 9930, 17944, 3602, 16001, 11979, 59, 5242, 7069, 4537, 9180, 12842, 18712, 3893, 2819, 19506, 3798, 16262, 7643, 9688, 3041, 3045, 3191, 17669, 848, 12974, 8796, 12522, 13745, 10865, 16719, 7980, 16777, 4856, 12259, 9417, 4640, 12515, 3842, 7953, 7370, 11482, 19706, 13082, 9844, 3053, 13347, 4325, 19790, 7859, 2438, 13096, 1135, 14174, 16803, 5856, 520, 9809, 19102, 8410, 9507, 6236, 19784, 8686, 4003, 14500, 17197, 13934, 19549, 14682, 14221, 575, 7900, 7858, 10774, 4327, 9740, 4663, 15080, 10692, 19032, 3535, 19625, 16326, 5050, 1460, 9923, 17250, 6837, 1126, 17838, 3809, 16011, 2296, 7412, 11665, 295, 17692, 607, 18684, 16685, 17356, 15824, 15569, 9411, 9342, 15365, 1260, 9519, 11406, 13942, 2338, 3512, 6010, 11434, 12878, 6566, 7569, 3060, 11245, 8058, 3446, 5002, 3743, 13577, 9926, 16623, 10387, 9706, 13007, 2782, 1028, 8151, 4393, 13074, 3495, 18289, 8882, 5488, 8346, 9709, 8884, 15057, 7752, 16631, 7125, 3442, 14760, 9363, 14133, 16505, 20021, 14798, 8666, 18371, 19283, 15127, 13728, 9029, 8784, 16371, 4932, 1977, 15203, 18004, 6116, 20024, 407, 10610, 521, 14619, 20047, 11430, 17368, 14327, 6470, 1255, 8272, 17095, 12375, 3396, 3355, 17900, 10535, 19659, 116, 4428, 11291, 15790, 2675, 8232, 12494, 7308, 19809, 2090, 4743, 205, 1319, 2444, 9106, 2643, 12115, 3685, 15876, 15393, 18697, 16139, 152, 7314, 1944, 1091, 7602, 14429, 12640, 5582, 15102, 17328, 1283, 8829, 18638, 16021, 12315, 14614, 658, 10488, 16449, 6640, 895, 2441, 5316, 18120, 18145, 9938, 16468, 13844, 12250, 19888, 16477, 5675, 18855, 17126, 3262, 4742, 16069, 1811, 1061, 15814, 6324, 15579, 15128, 5091, 5119, 12161, 15848, 6240, 12708, 17149, 12008, 1632, 4870, 3706, 11519, 9112, 7082, 13689, 11625, 17228, 3490, 13759, 11027, 10457, 1044, 12005, 2979, 12380, 1478, 5606, 4534, 622, 16999, 5172, 10813, 13730, 10724, 11859, 550, 1822, 30, 10701, 2606, 11894, 9908, 10435, 10122, 1510, 14272, 2985, 10131, 14707, 15079, 5848, 16093, 1881, 6597, 13124, 1595, 13892, 6735, 13157, 18942, 6670, 7513, 6891, 8862, 17635, 5988, 8221, 12370, 2158, 16946, 7484, 2536, 8885, 17054, 19229, 12263, 15979, 17946, 9174, 14804, 17446, 6884, 2379, 4254, 8159, 8646, 9673, 3011, 15224, 11838, 11299, 10564, 4463, 5452, 9168, 7927, 18982, 19863, 9430, 2073, 18068, 2978, 16363, 3238, 9727, 16812, 8942, 16844, 16115, 2252, 13228, 4907, 13165, 3174, 3230, 5209, 1943, 18209, 13691, 15713, 19514, 651, 6638, 4024, 147, 10368, 866, 10332, 18418, 16090, 3232, 10762, 15206, 12373, 17634, 7043, 8089, 13790, 14559, 15304, 16098, 8398, 20069, 10352, 14867, 1544, 7675, 7731, 15042] 400\n"
     ]
    }
   ],
   "source": [
    "c_train_num = dl.train_num(data['a'].y, args.im_class_num, args.class_sample_num, args.im_ratio)\n",
    "print(c_train_num, sum(c_train_num))\n",
    "train_idx, val_idx, test_idx, c_num_mat = dl.segregate(data['a'].y, c_train_num)\n",
    "print(\"train_idx: \", train_idx, len(train_idx))\n",
    "print(\"val_idx: \", val_idx, len(val_idx))\n",
    "print(\"test_idx: \", test_idx, len(test_idx))\n",
    "# print(c_num_mat)"
   ]
  },
  {
   "cell_type": "code",
   "execution_count": 5,
   "metadata": {},
   "outputs": [],
   "source": [
    "# os_mode = 'up'\n",
    "# portion = sum(c_train_num)/(4*c_train_num[1])\n",
    "# if os_mode != 'reweight' and os_mode != 'no':\n",
    "#     if portion >= 1:\n",
    "#         args.node_dim[0] = args.A_n + (portion-1)*c_train_num[1] + int((portion - int(portion))*c_train_num[1])\n",
    "#     else:\n",
    "#         args.node_dim[0] = args.A_n + int((portion - int(portion))*c_train_num[1])\n",
    "\n",
    "# args.node_dim[0] += 22"
   ]
  },
  {
   "cell_type": "code",
   "execution_count": 6,
   "metadata": {},
   "outputs": [],
   "source": [
    "encoder = Het_En(args.embed_dim, args.dropout)\n",
    "classifier = Het_classify(args.embed_dim, args.nclass, args.dropout)\n",
    "decoder_a = EdgePredictor(args.embed_dim)\n",
    "decoder_p = EdgePredictor(args.embed_dim)\n",
    "decoder_v = EdgePredictor(args.embed_dim)\n",
    "decoder_list = [decoder_a, decoder_p, decoder_v]\n",
    "#print(features.shape)\n",
    "encoder.to(device)\n",
    "classifier.to(device)\n",
    "for decoder in decoder_list:\n",
    "    decoder.to(device)"
   ]
  },
  {
   "cell_type": "markdown",
   "metadata": {},
   "source": [
    "## Training Part"
   ]
  },
  {
   "cell_type": "code",
   "execution_count": 7,
   "metadata": {},
   "outputs": [
    {
     "name": "stdout",
     "output_type": "stream",
     "text": [
      "Epoch [1/500], Loss: 1.3961, Accuracy: 0.2552, Edge Accuracy: [0.9999960749060409, 0.9996950039427049, 0.9126468692677606]\n",
      "Class 0: AUC-ROC- 0.5407, F1 Score- 0.0000; Class 1: AUC-ROC- 0.4160, F1 Score- 0.1127; Class 2: AUC-ROC- 0.3797, F1 Score- 0.0377; Class 3: AUC-ROC- 0.5727, F1 Score- 0.0000; Macro-Average AUC-ROC: 0.4773; Macro-Average F1 Score: 0.0376\n",
      "Validation Loss: 1.3851, Validation Accuracy: 0.2250, Validation Edge Accuracy: []\n",
      "Class 0: AUC-ROC- 0.5956, F1 Score- 0.0000; Class 1: AUC-ROC- 0.3348, F1 Score- 0.0000; Class 2: AUC-ROC- 0.4661, F1 Score- 0.0000; Class 3: AUC-ROC- 0.8199, F1 Score- 0.0000; Macro-Average AUC-ROC: 0.5541; Macro-Average F1 Score: 0.0000\n",
      "Test Loss: 1.3856, Test Accuracy: 0.2450, Test Edge Accuracy: []\n",
      "Class 0: AUC-ROC- 0.6178, F1 Score- 0.0000; Class 1: AUC-ROC- 0.3011, F1 Score- 0.0187; Class 2: AUC-ROC- 0.4612, F1 Score- 0.0000; Class 3: AUC-ROC- 0.7751, F1 Score- 0.0000; Macro-Average AUC-ROC: 0.5388; Macro-Average F1 Score: 0.0047\n",
      "\n",
      "Epoch [11/500], Loss: 1.3892, Accuracy: 0.3333, Edge Accuracy: [0.9999980558864611, 0.9996907460084204, 0.9126468692677606]\n",
      "Class 0: AUC-ROC- 0.7677, F1 Score- 0.0000; Class 1: AUC-ROC- 0.5376, F1 Score- 0.0455; Class 2: AUC-ROC- 0.5028, F1 Score- 0.0000; Class 3: AUC-ROC- 0.7930, F1 Score- 0.0000; Macro-Average AUC-ROC: 0.6503; Macro-Average F1 Score: 0.0114\n",
      "Validation Loss: 1.3810, Validation Accuracy: 0.2700, Validation Edge Accuracy: []\n",
      "Class 0: AUC-ROC- 0.7569, F1 Score- 0.0000; Class 1: AUC-ROC- 0.4668, F1 Score- 0.0000; Class 2: AUC-ROC- 0.5640, F1 Score- 0.0000; Class 3: AUC-ROC- 0.8873, F1 Score- 0.0000; Macro-Average AUC-ROC: 0.6688; Macro-Average F1 Score: 0.0000\n",
      "Test Loss: 1.3815, Test Accuracy: 0.2800, Test Edge Accuracy: []\n",
      "Class 0: AUC-ROC- 0.7777, F1 Score- 0.0000; Class 1: AUC-ROC- 0.4319, F1 Score- 0.0000; Class 2: AUC-ROC- 0.5577, F1 Score- 0.0000; Class 3: AUC-ROC- 0.8544, F1 Score- 0.0000; Macro-Average AUC-ROC: 0.6554; Macro-Average F1 Score: 0.0000\n",
      "\n",
      "Epoch [21/500], Loss: 1.3845, Accuracy: 0.3490, Edge Accuracy: [0.9999978813832231, 0.999693383832384, 0.9126468692677606]\n",
      "Class 0: AUC-ROC- 0.8868, F1 Score- 0.0000; Class 1: AUC-ROC- 0.6611, F1 Score- 0.0909; Class 2: AUC-ROC- 0.6307, F1 Score- 0.0000; Class 3: AUC-ROC- 0.8577, F1 Score- 0.0000; Macro-Average AUC-ROC: 0.7591; Macro-Average F1 Score: 0.0227\n",
      "Validation Loss: 1.3769, Validation Accuracy: 0.3000, Validation Edge Accuracy: []\n",
      "Class 0: AUC-ROC- 0.8789, F1 Score- 0.0000; Class 1: AUC-ROC- 0.5947, F1 Score- 0.0000; Class 2: AUC-ROC- 0.6524, F1 Score- 0.0000; Class 3: AUC-ROC- 0.9317, F1 Score- 0.0000; Macro-Average AUC-ROC: 0.7644; Macro-Average F1 Score: 0.0000\n",
      "Test Loss: 1.3774, Test Accuracy: 0.2975, Test Edge Accuracy: []\n",
      "Class 0: AUC-ROC- 0.8913, F1 Score- 0.0000; Class 1: AUC-ROC- 0.5714, F1 Score- 0.0000; Class 2: AUC-ROC- 0.6510, F1 Score- 0.0000; Class 3: AUC-ROC- 0.9077, F1 Score- 0.0000; Macro-Average AUC-ROC: 0.7553; Macro-Average F1 Score: 0.0000\n",
      "\n",
      "Epoch [31/500], Loss: 1.3799, Accuracy: 0.3646, Edge Accuracy: [0.9999976626397276, 0.9996967363008541, 0.9126468692677606]\n",
      "Class 0: AUC-ROC- 0.9617, F1 Score- 0.0000; Class 1: AUC-ROC- 0.7537, F1 Score- 0.1333; Class 2: AUC-ROC- 0.7287, F1 Score- 0.0000; Class 3: AUC-ROC- 0.9175, F1 Score- 0.0000; Macro-Average AUC-ROC: 0.8404; Macro-Average F1 Score: 0.0333\n",
      "Validation Loss: 1.3726, Validation Accuracy: 0.3050, Validation Edge Accuracy: []\n",
      "Class 0: AUC-ROC- 0.9460, F1 Score- 0.0000; Class 1: AUC-ROC- 0.7056, F1 Score- 0.0000; Class 2: AUC-ROC- 0.7371, F1 Score- 0.0392; Class 3: AUC-ROC- 0.9591, F1 Score- 0.0000; Macro-Average AUC-ROC: 0.8369; Macro-Average F1 Score: 0.0098\n",
      "Test Loss: 1.3730, Test Accuracy: 0.3075, Test Edge Accuracy: []\n",
      "Class 0: AUC-ROC- 0.9535, F1 Score- 0.0000; Class 1: AUC-ROC- 0.6887, F1 Score- 0.0000; Class 2: AUC-ROC- 0.7368, F1 Score- 0.0000; Class 3: AUC-ROC- 0.9421, F1 Score- 0.0000; Macro-Average AUC-ROC: 0.8303; Macro-Average F1 Score: 0.0000\n",
      "\n",
      "Epoch [41/500], Loss: 1.3745, Accuracy: 0.4010, Edge Accuracy: [0.9999973996559745, 0.9997003806136776, 0.9126468692677606]\n",
      "Class 0: AUC-ROC- 0.9880, F1 Score- 0.0000; Class 1: AUC-ROC- 0.8514, F1 Score- 0.1739; Class 2: AUC-ROC- 0.8223, F1 Score- 0.0000; Class 3: AUC-ROC- 0.9410, F1 Score- 0.0000; Macro-Average AUC-ROC: 0.9007; Macro-Average F1 Score: 0.0435\n",
      "Validation Loss: 1.3681, Validation Accuracy: 0.3300, Validation Edge Accuracy: []\n",
      "Class 0: AUC-ROC- 0.9791, F1 Score- 0.0000; Class 1: AUC-ROC- 0.7995, F1 Score- 0.0000; Class 2: AUC-ROC- 0.8025, F1 Score- 0.0769; Class 3: AUC-ROC- 0.9759, F1 Score- 0.0000; Macro-Average AUC-ROC: 0.8892; Macro-Average F1 Score: 0.0192\n",
      "Test Loss: 1.3684, Test Accuracy: 0.3275, Test Edge Accuracy: []\n",
      "Class 0: AUC-ROC- 0.9820, F1 Score- 0.0000; Class 1: AUC-ROC- 0.7819, F1 Score- 0.0000; Class 2: AUC-ROC- 0.8058, F1 Score- 0.0000; Class 3: AUC-ROC- 0.9633, F1 Score- 0.0000; Macro-Average AUC-ROC: 0.8833; Macro-Average F1 Score: 0.0000\n",
      "\n",
      "Epoch [51/500], Loss: 1.3690, Accuracy: 0.4427, Edge Accuracy: [0.9999970309871618, 0.9997042045230262, 0.9126468692677606]\n",
      "Class 0: AUC-ROC- 0.9975, F1 Score- 0.0000; Class 1: AUC-ROC- 0.9194, F1 Score- 0.0909; Class 2: AUC-ROC- 0.8714, F1 Score- 0.0769; Class 3: AUC-ROC- 0.9648, F1 Score- 0.0000; Macro-Average AUC-ROC: 0.9383; Macro-Average F1 Score: 0.0420\n",
      "Validation Loss: 1.3631, Validation Accuracy: 0.3450, Validation Edge Accuracy: []\n",
      "Class 0: AUC-ROC- 0.9917, F1 Score- 0.0000; Class 1: AUC-ROC- 0.8677, F1 Score- 0.0000; Class 2: AUC-ROC- 0.8504, F1 Score- 0.1132; Class 3: AUC-ROC- 0.9881, F1 Score- 0.0000; Macro-Average AUC-ROC: 0.9245; Macro-Average F1 Score: 0.0283\n",
      "Test Loss: 1.3634, Test Accuracy: 0.3750, Test Edge Accuracy: []\n",
      "Class 0: AUC-ROC- 0.9928, F1 Score- 0.0000; Class 1: AUC-ROC- 0.8499, F1 Score- 0.0000; Class 2: AUC-ROC- 0.8562, F1 Score- 0.0952; Class 3: AUC-ROC- 0.9778, F1 Score- 0.0000; Macro-Average AUC-ROC: 0.9192; Macro-Average F1 Score: 0.0238\n",
      "\n",
      "Epoch [61/500], Loss: 1.3629, Accuracy: 0.5312, Edge Accuracy: [0.9999964583216061, 0.9997082491864371, 0.9126468692677606]\n",
      "Class 0: AUC-ROC- 0.9993, F1 Score- 0.0000; Class 1: AUC-ROC- 0.9606, F1 Score- 0.1333; Class 2: AUC-ROC- 0.9151, F1 Score- 0.0769; Class 3: AUC-ROC- 0.9745, F1 Score- 0.0000; Macro-Average AUC-ROC: 0.9624; Macro-Average F1 Score: 0.0526\n",
      "Validation Loss: 1.3577, Validation Accuracy: 0.3800, Validation Edge Accuracy: []\n",
      "Class 0: AUC-ROC- 0.9967, F1 Score- 0.0000; Class 1: AUC-ROC- 0.9153, F1 Score- 0.0000; Class 2: AUC-ROC- 0.8795, F1 Score- 0.2143; Class 3: AUC-ROC- 0.9917, F1 Score- 0.0000; Macro-Average AUC-ROC: 0.9458; Macro-Average F1 Score: 0.0536\n",
      "Test Loss: 1.3579, Test Accuracy: 0.4200, Test Edge Accuracy: []\n",
      "Class 0: AUC-ROC- 0.9976, F1 Score- 0.0000; Class 1: AUC-ROC- 0.8998, F1 Score- 0.0000; Class 2: AUC-ROC- 0.8917, F1 Score- 0.1818; Class 3: AUC-ROC- 0.9877, F1 Score- 0.0000; Macro-Average AUC-ROC: 0.9442; Macro-Average F1 Score: 0.0455\n",
      "\n",
      "Epoch [71/500], Loss: 1.3562, Accuracy: 0.6198, Edge Accuracy: [0.9999957504774857, 0.9997126605260869, 0.9126468692677606]\n",
      "Class 0: AUC-ROC- 1.0000, F1 Score- 0.0000; Class 1: AUC-ROC- 0.9817, F1 Score- 0.1739; Class 2: AUC-ROC- 0.9424, F1 Score- 0.2456; Class 3: AUC-ROC- 0.9834, F1 Score- 0.0000; Macro-Average AUC-ROC: 0.9769; Macro-Average F1 Score: 0.1049\n",
      "Validation Loss: 1.3519, Validation Accuracy: 0.4750, Validation Edge Accuracy: []\n",
      "Class 0: AUC-ROC- 0.9995, F1 Score- 0.0000; Class 1: AUC-ROC- 0.9453, F1 Score- 0.0392; Class 2: AUC-ROC- 0.9031, F1 Score- 0.3607; Class 3: AUC-ROC- 0.9939, F1 Score- 0.0000; Macro-Average AUC-ROC: 0.9604; Macro-Average F1 Score: 0.1000\n",
      "Test Loss: 1.3520, Test Accuracy: 0.5125, Test Edge Accuracy: []\n",
      "Class 0: AUC-ROC- 0.9992, F1 Score- 0.0000; Class 1: AUC-ROC- 0.9309, F1 Score- 0.0196; Class 2: AUC-ROC- 0.9172, F1 Score- 0.3193; Class 3: AUC-ROC- 0.9931, F1 Score- 0.0000; Macro-Average AUC-ROC: 0.9601; Macro-Average F1 Score: 0.0847\n",
      "\n",
      "Epoch [81/500], Loss: 1.3491, Accuracy: 0.7292, Edge Accuracy: [0.9999948091431173, 0.9997175545313981, 0.9126468692677606]\n",
      "Class 0: AUC-ROC- 1.0000, F1 Score- 0.0000; Class 1: AUC-ROC- 0.9940, F1 Score- 0.3200; Class 2: AUC-ROC- 0.9593, F1 Score- 0.4615; Class 3: AUC-ROC- 0.9880, F1 Score- 0.0000; Macro-Average AUC-ROC: 0.9853; Macro-Average F1 Score: 0.1954\n",
      "Validation Loss: 1.3455, Validation Accuracy: 0.5600, Validation Edge Accuracy: []\n",
      "Class 0: AUC-ROC- 1.0000, F1 Score- 0.0000; Class 1: AUC-ROC- 0.9624, F1 Score- 0.0392; Class 2: AUC-ROC- 0.9203, F1 Score- 0.4848; Class 3: AUC-ROC- 0.9944, F1 Score- 0.0000; Macro-Average AUC-ROC: 0.9693; Macro-Average F1 Score: 0.1310\n",
      "Test Loss: 1.3456, Test Accuracy: 0.5850, Test Edge Accuracy: []\n",
      "Class 0: AUC-ROC- 0.9997, F1 Score- 0.0000; Class 1: AUC-ROC- 0.9528, F1 Score- 0.0577; Class 2: AUC-ROC- 0.9335, F1 Score- 0.4962; Class 3: AUC-ROC- 0.9956, F1 Score- 0.0000; Macro-Average AUC-ROC: 0.9704; Macro-Average F1 Score: 0.1385\n",
      "\n",
      "Epoch [91/500], Loss: 1.3411, Accuracy: 0.8333, Edge Accuracy: [0.9999933787081241, 0.999722444795115, 0.9126468692677606]\n",
      "Class 0: AUC-ROC- 1.0000, F1 Score- 0.0000; Class 1: AUC-ROC- 0.9971, F1 Score- 0.5763; Class 2: AUC-ROC- 0.9714, F1 Score- 0.7179; Class 3: AUC-ROC- 0.9908, F1 Score- 0.0000; Macro-Average AUC-ROC: 0.9898; Macro-Average F1 Score: 0.3236\n",
      "Validation Loss: 1.3384, Validation Accuracy: 0.6550, Validation Edge Accuracy: []\n",
      "Class 0: AUC-ROC- 1.0000, F1 Score- 0.0000; Class 1: AUC-ROC- 0.9748, F1 Score- 0.1818; Class 2: AUC-ROC- 0.9345, F1 Score- 0.6027; Class 3: AUC-ROC- 0.9949, F1 Score- 0.0000; Macro-Average AUC-ROC: 0.9761; Macro-Average F1 Score: 0.1961\n",
      "Test Loss: 1.3385, Test Accuracy: 0.6925, Test Edge Accuracy: []\n",
      "Class 0: AUC-ROC- 0.9999, F1 Score- 0.0000; Class 1: AUC-ROC- 0.9678, F1 Score- 0.1121; Class 2: AUC-ROC- 0.9469, F1 Score- 0.6164; Class 3: AUC-ROC- 0.9967, F1 Score- 0.0000; Macro-Average AUC-ROC: 0.9778; Macro-Average F1 Score: 0.1821\n",
      "\n",
      "Epoch [101/500], Loss: 1.3326, Accuracy: 0.8802, Edge Accuracy: [0.9999913018738126, 0.999726859876359, 0.9126468692677606]\n",
      "Class 0: AUC-ROC- 1.0000, F1 Score- 0.0000; Class 1: AUC-ROC- 0.9994, F1 Score- 0.8000; Class 2: AUC-ROC- 0.9824, F1 Score- 0.8372; Class 3: AUC-ROC- 0.9913, F1 Score- 0.0000; Macro-Average AUC-ROC: 0.9933; Macro-Average F1 Score: 0.4093\n",
      "Validation Loss: 1.3307, Validation Accuracy: 0.7550, Validation Edge Accuracy: []\n",
      "Class 0: AUC-ROC- 0.9999, F1 Score- 0.0000; Class 1: AUC-ROC- 0.9817, F1 Score- 0.2759; Class 2: AUC-ROC- 0.9468, F1 Score- 0.7470; Class 3: AUC-ROC- 0.9949, F1 Score- 0.0000; Macro-Average AUC-ROC: 0.9808; Macro-Average F1 Score: 0.2557\n",
      "Test Loss: 1.3307, Test Accuracy: 0.7775, Test Edge Accuracy: []\n",
      "Class 0: AUC-ROC- 1.0000, F1 Score- 0.0000; Class 1: AUC-ROC- 0.9781, F1 Score- 0.3306; Class 2: AUC-ROC- 0.9565, F1 Score- 0.7574; Class 3: AUC-ROC- 0.9977, F1 Score- 0.0000; Macro-Average AUC-ROC: 0.9831; Macro-Average F1 Score: 0.2720\n",
      "\n",
      "Epoch [111/500], Loss: 1.3231, Accuracy: 0.9531, Edge Accuracy: [0.9999886056758958, 0.999730702493679, 0.9126468692677606]\n",
      "Class 0: AUC-ROC- 1.0000, F1 Score- 0.0000; Class 1: AUC-ROC- 0.9997, F1 Score- 0.8649; Class 2: AUC-ROC- 0.9887, F1 Score- 0.9130; Class 3: AUC-ROC- 0.9920, F1 Score- 0.0000; Macro-Average AUC-ROC: 0.9951; Macro-Average F1 Score: 0.4445\n",
      "Validation Loss: 1.3222, Validation Accuracy: 0.8100, Validation Edge Accuracy: []\n",
      "Class 0: AUC-ROC- 0.9999, F1 Score- 0.0000; Class 1: AUC-ROC- 0.9872, F1 Score- 0.6111; Class 2: AUC-ROC- 0.9560, F1 Score- 0.8000; Class 3: AUC-ROC- 0.9952, F1 Score- 0.0000; Macro-Average AUC-ROC: 0.9846; Macro-Average F1 Score: 0.3528\n",
      "Test Loss: 1.3222, Test Accuracy: 0.8225, Test Edge Accuracy: []\n",
      "Class 0: AUC-ROC- 1.0000, F1 Score- 0.0000; Class 1: AUC-ROC- 0.9858, F1 Score- 0.5468; Class 2: AUC-ROC- 0.9640, F1 Score- 0.8432; Class 3: AUC-ROC- 0.9978, F1 Score- 0.0000; Macro-Average AUC-ROC: 0.9869; Macro-Average F1 Score: 0.3475\n",
      "\n",
      "Epoch [121/500], Loss: 1.3129, Accuracy: 0.9688, Edge Accuracy: [0.9999852679942448, 0.9997343056489655, 0.9126468692677606]\n",
      "Class 0: AUC-ROC- 1.0000, F1 Score- 0.0000; Class 1: AUC-ROC- 0.9998, F1 Score- 0.9500; Class 2: AUC-ROC- 0.9928, F1 Score- 0.9263; Class 3: AUC-ROC- 0.9925, F1 Score- 0.0000; Macro-Average AUC-ROC: 0.9963; Macro-Average F1 Score: 0.4691\n",
      "Validation Loss: 1.3130, Validation Accuracy: 0.8850, Validation Edge Accuracy: []\n",
      "Class 0: AUC-ROC- 0.9997, F1 Score- 0.0000; Class 1: AUC-ROC- 0.9915, F1 Score- 0.7013; Class 2: AUC-ROC- 0.9633, F1 Score- 0.8800; Class 3: AUC-ROC- 0.9949, F1 Score- 0.0000; Macro-Average AUC-ROC: 0.9874; Macro-Average F1 Score: 0.3953\n",
      "Test Loss: 1.3130, Test Accuracy: 0.8675, Test Edge Accuracy: []\n",
      "Class 0: AUC-ROC- 1.0000, F1 Score- 0.0000; Class 1: AUC-ROC- 0.9903, F1 Score- 0.6711; Class 2: AUC-ROC- 0.9692, F1 Score- 0.8612; Class 3: AUC-ROC- 0.9981, F1 Score- 0.0000; Macro-Average AUC-ROC: 0.9894; Macro-Average F1 Score: 0.3831\n",
      "\n",
      "Epoch [131/500], Loss: 1.3019, Accuracy: 0.9740, Edge Accuracy: [0.9999812298418499, 0.9997383540539706, 0.9126633946424735]\n",
      "Class 0: AUC-ROC- 1.0000, F1 Score- 0.0000; Class 1: AUC-ROC- 1.0000, F1 Score- 0.9756; Class 2: AUC-ROC- 0.9951, F1 Score- 0.9495; Class 3: AUC-ROC- 0.9931, F1 Score- 0.0000; Macro-Average AUC-ROC: 0.9970; Macro-Average F1 Score: 0.4813\n",
      "Validation Loss: 1.3031, Validation Accuracy: 0.9100, Validation Edge Accuracy: []\n",
      "Class 0: AUC-ROC- 0.9997, F1 Score- 0.0392; Class 1: AUC-ROC- 0.9936, F1 Score- 0.7805; Class 2: AUC-ROC- 0.9695, F1 Score- 0.8654; Class 3: AUC-ROC- 0.9949, F1 Score- 0.0000; Macro-Average AUC-ROC: 0.9894; Macro-Average F1 Score: 0.4213\n",
      "Test Loss: 1.3031, Test Accuracy: 0.8875, Test Edge Accuracy: []\n",
      "Class 0: AUC-ROC- 1.0000, F1 Score- 0.0392; Class 1: AUC-ROC- 0.9936, F1 Score- 0.7683; Class 2: AUC-ROC- 0.9735, F1 Score- 0.8455; Class 3: AUC-ROC- 0.9981, F1 Score- 0.0000; Macro-Average AUC-ROC: 0.9913; Macro-Average F1 Score: 0.4132\n",
      "\n",
      "Epoch [141/500], Loss: 1.2907, Accuracy: 0.9740, Edge Accuracy: [0.999976557579097, 0.9997421106146224, 0.9127074623083745]\n",
      "Class 0: AUC-ROC- 1.0000, F1 Score- 0.1818; Class 1: AUC-ROC- 1.0000, F1 Score- 0.9880; Class 2: AUC-ROC- 0.9961, F1 Score- 0.9423; Class 3: AUC-ROC- 0.9945, F1 Score- 0.0000; Macro-Average AUC-ROC: 0.9976; Macro-Average F1 Score: 0.5280\n",
      "Validation Loss: 1.2926, Validation Accuracy: 0.9250, Validation Edge Accuracy: []\n",
      "Class 0: AUC-ROC- 0.9997, F1 Score- 0.2143; Class 1: AUC-ROC- 0.9952, F1 Score- 0.8764; Class 2: AUC-ROC- 0.9747, F1 Score- 0.8598; Class 3: AUC-ROC- 0.9952, F1 Score- 0.0000; Macro-Average AUC-ROC: 0.9912; Macro-Average F1 Score: 0.4876\n",
      "Test Loss: 1.2928, Test Accuracy: 0.9150, Test Edge Accuracy: []\n",
      "Class 0: AUC-ROC- 1.0000, F1 Score- 0.1982; Class 1: AUC-ROC- 0.9958, F1 Score- 0.8409; Class 2: AUC-ROC- 0.9766, F1 Score- 0.8246; Class 3: AUC-ROC- 0.9982, F1 Score- 0.0000; Macro-Average AUC-ROC: 0.9927; Macro-Average F1 Score: 0.4659\n",
      "\n",
      "Epoch [151/500], Loss: 1.2790, Accuracy: 0.9740, Edge Accuracy: [0.999971300361828, 0.9997449542262711, 0.9127625468907508]\n",
      "Class 0: AUC-ROC- 1.0000, F1 Score- 0.6667; Class 1: AUC-ROC- 1.0000, F1 Score- 1.0000; Class 2: AUC-ROC- 0.9966, F1 Score- 0.8909; Class 3: AUC-ROC- 0.9948, F1 Score- 0.0000; Macro-Average AUC-ROC: 0.9979; Macro-Average F1 Score: 0.6394\n",
      "Validation Loss: 1.2815, Validation Accuracy: 0.9500, Validation Edge Accuracy: []\n",
      "Class 0: AUC-ROC- 0.9997, F1 Score- 0.6667; Class 1: AUC-ROC- 0.9964, F1 Score- 0.9011; Class 2: AUC-ROC- 0.9787, F1 Score- 0.8545; Class 3: AUC-ROC- 0.9951, F1 Score- 0.0000; Macro-Average AUC-ROC: 0.9925; Macro-Average F1 Score: 0.6056\n",
      "Test Loss: 1.2819, Test Accuracy: 0.9350, Test Edge Accuracy: []\n",
      "Class 0: AUC-ROC- 1.0000, F1 Score- 0.5401; Class 1: AUC-ROC- 0.9972, F1 Score- 0.9091; Class 2: AUC-ROC- 0.9794, F1 Score- 0.7966; Class 3: AUC-ROC- 0.9982, F1 Score- 0.0000; Macro-Average AUC-ROC: 0.9937; Macro-Average F1 Score: 0.5615\n",
      "\n",
      "Epoch [161/500], Loss: 1.2672, Accuracy: 0.9740, Edge Accuracy: [0.9999662225633812, 0.999748482549672, 0.9128919956593349]\n",
      "Class 0: AUC-ROC- 1.0000, F1 Score- 0.7952; Class 1: AUC-ROC- 1.0000, F1 Score- 1.0000; Class 2: AUC-ROC- 0.9972, F1 Score- 0.8772; Class 3: AUC-ROC- 0.9949, F1 Score- 0.0000; Macro-Average AUC-ROC: 0.9980; Macro-Average F1 Score: 0.6681\n",
      "Validation Loss: 1.2702, Validation Accuracy: 0.9550, Validation Edge Accuracy: []\n",
      "Class 0: AUC-ROC- 0.9997, F1 Score- 0.8235; Class 1: AUC-ROC- 0.9977, F1 Score- 0.9362; Class 2: AUC-ROC- 0.9811, F1 Score- 0.8496; Class 3: AUC-ROC- 0.9951, F1 Score- 0.0000; Macro-Average AUC-ROC: 0.9934; Macro-Average F1 Score: 0.6523\n",
      "Test Loss: 1.2706, Test Accuracy: 0.9450, Test Edge Accuracy: []\n",
      "Class 0: AUC-ROC- 1.0000, F1 Score- 0.8024; Class 1: AUC-ROC- 0.9982, F1 Score- 0.9375; Class 2: AUC-ROC- 0.9816, F1 Score- 0.7984; Class 3: AUC-ROC- 0.9983, F1 Score- 0.0000; Macro-Average AUC-ROC: 0.9945; Macro-Average F1 Score: 0.6346\n",
      "\n",
      "Epoch [171/500], Loss: 1.2547, Accuracy: 0.9740, Edge Accuracy: [0.9999606777844383, 0.9997540799747068, 0.9131040713014834]\n",
      "Class 0: AUC-ROC- 1.0000, F1 Score- 0.8889; Class 1: AUC-ROC- 1.0000, F1 Score- 1.0000; Class 2: AUC-ROC- 0.9977, F1 Score- 0.8696; Class 3: AUC-ROC- 0.9954, F1 Score- 0.0000; Macro-Average AUC-ROC: 0.9983; Macro-Average F1 Score: 0.6896\n",
      "Validation Loss: 1.2588, Validation Accuracy: 0.9600, Validation Edge Accuracy: []\n",
      "Class 0: AUC-ROC- 0.9997, F1 Score- 0.9011; Class 1: AUC-ROC- 0.9981, F1 Score- 0.9583; Class 2: AUC-ROC- 0.9836, F1 Score- 0.8596; Class 3: AUC-ROC- 0.9951, F1 Score- 0.0000; Macro-Average AUC-ROC: 0.9941; Macro-Average F1 Score: 0.6798\n",
      "Test Loss: 1.2591, Test Accuracy: 0.9450, Test Edge Accuracy: []\n",
      "Class 0: AUC-ROC- 1.0000, F1 Score- 0.8827; Class 1: AUC-ROC- 0.9987, F1 Score- 0.9485; Class 2: AUC-ROC- 0.9840, F1 Score- 0.7886; Class 3: AUC-ROC- 0.9986, F1 Score- 0.0000; Macro-Average AUC-ROC: 0.9953; Macro-Average F1 Score: 0.6549\n",
      "\n",
      "Epoch [181/500], Loss: 1.2423, Accuracy: 0.9740, Edge Accuracy: [0.9999541523464537, 0.9997617839173183, 0.913475892232523]\n",
      "Class 0: AUC-ROC- 1.0000, F1 Score- 0.9474; Class 1: AUC-ROC- 1.0000, F1 Score- 1.0000; Class 2: AUC-ROC- 0.9979, F1 Score- 0.8621; Class 3: AUC-ROC- 0.9962, F1 Score- 0.0000; Macro-Average AUC-ROC: 0.9985; Macro-Average F1 Score: 0.7024\n",
      "Validation Loss: 1.2475, Validation Accuracy: 0.9650, Validation Edge Accuracy: []\n",
      "Class 0: AUC-ROC- 0.9997, F1 Score- 0.9362; Class 1: AUC-ROC- 0.9988, F1 Score- 0.9796; Class 2: AUC-ROC- 0.9863, F1 Score- 0.8448; Class 3: AUC-ROC- 0.9952, F1 Score- 0.0000; Macro-Average AUC-ROC: 0.9950; Macro-Average F1 Score: 0.6901\n",
      "Test Loss: 1.2476, Test Accuracy: 0.9425, Test Edge Accuracy: []\n",
      "Class 0: AUC-ROC- 1.0000, F1 Score- 0.9529; Class 1: AUC-ROC- 0.9988, F1 Score- 0.9538; Class 2: AUC-ROC- 0.9855, F1 Score- 0.7698; Class 3: AUC-ROC- 0.9986, F1 Score- 0.0000; Macro-Average AUC-ROC: 0.9957; Macro-Average F1 Score: 0.6691\n",
      "\n",
      "Epoch [191/500], Loss: 1.2306, Accuracy: 0.9792, Edge Accuracy: [0.9999467052364374, 0.9997708348338685, 0.9139413569536022]\n",
      "Class 0: AUC-ROC- 1.0000, F1 Score- 0.9583; Class 1: AUC-ROC- 1.0000, F1 Score- 1.0000; Class 2: AUC-ROC- 0.9982, F1 Score- 0.8475; Class 3: AUC-ROC- 0.9968, F1 Score- 0.0000; Macro-Average AUC-ROC: 0.9987; Macro-Average F1 Score: 0.7014\n",
      "Validation Loss: 1.2363, Validation Accuracy: 0.9700, Validation Edge Accuracy: []\n",
      "Class 0: AUC-ROC- 0.9997, F1 Score- 0.9691; Class 1: AUC-ROC- 0.9991, F1 Score- 0.9899; Class 2: AUC-ROC- 0.9875, F1 Score- 0.8235; Class 3: AUC-ROC- 0.9953, F1 Score- 0.0000; Macro-Average AUC-ROC: 0.9954; Macro-Average F1 Score: 0.6956\n",
      "Test Loss: 1.2364, Test Accuracy: 0.9450, Test Edge Accuracy: []\n",
      "Class 0: AUC-ROC- 1.0000, F1 Score- 0.9691; Class 1: AUC-ROC- 0.9990, F1 Score- 0.9645; Class 2: AUC-ROC- 0.9868, F1 Score- 0.7549; Class 3: AUC-ROC- 0.9985, F1 Score- 0.0000; Macro-Average AUC-ROC: 0.9961; Macro-Average F1 Score: 0.6721\n",
      "\n",
      "Finished Training\n",
      "Validation Metrics:\n",
      "Val_acc_list: ['0.2250', '0.2700', '0.3000', '0.3050', '0.3300', '0.3450', '0.3800', '0.4750', '0.5600', '0.6550', '0.7550', '0.8100', '0.8850', '0.9100', '0.9250', '0.9500', '0.9550', '0.9600', '0.9650', '0.9700']\n",
      "Val_auc_list: ['0.5541', '0.6688', '0.7644', '0.8369', '0.8892', '0.9245', '0.9458', '0.9604', '0.9693', '0.9761', '0.9808', '0.9846', '0.9874', '0.9894', '0.9912', '0.9925', '0.9934', '0.9941', '0.9950', '0.9954']\n",
      "Val_f1_list: ['0.0000', '0.0000', '0.0000', '0.0098', '0.0192', '0.0283', '0.0536', '0.1000', '0.1310', '0.1961', '0.2557', '0.3528', '0.3953', '0.4213', '0.4876', '0.6056', '0.6523', '0.6798', '0.6901', '0.6956']\n",
      "Test Metrics:\n",
      "Test_acc_list: ['0.2450', '0.2800', '0.2975', '0.3075', '0.3275', '0.3750', '0.4200', '0.5125', '0.5850', '0.6925', '0.7775', '0.8225', '0.8675', '0.8875', '0.9150', '0.9350', '0.9450', '0.9450', '0.9425', '0.9450']\n",
      "Test_auc_list: ['0.5388', '0.6554', '0.7553', '0.8303', '0.8833', '0.9192', '0.9442', '0.9601', '0.9704', '0.9778', '0.9831', '0.9869', '0.9894', '0.9913', '0.9927', '0.9937', '0.9945', '0.9953', '0.9957', '0.9961']\n",
      "Test_f1_list: ['0.0047', '0.0000', '0.0000', '0.0000', '0.0000', '0.0238', '0.0455', '0.0847', '0.1385', '0.1821', '0.2720', '0.3475', '0.3831', '0.4132', '0.4659', '0.5615', '0.6346', '0.6549', '0.6691', '0.6721']\n"
     ]
    },
    {
     "data": {
      "text/plain": [
       "([0.245,\n",
       "  0.28,\n",
       "  0.2975,\n",
       "  0.3075,\n",
       "  0.3275,\n",
       "  0.375,\n",
       "  0.42,\n",
       "  0.5125,\n",
       "  0.585,\n",
       "  0.6925,\n",
       "  0.7775,\n",
       "  0.8225,\n",
       "  0.8675,\n",
       "  0.8875,\n",
       "  0.915,\n",
       "  0.935,\n",
       "  0.945,\n",
       "  0.945,\n",
       "  0.9425,\n",
       "  0.945],\n",
       " [0.5388,\n",
       "  0.6554,\n",
       "  0.75535,\n",
       "  0.8302624999999999,\n",
       "  0.8832583333333334,\n",
       "  0.919175,\n",
       "  0.9441999999999999,\n",
       "  0.9601000000000002,\n",
       "  0.9703999999999999,\n",
       "  0.9778333333333333,\n",
       "  0.9830583333333334,\n",
       "  0.9868916666666667,\n",
       "  0.9893916666666668,\n",
       "  0.9913000000000001,\n",
       "  0.992675,\n",
       "  0.9936916666666666,\n",
       "  0.9945333333333334,\n",
       "  0.9953333333333333,\n",
       "  0.9957250000000001,\n",
       "  0.9960833333333333],\n",
       " [0.004672897196261682,\n",
       "  0.0,\n",
       "  0.0,\n",
       "  0.0,\n",
       "  0.0,\n",
       "  0.023809523809523808,\n",
       "  0.045454545454545456,\n",
       "  0.08473389355742297,\n",
       "  0.13848322729901677,\n",
       "  0.182146972218666,\n",
       "  0.2719937405252091,\n",
       "  0.3475014582928252,\n",
       "  0.38307416267942584,\n",
       "  0.41324072866397116,\n",
       "  0.46591717315401526,\n",
       "  0.5614617659959736,\n",
       "  0.6345622797614647,\n",
       "  0.6549382646680236,\n",
       "  0.669141751209814,\n",
       "  0.672100745813542])"
      ]
     },
     "execution_count": 7,
     "metadata": {},
     "output_type": "execute_result"
    }
   ],
   "source": [
    "torch.cuda.empty_cache()\n",
    "# profiler = cProfile.Profile()\n",
    "# profiler.enable()\n",
    "train_smote(data, edge_indices, encoder, classifier, decoder_list, train_idx, val_idx, test_idx, args, os_mode = 'gsm', train_mode = 'pret')\n",
    "# profiler.disable()"
   ]
  },
  {
   "cell_type": "code",
   "execution_count": 8,
   "metadata": {},
   "outputs": [],
   "source": [
    "# profiler.print_stats(sort='cumulative')  # Print results to the console\n",
    "# # Or save to a file\n",
    "# with open('profile_results.txt', 'w') as f:\n",
    "#     profiler.dump_stats(f)"
   ]
  },
  {
   "cell_type": "code",
   "execution_count": 9,
   "metadata": {},
   "outputs": [
    {
     "name": "stdout",
     "output_type": "stream",
     "text": [
      "Test Loss: 1.1211, Test Accuracy: 0.9550, Test Edge Accuracy: []\n",
      "Class 0: AUC-ROC- 1.0000, F1 Score- 1.0000; Class 1: AUC-ROC- 0.9991, F1 Score- 0.9751; Class 2: AUC-ROC- 0.9948, F1 Score- 0.8772; Class 3: AUC-ROC- 0.9982, F1 Score- 0.0000; Macro-Average AUC-ROC: 0.9980; Macro-Average F1 Score: 0.7131\n"
     ]
    },
    {
     "data": {
      "text/plain": [
       "(0.955, 0.9980166666666667, 0.7130793401413983)"
      ]
     },
     "execution_count": 9,
     "metadata": {},
     "output_type": "execute_result"
    }
   ],
   "source": [
    "test_smote(data, edge_indices, encoder, classifier, decoder_list, test_idx, args = args, dataset = 'Test', os_mode = 'no', train_mode = 'pret')"
   ]
  }
 ],
 "metadata": {
  "kernelspec": {
   "display_name": "venv",
   "language": "python",
   "name": "venv"
  },
  "language_info": {
   "codemirror_mode": {
    "name": "ipython",
    "version": 3
   },
   "file_extension": ".py",
   "mimetype": "text/x-python",
   "name": "python",
   "nbconvert_exporter": "python",
   "pygments_lexer": "ipython3",
   "version": "3.10.12"
  },
  "orig_nbformat": 4
 },
 "nbformat": 4,
 "nbformat_minor": 2
}
