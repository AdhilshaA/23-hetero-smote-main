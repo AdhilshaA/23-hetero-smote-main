{
 "cells": [
  {
   "cell_type": "code",
   "execution_count": null,
   "metadata": {},
   "outputs": [],
   "source": [
    "import numpy as np\n",
    "import matplotlib.pyplot as plt\n",
    "import sys\n",
    "sys.path.extend([ '../', '../../'])\n",
    "import torch\n",
    "import torch.nn as nn\n",
    "import torch.optim as optim\n",
    "from data import input_data\n",
    "import dataloader as dl\n",
    "from args import Args\n",
    "from model import Het_En, Classifier, EdgePredictor, Het_classify\n",
    "from smote import oversample\n",
    "from train import train_smote, test_smote\n",
    "import cProfile\n",
    "\n",
    "# Set device to GPU if available, else use CPU\n",
    "args = Args()\n",
    "args.aminer_train()\n",
    "torch.cuda.empty_cache()"
   ]
  },
  {
   "cell_type": "code",
   "execution_count": null,
   "metadata": {},
   "outputs": [],
   "source": [
    "# data = input_data(args) \n",
    "# torch.save(data, 'data.pt')\n",
    "data = torch.load('../../data/aminer/am_data.pt')\n",
    "print(data)"
   ]
  },
  {
   "cell_type": "code",
   "execution_count": null,
   "metadata": {},
   "outputs": [],
   "source": [
    "print(data['a','walk','p'].edge_index)\n",
    "device = args.device\n",
    "# data = data.to(device)\n",
    "\n",
    "# Send all x tensors to the device\n",
    "data['p_title_embed']['x'] = data['p_title_embed']['x'].to(device)\n",
    "data['p_abstract_embed']['x'] = data['p_abstract_embed']['x'].to(device)\n",
    "data['p_net_embed']['x'] = data['p_net_embed']['x'].to(device)\n",
    "data['p_a_net_embed']['x'] = data['p_a_net_embed']['x'].to(device)\n",
    "data['p_p_net_embed']['x'] = data['p_p_net_embed']['x'].to(device)\n",
    "data['p_v_net_embed']['x'] = data['p_v_net_embed']['x'].to(device)\n",
    "data['a_net_embed']['x'] = data['a_net_embed']['x'].to(device)\n",
    "data['a_text_embed']['x'] = data['a_text_embed']['x'].to(device)\n",
    "data['v_net_embed']['x'] = data['v_net_embed']['x'].to(device)\n",
    "data['v_text_embed']['x'] = data['v_text_embed']['x'].to(device)\n",
    "\n",
    "# Send all y tensors to the device\n",
    "data['a']['y'] = data['a']['y'].to(device)\n",
    "\n",
    "# Send all edge_index tensors to the device\n",
    "data['a', 'walk', 'a']['edge_index'] = data['a', 'walk', 'a']['edge_index'].to(device)\n",
    "data['a', 'walk', 'p']['edge_index'] = data['a', 'walk', 'p']['edge_index'].to(device)\n",
    "data['a', 'walk', 'v']['edge_index'] = data['a', 'walk', 'v']['edge_index'].to(device)\n",
    "data['p', 'walk', 'a']['edge_index'] = data['p', 'walk', 'a']['edge_index'].to(device)\n",
    "data['p', 'walk', 'p']['edge_index'] = data['p', 'walk', 'p']['edge_index'].to(device)\n",
    "data['p', 'walk', 'v']['edge_index'] = data['p', 'walk', 'v']['edge_index'].to(device)\n",
    "data['v', 'walk', 'a']['edge_index'] = data['v', 'walk', 'a']['edge_index'].to(device)\n",
    "data['v', 'walk', 'p']['edge_index'] = data['v', 'walk', 'p']['edge_index'].to(device)\n",
    "data['v', 'walk', 'v']['edge_index'] = data['v', 'walk', 'v']['edge_index'].to(device)\n",
    "\n",
    "edge_indices = [ data['a', 'walk', 'a'].edge_index, data['a', 'walk', 'p'].edge_index, data['a', 'walk', 'v'].edge_index ]"
   ]
  },
  {
   "cell_type": "code",
   "execution_count": null,
   "metadata": {},
   "outputs": [],
   "source": [
    "c_train_num = dl.train_num(data['a'].y, args.im_class_num, args.class_sample_num, args.im_ratio)\n",
    "print(c_train_num, sum(c_train_num))\n",
    "train_idx, val_idx, test_idx, c_num_mat = dl.segregate(data['a'].y, c_train_num)\n",
    "print(\"train_idx: \", train_idx, len(train_idx))\n",
    "print(\"val_idx: \", val_idx, len(val_idx))\n",
    "print(\"test_idx: \", test_idx, len(test_idx))\n",
    "# print(c_num_mat)"
   ]
  },
  {
   "cell_type": "code",
   "execution_count": null,
   "metadata": {},
   "outputs": [],
   "source": [
    "# os_mode = 'up'\n",
    "# portion = sum(c_train_num)/(4*c_train_num[1])\n",
    "# if os_mode != 'reweight' and os_mode != 'no':\n",
    "#     if portion >= 1:\n",
    "#         args.node_dim[0] = args.A_n + (portion-1)*c_train_num[1] + int((portion - int(portion))*c_train_num[1])\n",
    "#     else:\n",
    "#         args.node_dim[0] = args.A_n + int((portion - int(portion))*c_train_num[1])\n",
    "\n",
    "# args.node_dim[0] += 22"
   ]
  },
  {
   "cell_type": "code",
   "execution_count": null,
   "metadata": {},
   "outputs": [],
   "source": [
    "encoder = Het_En(args.embed_dim, args.dropout)\n",
    "classifier = Het_classify(args.embed_dim, args.nclass, args.dropout)\n",
    "decoder_a = torch.load('pre_decoder/decoder_a.pth')\n",
    "decoder_p = torch.load('pre_decoder/decoder_p.pth')\n",
    "decoder_v = torch.load('pre_decoder/decoder_v.pth')\n",
    "decoder_list = [decoder_a, decoder_p, decoder_v]\n",
    "#print(features.shape)\n",
    "encoder.to(device)\n",
    "classifier.to(device)\n",
    "for decoder in decoder_list:\n",
    "    decoder.to(device)"
   ]
  },
  {
   "cell_type": "markdown",
   "metadata": {},
   "source": [
    "## Training Part"
   ]
  },
  {
   "cell_type": "code",
   "execution_count": null,
   "metadata": {},
   "outputs": [],
   "source": [
    "torch.cuda.empty_cache()\n",
    "# profiler = cProfile.Profile()\n",
    "# profiler.enable()\n",
    "train_smote(data, edge_indices, encoder, classifier, decoder_list, train_idx, val_idx, test_idx, args, os_mode = 'gsm', train_mode = 'preO')\n",
    "# profiler.disable()"
   ]
  },
  {
   "cell_type": "code",
   "execution_count": null,
   "metadata": {},
   "outputs": [],
   "source": [
    "# profiler.print_stats(sort='cumulative')  # Print results to the console\n",
    "# # Or save to a file\n",
    "# with open('profile_results.txt', 'w') as f:\n",
    "#     profiler.dump_stats(f)"
   ]
  },
  {
   "cell_type": "code",
   "execution_count": null,
   "metadata": {},
   "outputs": [],
   "source": [
    "test_smote(data, edge_indices, encoder, classifier, decoder_list, test_idx, args = args, dataset = 'Test', os_mode = 'no', train_mode = 'preO')"
   ]
  }
 ],
 "metadata": {
  "kernelspec": {
   "display_name": "venv",
   "language": "python",
   "name": "python3"
  },
  "language_info": {
   "codemirror_mode": {
    "name": "ipython",
    "version": 3
   },
   "file_extension": ".py",
   "mimetype": "text/x-python",
   "name": "python",
   "nbconvert_exporter": "python",
   "pygments_lexer": "ipython3",
   "version": "3.10.12"
  },
  "orig_nbformat": 4
 },
 "nbformat": 4,
 "nbformat_minor": 2
}
