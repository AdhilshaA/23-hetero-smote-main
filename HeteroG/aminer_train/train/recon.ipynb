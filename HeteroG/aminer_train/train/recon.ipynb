{
 "cells": [
  {
   "cell_type": "code",
   "execution_count": 1,
   "metadata": {},
   "outputs": [
    {
     "name": "stdout",
     "output_type": "stream",
     "text": [
      "Current device: NVIDIA A100 80GB PCIe\n"
     ]
    }
   ],
   "source": [
    "import numpy as np\n",
    "import matplotlib.pyplot as plt\n",
    "import sys\n",
    "sys.path.extend([ '../', '../../'])\n",
    "import torch\n",
    "import torch.nn as nn\n",
    "import torch.optim as optim\n",
    "from data import input_data\n",
    "import dataloader as dl\n",
    "from args import Args\n",
    "from model import Het_En, Classifier, EdgePredictor, Het_classify\n",
    "from smote import oversample\n",
    "from train import train_smote, test_smote\n",
    "import cProfile\n",
    "\n",
    "# Set device to GPU if available, else use CPU\n",
    "args = Args()\n",
    "args.aminer_train()\n",
    "torch.cuda.empty_cache()"
   ]
  },
  {
   "cell_type": "code",
   "execution_count": 2,
   "metadata": {},
   "outputs": [
    {
     "name": "stdout",
     "output_type": "stream",
     "text": [
      "HeteroData(\n",
      "  \u001b[1ma\u001b[0m={\n",
      "    num_nodes=20171,\n",
      "    y=[20171]\n",
      "  },\n",
      "  \u001b[1mp\u001b[0m={ num_nodes=13250 },\n",
      "  \u001b[1mv\u001b[0m={ num_nodes=18 },\n",
      "  \u001b[1mp_title_embed\u001b[0m={ x=[13250, 128] },\n",
      "  \u001b[1mp_abstract_embed\u001b[0m={ x=[13250, 128] },\n",
      "  \u001b[1mp_net_embed\u001b[0m={ x=[13250, 128] },\n",
      "  \u001b[1mp_a_net_embed\u001b[0m={ x=[13250, 128] },\n",
      "  \u001b[1mp_p_net_embed\u001b[0m={ x=[13250, 128] },\n",
      "  \u001b[1mp_v_net_embed\u001b[0m={ x=[13250, 128] },\n",
      "  \u001b[1ma_net_embed\u001b[0m={ x=[20171, 128] },\n",
      "  \u001b[1ma_text_embed\u001b[0m={ x=[20171, 128] },\n",
      "  \u001b[1mv_net_embed\u001b[0m={ x=[18, 128] },\n",
      "  \u001b[1mv_text_embed\u001b[0m={ x=[18, 128] },\n",
      "  \u001b[1m(a, walk, a)\u001b[0m={ edge_index=[2, 99480] },\n",
      "  \u001b[1m(a, walk, p)\u001b[0m={ edge_index=[2, 86444] },\n",
      "  \u001b[1m(a, walk, v)\u001b[0m={ edge_index=[2, 31716] },\n",
      "  \u001b[1m(p, walk, a)\u001b[0m={ edge_index=[2, 65534] },\n",
      "  \u001b[1m(p, walk, p)\u001b[0m={ edge_index=[2, 66174] },\n",
      "  \u001b[1m(p, walk, v)\u001b[0m={ edge_index=[2, 20838] },\n",
      "  \u001b[1m(v, walk, a)\u001b[0m={ edge_index=[2, 90] },\n",
      "  \u001b[1m(v, walk, p)\u001b[0m={ edge_index=[2, 90] },\n",
      "  \u001b[1m(v, walk, v)\u001b[0m={ edge_index=[2, 27] }\n",
      ")\n"
     ]
    }
   ],
   "source": [
    "# data = input_data(args) \n",
    "# torch.save(data, 'data.pt')\n",
    "data = torch.load('../../data/aminer/am_data.pt')\n",
    "print(data)"
   ]
  },
  {
   "cell_type": "code",
   "execution_count": 3,
   "metadata": {},
   "outputs": [
    {
     "name": "stdout",
     "output_type": "stream",
     "text": [
      "tensor([[    0,     0,     0,  ..., 20170, 20170, 20170],\n",
      "        [10523, 10442, 10329,  ...,  4378, 12456,  6612]])\n"
     ]
    }
   ],
   "source": [
    "print(data['a','walk','p'].edge_index)\n",
    "device = args.device\n",
    "# data = data.to(device)\n",
    "\n",
    "# Send all x tensors to the device\n",
    "data['p_title_embed']['x'] = data['p_title_embed']['x'].to(device)\n",
    "data['p_abstract_embed']['x'] = data['p_abstract_embed']['x'].to(device)\n",
    "data['p_net_embed']['x'] = data['p_net_embed']['x'].to(device)\n",
    "data['p_a_net_embed']['x'] = data['p_a_net_embed']['x'].to(device)\n",
    "data['p_p_net_embed']['x'] = data['p_p_net_embed']['x'].to(device)\n",
    "data['p_v_net_embed']['x'] = data['p_v_net_embed']['x'].to(device)\n",
    "data['a_net_embed']['x'] = data['a_net_embed']['x'].to(device)\n",
    "data['a_text_embed']['x'] = data['a_text_embed']['x'].to(device)\n",
    "data['v_net_embed']['x'] = data['v_net_embed']['x'].to(device)\n",
    "data['v_text_embed']['x'] = data['v_text_embed']['x'].to(device)\n",
    "\n",
    "# Send all y tensors to the device\n",
    "data['a']['y'] = data['a']['y'].to(device)\n",
    "\n",
    "# Send all edge_index tensors to the device\n",
    "data['a', 'walk', 'a']['edge_index'] = data['a', 'walk', 'a']['edge_index'].to(device)\n",
    "data['a', 'walk', 'p']['edge_index'] = data['a', 'walk', 'p']['edge_index'].to(device)\n",
    "data['a', 'walk', 'v']['edge_index'] = data['a', 'walk', 'v']['edge_index'].to(device)\n",
    "data['p', 'walk', 'a']['edge_index'] = data['p', 'walk', 'a']['edge_index'].to(device)\n",
    "data['p', 'walk', 'p']['edge_index'] = data['p', 'walk', 'p']['edge_index'].to(device)\n",
    "data['p', 'walk', 'v']['edge_index'] = data['p', 'walk', 'v']['edge_index'].to(device)\n",
    "data['v', 'walk', 'a']['edge_index'] = data['v', 'walk', 'a']['edge_index'].to(device)\n",
    "data['v', 'walk', 'p']['edge_index'] = data['v', 'walk', 'p']['edge_index'].to(device)\n",
    "data['v', 'walk', 'v']['edge_index'] = data['v', 'walk', 'v']['edge_index'].to(device)\n",
    "\n",
    "edge_indices = [ data['a', 'walk', 'a'].edge_index, data['a', 'walk', 'p'].edge_index, data['a', 'walk', 'v'].edge_index ]"
   ]
  },
  {
   "cell_type": "code",
   "execution_count": 4,
   "metadata": {},
   "outputs": [
    {
     "name": "stdout",
     "output_type": "stream",
     "text": [
      "[50, 30, 25, 20] 125\n",
      "0 335\n",
      "1 202\n",
      "2 299\n",
      "3 289\n",
      "train_idx:  [607, 15697, 11409, 1398, 13584, 12239, 13137, 1361, 15057, 8072, 5352, 14436, 14547, 17783, 19784, 215, 4870, 16768, 18004, 160, 11728, 17328, 7858, 4393, 4945, 3627, 9739, 17924, 2252, 1119, 13039, 17692, 18849, 19229, 8398, 895, 8058, 8721, 3596, 19066, 2985, 11482, 4242, 4534, 3396, 14674, 17095, 9519, 16001, 16232, 19291, 16326, 12250, 12263, 9709, 3540, 4003, 8410, 7549, 3571, 11992, 16337, 9795, 7309, 1977, 13302, 10399, 19234, 11915, 11823, 11659, 16458, 8942, 7104, 1268, 4658, 4325, 10352, 1943, 14221, 13507, 19663, 1892, 15679, 630, 15291, 407, 7308, 6433, 8272, 4095, 6833, 4907, 7277, 2918, 19121, 18983, 6663, 18642, 19186, 550, 4844, 15243, 19102, 1126, 5675, 13942, 7441, 18214, 10741, 59, 1149, 4578, 1960, 16803, 15651, 6950, 12681, 8059, 3413, 16279, 15984, 7125, 7953, 9688] 125\n",
      "val_idx:  [19506, 151, 4461, 3114, 7069, 19661, 17533, 18889, 3053, 13132, 6076, 10885, 1538, 2296, 10984, 15168, 12522, 9855, 2887, 5739, 11948, 17197, 14025, 19984, 19706, 9844, 10526, 13386, 34, 6184, 295, 3700, 19055, 19791, 6710, 16262, 8308, 7022, 16518, 7859, 16033, 12842, 12763, 2857, 6772, 4719, 7908, 13107, 13109, 19253, 6564, 15705, 19130, 11560, 2986, 20047, 10955, 8151, 12302, 12375, 11406, 8890, 11430, 6566, 3512, 12878, 18289, 18684, 10229, 18798, 205, 16685, 20024, 3461, 14560, 254, 5002, 11220, 10610, 16623, 17090, 5073, 6616, 13007, 2742, 10797, 2675, 6050, 4572, 11530, 19714, 3442, 11190, 9926, 15790, 2090, 3355, 2782, 9029, 5488, 15569, 17253, 16631, 11747, 6470, 8232, 521, 19475, 5680, 9706, 6102, 18638, 5316, 2931, 12094, 1944, 10953, 11547, 6158, 12612, 7100, 13373, 12562, 16881, 2979, 9376, 13529, 17149, 14566, 13416, 12858, 14304, 18029, 658, 5606, 4819, 9658, 5233, 13689, 5119, 18120, 5652, 2643, 15593, 2027, 12708, 17118, 2512, 8260, 17126, 16191, 12172, 18584, 17228, 17325, 10724, 12115, 10196, 6849, 1219, 6640, 15128, 2235, 1632, 12690, 15163, 6133, 15079, 8364, 11390, 2398, 5506, 15304, 12458, 17532, 4566, 6891, 19878, 10568, 8856, 12128, 17054, 16237, 13691, 4649, 15713, 4270, 297, 16562, 7652, 11345, 4170, 18418, 11463, 3976, 16664, 14297, 16812, 7778, 1544, 14867, 9430, 16090, 14016, 2298, 6670, 15419, 14422, 10349, 14632, 1348, 5988, 3701, 11838, 12461, 866, 16731, 13333, 355, 2073] 220\n",
      "test_idx:  [19108, 18876, 19732, 19032, 18801, 6233, 7900, 5782, 4537, 18466, 3376, 11413, 19549, 16719, 8394, 1730, 13099, 16522, 7409, 10442, 11195, 14914, 1494, 9809, 10777, 10774, 7909, 3041, 19120, 1124, 1381, 8755, 36, 7688, 8711, 68, 18119, 17201, 4327, 17838, 296, 6296, 19629, 3426, 10301, 19118, 7988, 11980, 12715, 7986, 7643, 11651, 3869, 1135, 6837, 17721, 3842, 13395, 9930, 9995, 9923, 15092, 14625, 11517, 9180, 18712, 15076, 3850, 12333, 10021, 16781, 11727, 9417, 4300, 1737, 14969, 14103, 18155, 8423, 2579, 14416, 4428, 9223, 15791, 1195, 13577, 5525, 17900, 19659, 4932, 15824, 10387, 13074, 8666, 12545, 8436, 1028, 3060, 15365, 3446, 9247, 13200, 3003, 3208, 9363, 11803, 16371, 6010, 8113, 590, 12494, 10819, 4330, 19283, 8882, 12019, 1002, 1292, 2338, 19282, 8630, 8346, 11245, 5208, 18885, 17356, 9411, 11434, 10535, 14968, 14133, 116, 2532, 14760, 2444, 17949, 17664, 3495, 10339, 8884, 1260, 19809, 8420, 3121, 10422, 15127, 13610, 4470, 12760, 12648, 11894, 16477, 9188, 10122, 18855, 2606, 6520, 9390, 16468, 11625, 9986, 15814, 17965, 1731, 9789, 13015, 17063, 13730, 15237, 19529, 5533, 1811, 18866, 5034, 30, 7808, 13959, 14987, 12008, 9106, 421, 12315, 1283, 11130, 664, 16357, 1330, 15876, 174, 121, 17257, 4179, 2752, 11859, 19525, 7314, 10961, 19581, 11532, 3649, 13340, 13636, 15848, 14707, 8366, 9938, 16021, 19813, 18560, 1091, 1061, 17308, 17807, 11456, 7602, 9469, 6632, 15795, 13893, 14814, 6530, 17035, 17132, 15393, 1044, 3437, 18805, 14513, 19618, 18068, 8885, 7550, 13531, 17071, 2402, 15574, 10332, 14380, 12373, 432, 7210, 15042, 16853, 7902, 2158, 17635, 1881, 12634, 5324, 13810, 13892, 9580, 10597, 16363, 20079, 8862, 10967, 5848, 1368, 14302, 9786, 6719, 11500, 15620, 11299, 3230, 18769, 15206, 3011, 5718, 4064, 14415, 3735, 111, 2379, 17634, 3505, 9364, 1307, 7764, 9168, 10875, 519, 19896, 7513, 1296, 14878, 5452, 19514, 4172, 3755, 4937, 14409, 4475, 7531, 13631, 13157, 16672, 13552, 4024] 300\n"
     ]
    }
   ],
   "source": [
    "c_train_num = dl.train_num(data['a'].y, args.im_class_num, args.class_samp_num[0], args.im_ratio)\n",
    "print(c_train_num, sum(c_train_num))\n",
    "train_idx, val_idx, test_idx, c_num_mat = dl.segregate(data['a'].y, c_train_num, args)\n",
    "print(\"train_idx: \", train_idx, len(train_idx))\n",
    "print(\"val_idx: \", val_idx, len(val_idx))\n",
    "print(\"test_idx: \", test_idx, len(test_idx))\n",
    "# print(c_num_mat)"
   ]
  },
  {
   "cell_type": "code",
   "execution_count": 5,
   "metadata": {},
   "outputs": [],
   "source": [
    "# os_mode = 'up'\n",
    "# portion = sum(c_train_num)/(4*c_train_num[1])\n",
    "# if os_mode != 'reweight' and os_mode != 'no':\n",
    "#     if portion >= 1:\n",
    "#         args.node_dim[0] = args.A_n + (portion-1)*c_train_num[1] + int((portion - int(portion))*c_train_num[1])\n",
    "#     else:\n",
    "#         args.node_dim[0] = args.A_n + int((portion - int(portion))*c_train_num[1])\n",
    "\n",
    "# args.node_dim[0] += 22"
   ]
  },
  {
   "cell_type": "code",
   "execution_count": 6,
   "metadata": {},
   "outputs": [],
   "source": [
    "encoder = Het_En(args.embed_dim, args.dropout)\n",
    "classifier = Het_classify(args.embed_dim, args.nclass, args.dropout)\n",
    "decoder_a = EdgePredictor(args.embed_dim)\n",
    "decoder_p = EdgePredictor(args.embed_dim)\n",
    "decoder_v = EdgePredictor(args.embed_dim)\n",
    "decoder_list = [decoder_a, decoder_p, decoder_v]\n",
    "#print(features.shape)\n",
    "encoder.to(device)\n",
    "classifier.to(device)\n",
    "for decoder in decoder_list:\n",
    "    decoder.to(device)"
   ]
  },
  {
   "cell_type": "markdown",
   "metadata": {},
   "source": [
    "## Training Part"
   ]
  },
  {
   "cell_type": "code",
   "execution_count": 7,
   "metadata": {},
   "outputs": [
    {
     "name": "stdout",
     "output_type": "stream",
     "text": [
      "Epoch [1/200], Loss: 1.4106, Accuracy: 0.2063, Edge Accuracy: [0.9999950795002466, 0.9999972948273395, 0.9128396653060775]\n",
      "Class 0: AUC-ROC- 0.6016, F1 Score- 0.0000; Class 1: AUC-ROC- 0.4034, F1 Score- 0.2472; Class 2: AUC-ROC- 0.6844, F1 Score- 0.0000; Class 3: AUC-ROC- 0.4288, F1 Score- 0.0000; Macro-Average AUC-ROC: 0.5295; Macro-Average F1 Score: 0.0618\n",
      "Validation Loss: 1.3861, Validation Accuracy: 0.2591, Validation Edge Accuracy: []\n",
      "Class 0: AUC-ROC- 0.6417, F1 Score- 0.0000; Class 1: AUC-ROC- 0.2437, F1 Score- 0.1648; Class 2: AUC-ROC- 0.6786, F1 Score- 0.0000; Class 3: AUC-ROC- 0.5671, F1 Score- 0.0000; Macro-Average AUC-ROC: 0.5328; Macro-Average F1 Score: 0.0412\n",
      "Test Loss: 1.3866, Test Accuracy: 0.2600, Test Edge Accuracy: []\n",
      "Class 0: AUC-ROC- 0.6721, F1 Score- 0.0000; Class 1: AUC-ROC- 0.3161, F1 Score- 0.2348; Class 2: AUC-ROC- 0.6260, F1 Score- 0.0000; Class 3: AUC-ROC- 0.4948, F1 Score- 0.0000; Macro-Average AUC-ROC: 0.5272; Macro-Average F1 Score: 0.0587\n",
      "\n",
      "Epoch [11/200], Loss: 1.3512, Accuracy: 0.5714, Edge Accuracy: [0.9999927519711425, 0.9999998578194176, 0.9134208076501468]\n",
      "Class 0: AUC-ROC- 0.9884, F1 Score- 0.7692; Class 1: AUC-ROC- 0.9868, F1 Score- 0.4247; Class 2: AUC-ROC- 0.9877, F1 Score- 0.0000; Class 3: AUC-ROC- 0.9420, F1 Score- 0.0000; Macro-Average AUC-ROC: 0.9762; Macro-Average F1 Score: 0.2985\n",
      "Validation Loss: 1.3576, Validation Accuracy: 0.4227, Validation Edge Accuracy: []\n",
      "Class 0: AUC-ROC- 0.9889, F1 Score- 0.4911; Class 1: AUC-ROC- 0.9222, F1 Score- 0.4215; Class 2: AUC-ROC- 0.9525, F1 Score- 0.0000; Class 3: AUC-ROC- 0.9284, F1 Score- 0.0000; Macro-Average AUC-ROC: 0.9480; Macro-Average F1 Score: 0.2281\n",
      "Test Loss: 1.3586, Test Accuracy: 0.4133, Test Edge Accuracy: []\n",
      "Class 0: AUC-ROC- 0.9938, F1 Score- 0.4902; Class 1: AUC-ROC- 0.9373, F1 Score- 0.4190; Class 2: AUC-ROC- 0.9323, F1 Score- 0.0000; Class 3: AUC-ROC- 0.9099, F1 Score- 0.0000; Macro-Average AUC-ROC: 0.9433; Macro-Average F1 Score: 0.2273\n",
      "\n",
      "Epoch [21/200], Loss: 1.2973, Accuracy: 0.6746, Edge Accuracy: [0.9999856292896813, 0.9999999663256516, 0.9280925861660579]\n",
      "Class 0: AUC-ROC- 0.9982, F1 Score- 0.6944; Class 1: AUC-ROC- 0.9969, F1 Score- 0.4397; Class 2: AUC-ROC- 0.9964, F1 Score- 0.0000; Class 3: AUC-ROC- 0.9929, F1 Score- 0.0000; Macro-Average AUC-ROC: 0.9961; Macro-Average F1 Score: 0.2835\n",
      "Validation Loss: 1.3151, Validation Accuracy: 0.5591, Validation Edge Accuracy: []\n",
      "Class 0: AUC-ROC- 0.9993, F1 Score- 0.5140; Class 1: AUC-ROC- 0.9920, F1 Score- 0.4280; Class 2: AUC-ROC- 0.9836, F1 Score- 0.0000; Class 3: AUC-ROC- 0.9821, F1 Score- 0.0000; Macro-Average AUC-ROC: 0.9893; Macro-Average F1 Score: 0.2355\n",
      "Test Loss: 1.3177, Test Accuracy: 0.5400, Test Edge Accuracy: []\n",
      "Class 0: AUC-ROC- 0.9999, F1 Score- 0.5172; Class 1: AUC-ROC- 0.9882, F1 Score- 0.4202; Class 2: AUC-ROC- 0.9784, F1 Score- 0.0000; Class 3: AUC-ROC- 0.9832, F1 Score- 0.0000; Macro-Average AUC-ROC: 0.9874; Macro-Average F1 Score: 0.2344\n",
      "\n",
      "Epoch [31/200], Loss: 1.2369, Accuracy: 0.9524, Edge Accuracy: [0.9999822031275154, 1.0, 0.9664369639581577]\n",
      "Class 0: AUC-ROC- 0.9995, F1 Score- 0.9709; Class 1: AUC-ROC- 0.9986, F1 Score- 0.5586; Class 2: AUC-ROC- 0.9984, F1 Score- 0.8372; Class 3: AUC-ROC- 0.9995, F1 Score- 0.0952; Macro-Average AUC-ROC: 0.9990; Macro-Average F1 Score: 0.6155\n",
      "Validation Loss: 1.2518, Validation Accuracy: 0.9136, Validation Edge Accuracy: []\n",
      "Class 0: AUC-ROC- 0.9997, F1 Score- 0.9565; Class 1: AUC-ROC- 0.9981, F1 Score- 0.4762; Class 2: AUC-ROC- 0.9936, F1 Score- 0.7912; Class 3: AUC-ROC- 0.9934, F1 Score- 0.0357; Macro-Average AUC-ROC: 0.9962; Macro-Average F1 Score: 0.5649\n",
      "Test Loss: 1.2550, Test Accuracy: 0.9100, Test Edge Accuracy: []\n",
      "Class 0: AUC-ROC- 0.9998, F1 Score- 0.9615; Class 1: AUC-ROC- 0.9977, F1 Score- 0.4854; Class 2: AUC-ROC- 0.9865, F1 Score- 0.6364; Class 3: AUC-ROC- 0.9969, F1 Score- 0.0519; Macro-Average AUC-ROC: 0.9952; Macro-Average F1 Score: 0.5338\n",
      "\n",
      "Epoch [41/200], Loss: 1.1854, Accuracy: 0.9603, Edge Accuracy: [0.9999722957676223, 1.0, 0.985443899107079]\n",
      "Class 0: AUC-ROC- 0.9995, F1 Score- 0.9901; Class 1: AUC-ROC- 0.9990, F1 Score- 0.7294; Class 2: AUC-ROC- 0.9992, F1 Score- 0.9600; Class 3: AUC-ROC- 0.9995, F1 Score- 0.9189; Macro-Average AUC-ROC: 0.9993; Macro-Average F1 Score: 0.8996\n",
      "Validation Loss: 1.1969, Validation Accuracy: 0.9500, Validation Edge Accuracy: []\n",
      "Class 0: AUC-ROC- 0.9994, F1 Score- 0.9730; Class 1: AUC-ROC- 0.9991, F1 Score- 0.6011; Class 2: AUC-ROC- 0.9958, F1 Score- 0.9259; Class 3: AUC-ROC- 0.9974, F1 Score- 0.8660; Macro-Average AUC-ROC: 0.9979; Macro-Average F1 Score: 0.8415\n",
      "Test Loss: 1.1998, Test Accuracy: 0.9433, Test Edge Accuracy: []\n",
      "Class 0: AUC-ROC- 0.9997, F1 Score- 0.9740; Class 1: AUC-ROC- 0.9995, F1 Score- 0.6000; Class 2: AUC-ROC- 0.9915, F1 Score- 0.9371; Class 3: AUC-ROC- 0.9995, F1 Score- 0.8722; Macro-Average AUC-ROC: 0.9976; Macro-Average F1 Score: 0.8458\n",
      "\n",
      "Epoch [51/200], Loss: 1.1432, Accuracy: 0.9762, Edge Accuracy: [0.9999486862168576, 1.0, 0.9920099813263266]\n",
      "Class 0: AUC-ROC- 1.0000, F1 Score- 0.9901; Class 1: AUC-ROC- 0.9997, F1 Score- 0.8732; Class 2: AUC-ROC- 1.0000, F1 Score- 0.9804; Class 3: AUC-ROC- 1.0000, F1 Score- 1.0000; Macro-Average AUC-ROC: 0.9999; Macro-Average F1 Score: 0.9609\n",
      "Validation Loss: 1.1545, Validation Accuracy: 0.9727, Validation Edge Accuracy: []\n",
      "Class 0: AUC-ROC- 0.9991, F1 Score- 0.9730; Class 1: AUC-ROC- 0.9994, F1 Score- 0.7143; Class 2: AUC-ROC- 0.9967, F1 Score- 0.9455; Class 3: AUC-ROC- 0.9979, F1 Score- 0.9434; Macro-Average AUC-ROC: 0.9983; Macro-Average F1 Score: 0.8940\n",
      "Test Loss: 1.1564, Test Accuracy: 0.9667, Test Edge Accuracy: []\n",
      "Class 0: AUC-ROC- 0.9998, F1 Score- 0.9740; Class 1: AUC-ROC- 0.9997, F1 Score- 0.7389; Class 2: AUC-ROC- 0.9940, F1 Score- 0.9128; Class 3: AUC-ROC- 0.9998, F1 Score- 0.9510; Macro-Average AUC-ROC: 0.9983; Macro-Average F1 Score: 0.8942\n",
      "\n",
      "Epoch [61/200], Loss: 1.1125, Accuracy: 0.9841, Edge Accuracy: [0.9999431242333701, 1.0, 0.9960063677777227]\n",
      "Class 0: AUC-ROC- 1.0000, F1 Score- 0.9901; Class 1: AUC-ROC- 0.9997, F1 Score- 0.9538; Class 2: AUC-ROC- 1.0000, F1 Score- 1.0000; Class 3: AUC-ROC- 1.0000, F1 Score- 1.0000; Macro-Average AUC-ROC: 0.9999; Macro-Average F1 Score: 0.9860\n",
      "Validation Loss: 1.1239, Validation Accuracy: 0.9636, Validation Edge Accuracy: []\n",
      "Class 0: AUC-ROC- 0.9993, F1 Score- 0.9818; Class 1: AUC-ROC- 0.9991, F1 Score- 0.7801; Class 2: AUC-ROC- 0.9972, F1 Score- 0.9464; Class 3: AUC-ROC- 0.9982, F1 Score- 0.9434; Macro-Average AUC-ROC: 0.9985; Macro-Average F1 Score: 0.9129\n",
      "Test Loss: 1.1257, Test Accuracy: 0.9733, Test Edge Accuracy: []\n",
      "Class 0: AUC-ROC- 0.9998, F1 Score- 0.9740; Class 1: AUC-ROC- 0.9998, F1 Score- 0.7895; Class 2: AUC-ROC- 0.9957, F1 Score- 0.9481; Class 3: AUC-ROC- 0.9998, F1 Score- 0.9655; Macro-Average AUC-ROC: 0.9988; Macro-Average F1 Score: 0.9193\n",
      "\n",
      "Epoch [71/200], Loss: 1.0909, Accuracy: 0.9921, Edge Accuracy: [0.9999418363503177, 1.0, 0.9978654724329208]\n",
      "Class 0: AUC-ROC- 1.0000, F1 Score- 0.9901; Class 1: AUC-ROC- 1.0000, F1 Score- 0.9688; Class 2: AUC-ROC- 1.0000, F1 Score- 1.0000; Class 3: AUC-ROC- 1.0000, F1 Score- 1.0000; Macro-Average AUC-ROC: 1.0000; Macro-Average F1 Score: 0.9897\n",
      "Validation Loss: 1.1040, Validation Accuracy: 0.9545, Validation Edge Accuracy: []\n",
      "Class 0: AUC-ROC- 0.9996, F1 Score- 0.9730; Class 1: AUC-ROC- 0.9990, F1 Score- 0.8148; Class 2: AUC-ROC- 0.9974, F1 Score- 0.9381; Class 3: AUC-ROC- 0.9985, F1 Score- 0.9533; Macro-Average AUC-ROC: 0.9986; Macro-Average F1 Score: 0.9198\n",
      "Test Loss: 1.1053, Test Accuracy: 0.9733, Test Edge Accuracy: []\n",
      "Class 0: AUC-ROC- 0.9997, F1 Score- 0.9740; Class 1: AUC-ROC- 0.9998, F1 Score- 0.8380; Class 2: AUC-ROC- 0.9963, F1 Score- 0.9419; Class 3: AUC-ROC- 0.9997, F1 Score- 0.9796; Macro-Average AUC-ROC: 0.9989; Macro-Average F1 Score: 0.9334\n",
      "\n",
      "Epoch [81/200], Loss: 1.0758, Accuracy: 0.9921, Edge Accuracy: [0.9999469043175963, 1.0, 0.9993307223241287]\n",
      "Class 0: AUC-ROC- 1.0000, F1 Score- 0.9901; Class 1: AUC-ROC- 1.0000, F1 Score- 0.9841; Class 2: AUC-ROC- 1.0000, F1 Score- 1.0000; Class 3: AUC-ROC- 1.0000, F1 Score- 1.0000; Macro-Average AUC-ROC: 1.0000; Macro-Average F1 Score: 0.9936\n",
      "Validation Loss: 1.0905, Validation Accuracy: 0.9545, Validation Edge Accuracy: []\n",
      "Class 0: AUC-ROC- 0.9997, F1 Score- 0.9730; Class 1: AUC-ROC- 0.9991, F1 Score- 0.8462; Class 2: AUC-ROC- 0.9972, F1 Score- 0.9381; Class 3: AUC-ROC- 0.9986, F1 Score- 0.9434; Macro-Average AUC-ROC: 0.9987; Macro-Average F1 Score: 0.9251\n",
      "Test Loss: 1.0916, Test Accuracy: 0.9733, Test Edge Accuracy: []\n",
      "Class 0: AUC-ROC- 0.9998, F1 Score- 0.9740; Class 1: AUC-ROC- 0.9998, F1 Score- 0.8721; Class 2: AUC-ROC- 0.9963, F1 Score- 0.9419; Class 3: AUC-ROC- 0.9997, F1 Score- 0.9796; Macro-Average AUC-ROC: 0.9989; Macro-Average F1 Score: 0.9419\n",
      "\n",
      "Epoch [91/200], Loss: 1.0642, Accuracy: 1.0000, Edge Accuracy: [0.9999468158370812, 1.0, 0.9998953392934852]\n",
      "Class 0: AUC-ROC- 1.0000, F1 Score- 0.9901; Class 1: AUC-ROC- 1.0000, F1 Score- 0.9841; Class 2: AUC-ROC- 1.0000, F1 Score- 1.0000; Class 3: AUC-ROC- 1.0000, F1 Score- 1.0000; Macro-Average AUC-ROC: 1.0000; Macro-Average F1 Score: 0.9936\n",
      "Validation Loss: 1.0806, Validation Accuracy: 0.9591, Validation Edge Accuracy: []\n",
      "Class 0: AUC-ROC- 0.9997, F1 Score- 0.9730; Class 1: AUC-ROC- 0.9991, F1 Score- 0.8730; Class 2: AUC-ROC- 0.9974, F1 Score- 0.9381; Class 3: AUC-ROC- 0.9986, F1 Score- 0.9434; Macro-Average AUC-ROC: 0.9987; Macro-Average F1 Score: 0.9319\n",
      "Test Loss: 1.0814, Test Accuracy: 0.9700, Test Edge Accuracy: []\n",
      "Class 0: AUC-ROC- 0.9998, F1 Score- 0.9804; Class 1: AUC-ROC- 0.9998, F1 Score- 0.8671; Class 2: AUC-ROC- 0.9963, F1 Score- 0.9419; Class 3: AUC-ROC- 0.9998, F1 Score- 0.9796; Macro-Average AUC-ROC: 0.9989; Macro-Average F1 Score: 0.9422\n",
      "\n",
      "Epoch [101/200], Loss: 1.0541, Accuracy: 1.0000, Edge Accuracy: [0.9999466290448827, 1.0, 1.0]\n",
      "Class 0: AUC-ROC- 1.0000, F1 Score- 0.9901; Class 1: AUC-ROC- 1.0000, F1 Score- 1.0000; Class 2: AUC-ROC- 1.0000, F1 Score- 1.0000; Class 3: AUC-ROC- 1.0000, F1 Score- 1.0000; Macro-Average AUC-ROC: 1.0000; Macro-Average F1 Score: 0.9975\n",
      "Validation Loss: 1.0723, Validation Accuracy: 0.9591, Validation Edge Accuracy: []\n",
      "Class 0: AUC-ROC- 0.9997, F1 Score- 0.9730; Class 1: AUC-ROC- 0.9991, F1 Score- 0.8730; Class 2: AUC-ROC- 0.9974, F1 Score- 0.9381; Class 3: AUC-ROC- 0.9986, F1 Score- 0.9434; Macro-Average AUC-ROC: 0.9987; Macro-Average F1 Score: 0.9319\n",
      "Test Loss: 1.0731, Test Accuracy: 0.9733, Test Edge Accuracy: []\n",
      "Class 0: AUC-ROC- 0.9998, F1 Score- 0.9740; Class 1: AUC-ROC- 0.9998, F1 Score- 0.8982; Class 2: AUC-ROC- 0.9963, F1 Score- 0.9359; Class 3: AUC-ROC- 0.9998, F1 Score- 0.9796; Macro-Average AUC-ROC: 0.9989; Macro-Average F1 Score: 0.9469\n",
      "\n",
      "Epoch [111/200], Loss: 1.0448, Accuracy: 1.0000, Edge Accuracy: [0.999949743067454, 1.0, 1.0]\n",
      "Class 0: AUC-ROC- 1.0000, F1 Score- 1.0000; Class 1: AUC-ROC- 1.0000, F1 Score- 1.0000; Class 2: AUC-ROC- 1.0000, F1 Score- 1.0000; Class 3: AUC-ROC- 1.0000, F1 Score- 1.0000; Macro-Average AUC-ROC: 1.0000; Macro-Average F1 Score: 1.0000\n",
      "Validation Loss: 1.0645, Validation Accuracy: 0.9591, Validation Edge Accuracy: []\n",
      "Class 0: AUC-ROC- 0.9997, F1 Score- 0.9730; Class 1: AUC-ROC- 0.9991, F1 Score- 0.8800; Class 2: AUC-ROC- 0.9974, F1 Score- 0.9381; Class 3: AUC-ROC- 0.9986, F1 Score- 0.9434; Macro-Average AUC-ROC: 0.9987; Macro-Average F1 Score: 0.9336\n",
      "Test Loss: 1.0653, Test Accuracy: 0.9700, Test Edge Accuracy: []\n",
      "Class 0: AUC-ROC- 0.9998, F1 Score- 0.9740; Class 1: AUC-ROC- 0.9998, F1 Score- 0.9036; Class 2: AUC-ROC- 0.9964, F1 Score- 0.9359; Class 3: AUC-ROC- 0.9998, F1 Score- 0.9796; Macro-Average AUC-ROC: 0.9989; Macro-Average F1 Score: 0.9483\n",
      "\n",
      "Epoch [121/200], Loss: 1.0360, Accuracy: 1.0000, Edge Accuracy: [0.9999501363141875, 1.0, 1.0]\n",
      "Class 0: AUC-ROC- 1.0000, F1 Score- 1.0000; Class 1: AUC-ROC- 1.0000, F1 Score- 1.0000; Class 2: AUC-ROC- 1.0000, F1 Score- 1.0000; Class 3: AUC-ROC- 1.0000, F1 Score- 1.0000; Macro-Average AUC-ROC: 1.0000; Macro-Average F1 Score: 1.0000\n",
      "Validation Loss: 1.0567, Validation Accuracy: 0.9591, Validation Edge Accuracy: []\n",
      "Class 0: AUC-ROC- 0.9997, F1 Score- 0.9730; Class 1: AUC-ROC- 0.9991, F1 Score- 0.9167; Class 2: AUC-ROC- 0.9974, F1 Score- 0.9298; Class 3: AUC-ROC- 0.9986, F1 Score- 0.9434; Macro-Average AUC-ROC: 0.9987; Macro-Average F1 Score: 0.9407\n",
      "Test Loss: 1.0577, Test Accuracy: 0.9700, Test Edge Accuracy: []\n",
      "Class 0: AUC-ROC- 0.9998, F1 Score- 0.9740; Class 1: AUC-ROC- 0.9997, F1 Score- 0.8982; Class 2: AUC-ROC- 0.9965, F1 Score- 0.9359; Class 3: AUC-ROC- 0.9998, F1 Score- 0.9796; Macro-Average AUC-ROC: 0.9989; Macro-Average F1 Score: 0.9469\n",
      "\n",
      "Epoch [131/200], Loss: 1.0276, Accuracy: 1.0000, Edge Accuracy: [0.9999486223142634, 1.0, 1.0]\n",
      "Class 0: AUC-ROC- 1.0000, F1 Score- 1.0000; Class 1: AUC-ROC- 1.0000, F1 Score- 1.0000; Class 2: AUC-ROC- 1.0000, F1 Score- 1.0000; Class 3: AUC-ROC- 1.0000, F1 Score- 1.0000; Macro-Average AUC-ROC: 1.0000; Macro-Average F1 Score: 1.0000\n",
      "Validation Loss: 1.0497, Validation Accuracy: 0.9591, Validation Edge Accuracy: []\n",
      "Class 0: AUC-ROC- 0.9997, F1 Score- 0.9643; Class 1: AUC-ROC- 0.9991, F1 Score- 0.9167; Class 2: AUC-ROC- 0.9972, F1 Score- 0.9298; Class 3: AUC-ROC- 0.9985, F1 Score- 0.9434; Macro-Average AUC-ROC: 0.9986; Macro-Average F1 Score: 0.9385\n",
      "Test Loss: 1.0508, Test Accuracy: 0.9700, Test Edge Accuracy: []\n",
      "Class 0: AUC-ROC- 0.9998, F1 Score- 0.9740; Class 1: AUC-ROC- 0.9997, F1 Score- 0.8982; Class 2: AUC-ROC- 0.9966, F1 Score- 0.9359; Class 3: AUC-ROC- 0.9997, F1 Score- 0.9796; Macro-Average AUC-ROC: 0.9989; Macro-Average F1 Score: 0.9469\n",
      "\n",
      "Epoch [141/200], Loss: 1.0199, Accuracy: 1.0000, Edge Accuracy: [0.9999471181455076, 1.0, 1.0]\n",
      "Class 0: AUC-ROC- 1.0000, F1 Score- 1.0000; Class 1: AUC-ROC- 1.0000, F1 Score- 1.0000; Class 2: AUC-ROC- 1.0000, F1 Score- 1.0000; Class 3: AUC-ROC- 1.0000, F1 Score- 1.0000; Macro-Average AUC-ROC: 1.0000; Macro-Average F1 Score: 1.0000\n",
      "Validation Loss: 1.0435, Validation Accuracy: 0.9591, Validation Edge Accuracy: []\n",
      "Class 0: AUC-ROC- 0.9997, F1 Score- 0.9643; Class 1: AUC-ROC- 0.9991, F1 Score- 0.9167; Class 2: AUC-ROC- 0.9972, F1 Score- 0.9381; Class 3: AUC-ROC- 0.9985, F1 Score- 0.9434; Macro-Average AUC-ROC: 0.9986; Macro-Average F1 Score: 0.9406\n",
      "Test Loss: 1.0445, Test Accuracy: 0.9700, Test Edge Accuracy: []\n",
      "Class 0: AUC-ROC- 0.9998, F1 Score- 0.9740; Class 1: AUC-ROC- 0.9997, F1 Score- 0.8982; Class 2: AUC-ROC- 0.9966, F1 Score- 0.9359; Class 3: AUC-ROC- 0.9997, F1 Score- 0.9796; Macro-Average AUC-ROC: 0.9989; Macro-Average F1 Score: 0.9469\n",
      "\n",
      "Epoch [151/200], Loss: 1.0124, Accuracy: 1.0000, Edge Accuracy: [0.9999490696324228, 1.0, 1.0]\n",
      "Class 0: AUC-ROC- 1.0000, F1 Score- 1.0000; Class 1: AUC-ROC- 1.0000, F1 Score- 1.0000; Class 2: AUC-ROC- 1.0000, F1 Score- 1.0000; Class 3: AUC-ROC- 1.0000, F1 Score- 1.0000; Macro-Average AUC-ROC: 1.0000; Macro-Average F1 Score: 1.0000\n",
      "Validation Loss: 1.0371, Validation Accuracy: 0.9591, Validation Edge Accuracy: []\n",
      "Class 0: AUC-ROC- 0.9997, F1 Score- 0.9643; Class 1: AUC-ROC- 0.9991, F1 Score- 0.9167; Class 2: AUC-ROC- 0.9972, F1 Score- 0.9381; Class 3: AUC-ROC- 0.9985, F1 Score- 0.9434; Macro-Average AUC-ROC: 0.9986; Macro-Average F1 Score: 0.9406\n",
      "Test Loss: 1.0383, Test Accuracy: 0.9700, Test Edge Accuracy: []\n",
      "Class 0: AUC-ROC- 0.9998, F1 Score- 0.9740; Class 1: AUC-ROC- 0.9998, F1 Score- 0.8982; Class 2: AUC-ROC- 0.9963, F1 Score- 0.9359; Class 3: AUC-ROC- 0.9997, F1 Score- 0.9796; Macro-Average AUC-ROC: 0.9989; Macro-Average F1 Score: 0.9469\n",
      "\n",
      "Epoch [161/200], Loss: 1.0051, Accuracy: 1.0000, Edge Accuracy: [0.999949917570692, 1.0, 1.0]\n",
      "Class 0: AUC-ROC- 1.0000, F1 Score- 1.0000; Class 1: AUC-ROC- 1.0000, F1 Score- 1.0000; Class 2: AUC-ROC- 1.0000, F1 Score- 1.0000; Class 3: AUC-ROC- 1.0000, F1 Score- 1.0000; Macro-Average AUC-ROC: 1.0000; Macro-Average F1 Score: 1.0000\n",
      "Validation Loss: 1.0309, Validation Accuracy: 0.9591, Validation Edge Accuracy: []\n",
      "Class 0: AUC-ROC- 0.9997, F1 Score- 0.9730; Class 1: AUC-ROC- 0.9991, F1 Score- 0.9244; Class 2: AUC-ROC- 0.9972, F1 Score- 0.9381; Class 3: AUC-ROC- 0.9985, F1 Score- 0.9434; Macro-Average AUC-ROC: 0.9986; Macro-Average F1 Score: 0.9447\n",
      "Test Loss: 1.0321, Test Accuracy: 0.9700, Test Edge Accuracy: []\n",
      "Class 0: AUC-ROC- 0.9998, F1 Score- 0.9740; Class 1: AUC-ROC- 0.9998, F1 Score- 0.8982; Class 2: AUC-ROC- 0.9964, F1 Score- 0.9359; Class 3: AUC-ROC- 0.9998, F1 Score- 0.9796; Macro-Average AUC-ROC: 0.9989; Macro-Average F1 Score: 0.9469\n",
      "\n",
      "Epoch [171/200], Loss: 0.9980, Accuracy: 1.0000, Edge Accuracy: [0.9999501166518509, 1.0, 1.0]\n",
      "Class 0: AUC-ROC- 1.0000, F1 Score- 1.0000; Class 1: AUC-ROC- 1.0000, F1 Score- 1.0000; Class 2: AUC-ROC- 1.0000, F1 Score- 1.0000; Class 3: AUC-ROC- 1.0000, F1 Score- 1.0000; Macro-Average AUC-ROC: 1.0000; Macro-Average F1 Score: 1.0000\n",
      "Validation Loss: 1.0248, Validation Accuracy: 0.9591, Validation Edge Accuracy: []\n",
      "Class 0: AUC-ROC- 0.9997, F1 Score- 0.9730; Class 1: AUC-ROC- 0.9991, F1 Score- 0.9244; Class 2: AUC-ROC- 0.9972, F1 Score- 0.9381; Class 3: AUC-ROC- 0.9985, F1 Score- 0.9434; Macro-Average AUC-ROC: 0.9986; Macro-Average F1 Score: 0.9447\n",
      "Test Loss: 1.0260, Test Accuracy: 0.9700, Test Edge Accuracy: []\n",
      "Class 0: AUC-ROC- 0.9998, F1 Score- 0.9740; Class 1: AUC-ROC- 0.9998, F1 Score- 0.8982; Class 2: AUC-ROC- 0.9965, F1 Score- 0.9299; Class 3: AUC-ROC- 0.9998, F1 Score- 0.9796; Macro-Average AUC-ROC: 0.9990; Macro-Average F1 Score: 0.9454\n",
      "\n",
      "Epoch [181/200], Loss: 0.9910, Accuracy: 1.0000, Edge Accuracy: [0.9999497799343352, 1.0, 1.0]\n",
      "Class 0: AUC-ROC- 1.0000, F1 Score- 1.0000; Class 1: AUC-ROC- 1.0000, F1 Score- 1.0000; Class 2: AUC-ROC- 1.0000, F1 Score- 1.0000; Class 3: AUC-ROC- 1.0000, F1 Score- 1.0000; Macro-Average AUC-ROC: 1.0000; Macro-Average F1 Score: 1.0000\n",
      "Validation Loss: 1.0188, Validation Accuracy: 0.9545, Validation Edge Accuracy: []\n",
      "Class 0: AUC-ROC- 0.9997, F1 Score- 0.9730; Class 1: AUC-ROC- 0.9991, F1 Score- 0.9322; Class 2: AUC-ROC- 0.9972, F1 Score- 0.9381; Class 3: AUC-ROC- 0.9985, F1 Score- 0.9434; Macro-Average AUC-ROC: 0.9986; Macro-Average F1 Score: 0.9467\n",
      "Test Loss: 1.0201, Test Accuracy: 0.9700, Test Edge Accuracy: []\n",
      "Class 0: AUC-ROC- 0.9998, F1 Score- 0.9740; Class 1: AUC-ROC- 0.9998, F1 Score- 0.8982; Class 2: AUC-ROC- 0.9964, F1 Score- 0.9299; Class 3: AUC-ROC- 0.9998, F1 Score- 0.9796; Macro-Average AUC-ROC: 0.9989; Macro-Average F1 Score: 0.9454\n",
      "\n",
      "Epoch [191/200], Loss: 0.9842, Accuracy: 1.0000, Edge Accuracy: [0.9999496349246022, 1.0, 1.0]\n",
      "Class 0: AUC-ROC- 1.0000, F1 Score- 1.0000; Class 1: AUC-ROC- 1.0000, F1 Score- 1.0000; Class 2: AUC-ROC- 1.0000, F1 Score- 1.0000; Class 3: AUC-ROC- 1.0000, F1 Score- 1.0000; Macro-Average AUC-ROC: 1.0000; Macro-Average F1 Score: 1.0000\n",
      "Validation Loss: 1.0130, Validation Accuracy: 0.9500, Validation Edge Accuracy: []\n",
      "Class 0: AUC-ROC- 0.9997, F1 Score- 0.9730; Class 1: AUC-ROC- 0.9991, F1 Score- 0.9322; Class 2: AUC-ROC- 0.9972, F1 Score- 0.9381; Class 3: AUC-ROC- 0.9985, F1 Score- 0.9434; Macro-Average AUC-ROC: 0.9986; Macro-Average F1 Score: 0.9467\n",
      "Test Loss: 1.0142, Test Accuracy: 0.9700, Test Edge Accuracy: []\n",
      "Class 0: AUC-ROC- 0.9998, F1 Score- 0.9740; Class 1: AUC-ROC- 0.9998, F1 Score- 0.8982; Class 2: AUC-ROC- 0.9964, F1 Score- 0.9299; Class 3: AUC-ROC- 0.9998, F1 Score- 0.9726; Macro-Average AUC-ROC: 0.9989; Macro-Average F1 Score: 0.9437\n",
      "\n",
      "Finished Training\n",
      "Validation Metrics:\n",
      "Val_acc_list: ['0.2591', '0.4227', '0.5591', '0.9136', '0.9500', '0.9727', '0.9636', '0.9545', '0.9545', '0.9591', '0.9591', '0.9591', '0.9591', '0.9591', '0.9591', '0.9591', '0.9591', '0.9591', '0.9545', '0.9500']\n",
      "Val_auc_list: ['0.5328', '0.9480', '0.9893', '0.9962', '0.9979', '0.9983', '0.9985', '0.9986', '0.9987', '0.9987', '0.9987', '0.9987', '0.9987', '0.9986', '0.9986', '0.9986', '0.9986', '0.9986', '0.9986', '0.9986']\n",
      "Val_f1_list: ['0.0412', '0.2281', '0.2355', '0.5649', '0.8415', '0.8940', '0.9129', '0.9198', '0.9251', '0.9319', '0.9319', '0.9336', '0.9407', '0.9385', '0.9406', '0.9406', '0.9447', '0.9447', '0.9467', '0.9467']\n",
      "Test Metrics:\n",
      "Test_acc_list: ['0.2600', '0.4133', '0.5400', '0.9100', '0.9433', '0.9667', '0.9733', '0.9733', '0.9733', '0.9700', '0.9733', '0.9700', '0.9700', '0.9700', '0.9700', '0.9700', '0.9700', '0.9700', '0.9700', '0.9700']\n",
      "Test_auc_list: ['0.5272', '0.9433', '0.9874', '0.9952', '0.9976', '0.9983', '0.9988', '0.9989', '0.9989', '0.9989', '0.9989', '0.9989', '0.9989', '0.9989', '0.9989', '0.9989', '0.9989', '0.9990', '0.9989', '0.9989']\n",
      "Test_f1_list: ['0.0587', '0.2273', '0.2344', '0.5338', '0.8458', '0.8942', '0.9193', '0.9334', '0.9419', '0.9422', '0.9469', '0.9483', '0.9469', '0.9469', '0.9469', '0.9469', '0.9469', '0.9454', '0.9454', '0.9437']\n"
     ]
    }
   ],
   "source": [
    "torch.cuda.empty_cache()\n",
    "# profiler = cProfile.Profile()\n",
    "# profiler.enable()\n",
    "train_smote(data, edge_indices, encoder, classifier, decoder_list, train_idx, val_idx, test_idx, args, os_mode = 'gsm', train_mode = 'preo')\n",
    "# profiler.disable()"
   ]
  },
  {
   "cell_type": "code",
   "execution_count": 8,
   "metadata": {},
   "outputs": [],
   "source": [
    "# profiler.print_stats(sort='cumulative')  # Print results to the console\n",
    "# # Or save to a file\n",
    "# with open('profile_results.txt', 'w') as f:\n",
    "#     profiler.dump_stats(f)"
   ]
  },
  {
   "cell_type": "code",
   "execution_count": 9,
   "metadata": {},
   "outputs": [
    {
     "name": "stdout",
     "output_type": "stream",
     "text": [
      "Test Loss: 1.0090, Test Accuracy: 0.9667, Test Edge Accuracy: []\n",
      "Class 0: AUC-ROC- 0.9998, F1 Score- 0.9740; Class 1: AUC-ROC- 0.9999, F1 Score- 0.8982; Class 2: AUC-ROC- 0.9964, F1 Score- 0.9299; Class 3: AUC-ROC- 0.9998, F1 Score- 0.9726; Macro-Average AUC-ROC: 0.9989; Macro-Average F1 Score: 0.9437\n"
     ]
    },
    {
     "data": {
      "text/plain": [
       "(0.9666666666666667,\n",
       " 0.9989481481481481,\n",
       " 0.9436921530747142,\n",
       " [0.999762962962963,\n",
       "  0.9998814814814815,\n",
       "  0.9963851851851853,\n",
       "  0.999762962962963],\n",
       " [0.974025974025974,\n",
       "  0.8982035928143712,\n",
       "  0.9299363057324841,\n",
       "  0.9726027397260273])"
      ]
     },
     "execution_count": 9,
     "metadata": {},
     "output_type": "execute_result"
    }
   ],
   "source": [
    "test_smote(data, edge_indices, encoder, classifier, decoder_list, test_idx, args = args, dataset = 'Test', os_mode = 'no', train_mode = 'preo')"
   ]
  },
  {
   "cell_type": "code",
   "execution_count": 10,
   "metadata": {},
   "outputs": [],
   "source": [
    "# torch.save(decoder_list[0], 'pre_decoder/decoder_a.pth')\n",
    "# torch.save(decoder_list[1], 'pre_decoder/decoder_p.pth')\n",
    "# torch.save(decoder_list[2], 'pre_decoder/decoder_v.pth')\n",
    "torch.save(encoder, 'pre_decoder/encoder.pth')"
   ]
  }
 ],
 "metadata": {
  "kernelspec": {
   "display_name": "venv",
   "language": "python",
   "name": "python3"
  },
  "language_info": {
   "codemirror_mode": {
    "name": "ipython",
    "version": 3
   },
   "file_extension": ".py",
   "mimetype": "text/x-python",
   "name": "python",
   "nbconvert_exporter": "python",
   "pygments_lexer": "ipython3",
   "version": "3.10.12"
  },
  "orig_nbformat": 4
 },
 "nbformat": 4,
 "nbformat_minor": 2
}
