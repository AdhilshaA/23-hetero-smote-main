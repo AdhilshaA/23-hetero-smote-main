{
 "cells": [
  {
   "cell_type": "code",
   "execution_count": null,
   "metadata": {},
   "outputs": [],
   "source": [
    "import sys\n",
    "sys.path.extend([ '../', '../../'])\n",
    "import torch\n",
    "import dataloader as dl\n",
    "from args import Args\n",
    "from model import Het_ConEn, Het_NetEn, EdgePredictor, Het_classify\n",
    "from train2 import train_smote\n",
    "\n",
    "# Set device to GPU if available, else use CPU\n",
    "args = Args()\n",
    "args.aminer_train()\n",
    "torch.cuda.empty_cache()"
   ]
  },
  {
   "cell_type": "code",
   "execution_count": null,
   "metadata": {},
   "outputs": [],
   "source": [
    "data = torch.load('../../data/aminer/am_data.pt')\n",
    "print(data)"
   ]
  },
  {
   "cell_type": "code",
   "execution_count": null,
   "metadata": {},
   "outputs": [],
   "source": [
    "print(data['a','walk','p'].edge_index)\n",
    "device = args.device\n",
    "# data = data.to(device)\n",
    "\n",
    "# Send all x tensors to the device\n",
    "data['p_title_embed']['x'] = data['p_title_embed']['x'].to(device)\n",
    "data['p_abstract_embed']['x'] = data['p_abstract_embed']['x'].to(device)\n",
    "data['p_net_embed']['x'] = data['p_net_embed']['x'].to(device)\n",
    "data['p_a_net_embed']['x'] = data['p_a_net_embed']['x'].to(device)\n",
    "data['p_p_net_embed']['x'] = data['p_p_net_embed']['x'].to(device)\n",
    "data['p_v_net_embed']['x'] = data['p_v_net_embed']['x'].to(device)\n",
    "data['a_net_embed']['x'] = data['a_net_embed']['x'].to(device)\n",
    "data['a_text_embed']['x'] = data['a_text_embed']['x'].to(device)\n",
    "data['v_net_embed']['x'] = data['v_net_embed']['x'].to(device)\n",
    "data['v_text_embed']['x'] = data['v_text_embed']['x'].to(device)\n",
    "\n",
    "# Send all y tensors to the device\n",
    "data['a']['y'] = data['a']['y'].to(device)\n",
    "\n",
    "# Send all edge_index tensors to the device\n",
    "data['a', 'walk', 'a']['edge_index'] = data['a', 'walk', 'a']['edge_index'].to(device)\n",
    "data['a', 'walk', 'p']['edge_index'] = data['a', 'walk', 'p']['edge_index'].to(device)\n",
    "data['a', 'walk', 'v']['edge_index'] = data['a', 'walk', 'v']['edge_index'].to(device)\n",
    "data['p', 'walk', 'a']['edge_index'] = data['p', 'walk', 'a']['edge_index'].to(device)\n",
    "data['p', 'walk', 'p']['edge_index'] = data['p', 'walk', 'p']['edge_index'].to(device)\n",
    "data['p', 'walk', 'v']['edge_index'] = data['p', 'walk', 'v']['edge_index'].to(device)\n",
    "data['v', 'walk', 'a']['edge_index'] = data['v', 'walk', 'a']['edge_index'].to(device)\n",
    "data['v', 'walk', 'p']['edge_index'] = data['v', 'walk', 'p']['edge_index'].to(device)\n",
    "data['v', 'walk', 'v']['edge_index'] = data['v', 'walk', 'v']['edge_index'].to(device)\n",
    "\n",
    "edge_indices = [ data['a', 'walk', 'a'].edge_index, data['a', 'walk', 'p'].edge_index, data['a', 'walk', 'v'].edge_index ]"
   ]
  },
  {
   "cell_type": "code",
   "execution_count": null,
   "metadata": {},
   "outputs": [],
   "source": [
    "c_train_num = dl.train_num(data['a'].y, args.im_class_num, args.class_samp_num[0], args.im_ratio)\n",
    "print(c_train_num, sum(c_train_num))\n",
    "train_idx, val_idx, test_idx, c_num_mat = dl.segregate(data['a'].y, c_train_num, args.seed[1], args)\n",
    "print(\"train_idx: \", train_idx, len(train_idx))\n",
    "print(\"val_idx: \", val_idx, len(val_idx))\n",
    "print(\"test_idx: \", test_idx, len(test_idx))\n",
    "# print(c_num_mat)"
   ]
  },
  {
   "cell_type": "code",
   "execution_count": null,
   "metadata": {},
   "outputs": [],
   "source": [
    "encoder1 = Het_ConEn(args.embed_dim, args.dropout)\n",
    "encoder2 = Het_NetEn(args.embed_dim, args.dropout)\n",
    "classifier = Het_classify(args.embed_dim, args.nclass, args.dropout)\n",
    "decoder_a = EdgePredictor(args.embed_dim)\n",
    "decoder_p = EdgePredictor(args.embed_dim)\n",
    "decoder_v = EdgePredictor(args.embed_dim)\n",
    "# decoder_a = torch.load('pretrained/decoder_a.pth')\n",
    "# decoder_p = torch.load('pretrained/decoder_p.pth')\n",
    "# decoder_v = torch.load('pretrained/decoder_v.pth')\n",
    "decoder_list = [decoder_a, decoder_p, decoder_v]\n",
    "\n",
    "encoder1.to(device)\n",
    "encoder2.to(device)\n",
    "classifier.to(device)\n",
    "for decoder in decoder_list:\n",
    "    decoder.to(device)"
   ]
  },
  {
   "cell_type": "markdown",
   "metadata": {},
   "source": [
    "## Training Part"
   ]
  },
  {
   "cell_type": "code",
   "execution_count": null,
   "metadata": {},
   "outputs": [],
   "source": [
    "torch.cuda.empty_cache()\n",
    "train_smote(data, edge_indices, encoder1, encoder2, classifier, decoder_list, \n",
    "            train_idx, val_idx, test_idx, args, os_mode = 'gsm', train_mode = 'preO')"
   ]
  },
  {
   "cell_type": "code",
   "execution_count": null,
   "metadata": {},
   "outputs": [],
   "source": [
    "# torch.save(decoder_list[0], 'pretrained/decoder_a.pth')\n",
    "# torch.save(decoder_list[1], 'pretrained/decoder_p.pth')\n",
    "# torch.save(decoder_list[2], 'pretrained/decoder_v.pth')\n",
    "# torch.save(encoder1, 'pretrained/encoder1.pth')\n",
    "# torch.save(encoder2, 'pretrained/encoder2.pth')"
   ]
  }
 ],
 "metadata": {
  "kernelspec": {
   "display_name": "venv",
   "language": "python",
   "name": "python3"
  },
  "language_info": {
   "codemirror_mode": {
    "name": "ipython",
    "version": 3
   },
   "file_extension": ".py",
   "mimetype": "text/x-python",
   "name": "python",
   "nbconvert_exporter": "python",
   "pygments_lexer": "ipython3",
   "version": "3.10.12"
  },
  "orig_nbformat": 4
 },
 "nbformat": 4,
 "nbformat_minor": 2
}
