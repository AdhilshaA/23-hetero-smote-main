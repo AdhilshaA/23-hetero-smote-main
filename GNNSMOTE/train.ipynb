{
 "cells": [
  {
   "cell_type": "code",
   "execution_count": 1,
   "metadata": {},
   "outputs": [
    {
     "name": "stdout",
     "output_type": "stream",
     "text": [
      "Current device: NVIDIA RTX A6000\n"
     ]
    }
   ],
   "source": [
    "import numpy as np\n",
    "import matplotlib.pyplot as plt\n",
    "import torch\n",
    "import torch.nn as nn\n",
    "import torch.optim as optim\n",
    "from torch_geometric.data import Data\n",
    "import sys\n",
    "sys.path.extend(['data'])\n",
    "from data import Cora\n",
    "import dataloader as dl\n",
    "from model import Sage_En, Sage_Classifier, EdgePredictor\n",
    "from smote import smote\n",
    "from train import train_graph, test_graph, train_smote, test_smote, train_smote2, test_smote2\n",
    "\n",
    "# Set device to GPU if available, else use CPU\n",
    "device = torch.device(\"cuda\")\n",
    "print(f\"Current device: {torch.cuda.get_device_name(torch.cuda.current_device())}\" if torch.cuda.is_available() else \"Current device: CPU\")\n",
    "torch.cuda.empty_cache()"
   ]
  },
  {
   "cell_type": "code",
   "execution_count": 2,
   "metadata": {},
   "outputs": [
    {
     "name": "stdout",
     "output_type": "stream",
     "text": [
      "True\n",
      "tensor([[0., 0., 0.,  ..., 0., 0., 0.],\n",
      "        [0., 0., 0.,  ..., 0., 0., 0.],\n",
      "        [0., 0., 0.,  ..., 0., 0., 0.],\n",
      "        ...,\n",
      "        [0., 0., 0.,  ..., 0., 0., 0.],\n",
      "        [0., 0., 0.,  ..., 0., 0., 0.],\n",
      "        [0., 0., 0.,  ..., 0., 0., 0.]])  Size =  torch.Size([2708, 1433])\n",
      "tensor([[   0,    0,    0,  ..., 1874, 1876, 1897],\n",
      "        [  21,  905,  906,  ..., 2586, 1874, 2707]])  Size =  torch.Size([2, 5429])\n",
      "tensor([6, 6, 1,  ..., 5, 5, 5])  Size =  torch.Size([2708])\n"
     ]
    }
   ],
   "source": [
    "data_dir = 'data/cora'\n",
    "data_obj = Cora(data_dir).load_data()\n",
    "print(data_obj.validate(raise_on_error=True))\n",
    "print(data_obj['x'], \" Size = \", data_obj['x'].size())\n",
    "print(data_obj.edge_index, \" Size = \", data_obj.edge_index.size())\n",
    "print(data_obj.y, \" Size = \", data_obj.y.size())"
   ]
  },
  {
   "cell_type": "code",
   "execution_count": 3,
   "metadata": {},
   "outputs": [
    {
     "name": "stdout",
     "output_type": "stream",
     "text": [
      "tensor([[0., 0., 0.,  ..., 0., 0., 0.],\n",
      "        [0., 0., 0.,  ..., 0., 0., 0.],\n",
      "        [0., 0., 0.,  ..., 0., 0., 0.],\n",
      "        [0., 0., 0.,  ..., 0., 0., 0.],\n",
      "        [0., 0., 0.,  ..., 0., 0., 0.]]) torch.Size([2708, 2708]) tensor(5429.)\n",
      "torch.float32\n"
     ]
    }
   ],
   "source": [
    "from torch_geometric.utils import to_dense_adj\n",
    "adj_old = to_dense_adj(data_obj.edge_index)[0]\n",
    "print(adj_old[:5][:10], adj_old.shape, torch.sum(adj_old))\n",
    "print(adj_old.dtype)"
   ]
  },
  {
   "cell_type": "code",
   "execution_count": 4,
   "metadata": {},
   "outputs": [],
   "source": [
    "lr = 0.001\n",
    "num_epochs = 10\n",
    "weight_decay = 5e-4\n",
    "hdim = 64\n",
    "dropout = 0.1\n",
    "im_class_num = 3\n",
    "im_ratio = [0.8, 0.6, 0.4]\n",
    "class_sample_num = 20\n",
    "nclass = 7"
   ]
  },
  {
   "cell_type": "code",
   "execution_count": 5,
   "metadata": {},
   "outputs": [
    {
     "name": "stdout",
     "output_type": "stream",
     "text": [
      "[20, 20, 20, 20, 16, 12, 8] 116\n",
      "0 818\n",
      "1 217\n",
      "2 426\n",
      "3 298\n",
      "4 351\n",
      "5 180\n",
      "6 418\n",
      "train_idx:  [2000, 765, 1933, 1916, 1831, 865, 1319, 1656, 1282, 1709, 826, 700, 2440, 1, 2481, 541, 1809, 691, 212, 151, 1514, 2416, 1295, 1747, 555, 351, 179, 2041, 332, 1715, 1285, 595, 2454, 1033, 26, 2057, 1983, 556, 1045, 1006, 7, 2658, 581, 2451, 604, 343, 1209, 2499, 1189, 2546, 1834, 1074, 1338, 1279, 2351, 1674, 908, 873, 1464, 2220, 2065, 114, 650, 1270, 2157, 437, 611, 2121, 1079, 58, 1549, 333, 154, 2656, 762, 150, 684, 2160, 676, 1450, 2377, 1732, 998, 1071, 105, 414, 577, 1783, 2500, 1873, 569, 1671, 1000, 1030, 110, 1734, 718, 65, 696, 2322, 1465, 426, 1428, 1814, 844, 1791, 629, 1278, 1351, 228, 1569, 2584, 1620, 1135, 128, 1722] 116\n",
      "val_idx:  [1544, 2083, 2058, 287, 1891, 1755, 1396, 741, 636, 1680, 1762, 1550, 2246, 168, 1778, 329, 1402, 2507, 358, 829, 2269, 461, 1874, 448, 915, 478, 252, 112, 121, 2637, 2199, 867, 1398, 111, 435, 851, 477, 1236, 1185, 1196, 801, 136, 368, 434, 2095, 428, 432, 5, 123, 115, 2452, 1296, 574, 63, 11, 403, 1162, 2449, 1533, 2697, 916, 2049, 520, 83, 2634, 2652, 2450, 2329, 2461, 1767, 44, 2513, 626, 1023, 2305, 69, 996, 985, 307, 274, 362, 2201, 2172, 419, 888, 971, 598, 2052, 909, 2671, 208, 480, 42, 2673, 1065, 134, 664, 1292, 2487, 360, 2600, 912, 1132, 893, 444, 2343, 783, 2034, 2547, 2111, 560, 340, 46, 1180, 1415, 1997, 1918, 1219, 1232, 658, 73, 1093, 2051, 1216, 1594, 2020, 1598, 1234, 373, 1863, 2404, 614, 1257, 2648, 1260, 2651, 856, 2151, 2531, 632, 616, 944, 2165, 214, 1989, 1552, 1036, 1142, 393, 613, 1114, 1350, 1642, 486, 1957, 605, 1287, 1619, 2059, 2298, 2353, 1640, 2572, 804, 2380, 1568, 2266, 2229, 2478, 524, 1053, 240, 883, 682, 2479] 175\n",
      "test_idx:  [2564, 292, 1884, 1865, 310, 1948, 1446, 2528, 1297, 2693, 751, 1107, 205, 1186, 2239, 25, 1055, 52, 2276, 544, 1208, 2503, 752, 463, 2146, 153, 106, 1477, 1046, 1458, 178, 2163, 1220, 1787, 904, 2204, 978, 2357, 1875, 2188, 14, 725, 289, 1938, 1097, 973, 1277, 1756, 2586, 1866, 1300, 1823, 1113, 1959, 2110, 2614, 505, 1993, 1670, 425, 336, 1497, 350, 323, 2413, 190, 1966, 118, 721, 116, 1152, 172, 1965, 308, 264, 2529, 2619, 1086, 1371, 606, 119, 2206, 1121, 514, 2002, 1194, 413, 429, 2137, 864, 958, 1153, 247, 2289, 2320, 424, 250, 1675, 2299, 1669, 1973, 439, 870, 2092, 2190, 2123, 3, 438, 126, 248, 1356, 1828, 210, 2327, 1684, 2455, 476, 1334, 1681, 1409, 2226, 1541, 1817, 2112, 1466, 1535, 1685, 546, 1223, 2442, 1095, 1478, 1683, 1439, 1705, 75, 285, 797, 816, 2644, 1830, 1539, 1178, 1537, 1092, 1704, 1720, 415, 2247, 729, 1037, 1442, 1736, 1825, 1735, 2100, 271, 543, 768, 2114, 1936, 1438, 2304, 2424, 2536, 60, 1987, 1139, 62, 17, 1309, 2608, 2223, 671, 201, 703, 2185, 2087, 807, 1931, 2659, 745, 1905, 1394, 536, 2156, 185, 931, 2267, 1116, 1431, 273, 1921, 2573, 1238, 2178, 107, 929, 16, 654, 730, 2023, 1001, 936, 759, 331, 2075, 2081, 41, 2027, 2419, 2314, 1215, 955, 666, 808, 986, 2024, 335, 2383, 561, 218, 1179, 349, 1887, 785, 934, 379, 662, 372, 2482, 2217, 200, 109, 90, 49, 1492, 454, 1385, 1821, 1555, 2301, 1937, 2235, 408, 627, 948, 900, 78, 660, 224, 229, 1471, 1944, 2050, 587, 1081, 2574, 129, 2582, 878, 1102, 2287, 506, 2074, 2568, 735, 1291, 2646, 2098, 222, 1308, 1910, 395, 1924, 1269, 89, 663, 2707, 1763, 1658, 780, 2076, 1358, 245, 176, 854, 2312, 1039, 2642, 522, 1294, 1881, 1448, 1646, 1545, 659, 1315, 2283, 1906, 1897, 138, 2640, 1316, 1193, 152, 193, 1599, 2187, 2664, 2363, 1459, 2359, 1070, 1148, 2164, 1926, 1213, 825, 1183, 2330, 2211, 1974, 2362, 156, 754, 588, 155, 182, 2054, 1571, 2612, 1934, 2427, 195, 186, 571, 2376, 1255, 445, 2492, 2667, 1052, 1305, 1583, 1586, 1314, 1624, 583, 2570, 1764, 1623, 699, 1653, 1447, 1344, 2375, 673, 2610, 1631, 1636, 1632, 2131, 2336, 1584, 997, 1342, 542, 1771, 1275, 1629, 1622, 1696, 1627, 1748, 2389, 2036, 1611, 1649, 880, 1304, 1628, 2370, 1489, 2578] 385\n"
     ]
    }
   ],
   "source": [
    "c_train_num = dl.train_num(data_obj.y, im_class_num, class_sample_num, im_ratio)\n",
    "print(c_train_num, sum(c_train_num))\n",
    "train_idx, val_idx, test_idx, c_num_mat = dl.segregate(data_obj.y, c_train_num)\n",
    "print(\"train_idx: \", train_idx, len(train_idx))\n",
    "print(\"val_idx: \", val_idx, len(val_idx))\n",
    "print(\"test_idx: \", test_idx, len(test_idx))\n",
    "# print(c_num_mat)"
   ]
  },
  {
   "cell_type": "code",
   "execution_count": 6,
   "metadata": {},
   "outputs": [
    {
     "name": "stdout",
     "output_type": "stream",
     "text": [
      "Data(x=[116, 1433], edge_index=[2, 11], y=[116])\n",
      "Data(x=[175, 1433], edge_index=[2, 35], y=[175])\n",
      "Data(x=[385, 1433], edge_index=[2, 111], y=[385])\n"
     ]
    }
   ],
   "source": [
    "train_data = dl.dataloader(data_obj, train_idx)\n",
    "val_data = dl.dataloader(data_obj, val_idx)\n",
    "test_data = dl.dataloader(data_obj, test_idx)\n",
    "print(train_data)\n",
    "print(val_data)\n",
    "print(test_data)"
   ]
  },
  {
   "cell_type": "code",
   "execution_count": 7,
   "metadata": {},
   "outputs": [],
   "source": [
    "encoder = Sage_En(train_data.x.shape[-1], hdim, dropout)\n",
    "decoder = EdgePredictor(hdim)\n",
    "#features = encoder(train_data)\n",
    "classifier = Sage_Classifier(hdim, hdim, nclass, dropout)\n",
    "#print(features.shape)"
   ]
  },
  {
   "cell_type": "code",
   "execution_count": 8,
   "metadata": {},
   "outputs": [],
   "source": [
    "#train_idx_en = np.arange(0, features.shape[0])\n",
    "#new_features, new_labels, new_train_idx = smote(features = features, labels = train_data.y, train_idx = train_idx_en, portion = 0, im_class_num = im_class_num)\n",
    "#print(new_features.shape, new_labels.shape, new_train_idx)"
   ]
  },
  {
   "cell_type": "markdown",
   "metadata": {},
   "source": [
    "Training-Testing Part:"
   ]
  },
  {
   "cell_type": "code",
   "execution_count": 9,
   "metadata": {},
   "outputs": [],
   "source": [
    "# Without smote\n",
    "# train_graph(train_data, val_data, encoder, classifier, num_epochs = 1000, lr = lr, weight_decay = weight_decay)"
   ]
  },
  {
   "cell_type": "code",
   "execution_count": 10,
   "metadata": {},
   "outputs": [],
   "source": [
    "# test_graph(test_data, encoder, classifier)"
   ]
  },
  {
   "cell_type": "code",
   "execution_count": 11,
   "metadata": {},
   "outputs": [
    {
     "name": "stdout",
     "output_type": "stream",
     "text": [
      "torch.Size([127, 64])\n",
      "Epoch [1/10], Loss: 1.9486, Accuracy: 0.1260, Edge Accuracy: 0.5795\n",
      "Class 0:AUC-ROC- 0.4640, F1 Score- 0.0000; Class 1:AUC-ROC- 0.3958, F1 Score- 0.0000; Class 2:AUC-ROC- 0.4257, F1 Score- 0.0000; Class 3:AUC-ROC- 0.5584, F1 Score- 0.0000; Class 4:AUC-ROC- 0.4324, F1 Score- 0.0000; Class 5:AUC-ROC- 0.5711, F1 Score- 0.0000; Class 6:AUC-ROC- 0.6101, F1 Score- 0.0000; Macro-Average AUC-ROC: 0.4939,Macro-Average F1 Score: 0.0000\n",
      "torch.Size([175, 64])\n",
      "Validation Loss: 19.8215, Validation Accuracy: 0.1429, Validation Edge Accuracy: 0.5775\n",
      "Class 0:AUC-ROC- 0.5811, F1 Score- 0.0000; Class 1:AUC-ROC- 0.4224, F1 Score- 0.0000; Class 2:AUC-ROC- 0.5209, F1 Score- 0.0000; Class 3:AUC-ROC- 0.5061, F1 Score- 0.0000; Class 4:AUC-ROC- 0.4917, F1 Score- 0.0000; Class 5:AUC-ROC- 0.5459, F1 Score- 0.0000; Class 6:AUC-ROC- 0.5469, F1 Score- 0.0000; Macro-Average AUC-ROC: 0.5164,Macro-Average F1 Score: 0.0000\n",
      "torch.Size([127, 64])\n",
      "Epoch [2/10], Loss: 1.9409, Accuracy: 0.1260, Edge Accuracy: 0.5775\n",
      "Class 0:AUC-ROC- 0.8776, F1 Score- 0.0000; Class 1:AUC-ROC- 0.6995, F1 Score- 0.0000; Class 2:AUC-ROC- 0.7192, F1 Score- 0.0000; Class 3:AUC-ROC- 0.8977, F1 Score- 0.0000; Class 4:AUC-ROC- 0.7272, F1 Score- 0.0000; Class 5:AUC-ROC- 0.8402, F1 Score- 0.0000; Class 6:AUC-ROC- 0.9110, F1 Score- 0.0000; Macro-Average AUC-ROC: 0.8103,Macro-Average F1 Score: 0.0000\n",
      "torch.Size([175, 64])\n",
      "Validation Loss: 19.7987, Validation Accuracy: 0.1429, Validation Edge Accuracy: 0.5756\n",
      "Class 0:AUC-ROC- 0.6109, F1 Score- 0.0000; Class 1:AUC-ROC- 0.5067, F1 Score- 0.0000; Class 2:AUC-ROC- 0.5895, F1 Score- 0.0000; Class 3:AUC-ROC- 0.5663, F1 Score- 0.0000; Class 4:AUC-ROC- 0.5164, F1 Score- 0.0000; Class 5:AUC-ROC- 0.5600, F1 Score- 0.0000; Class 6:AUC-ROC- 0.5943, F1 Score- 0.0000; Macro-Average AUC-ROC: 0.5634,Macro-Average F1 Score: 0.0000\n",
      "torch.Size([127, 64])\n",
      "Epoch [3/10], Loss: 1.9338, Accuracy: 0.1260, Edge Accuracy: 0.5756\n",
      "Class 0:AUC-ROC- 0.9593, F1 Score- 0.0000; Class 1:AUC-ROC- 0.8939, F1 Score- 0.0000; Class 2:AUC-ROC- 0.8846, F1 Score- 0.0000; Class 3:AUC-ROC- 0.9738, F1 Score- 0.0000; Class 4:AUC-ROC- 0.8874, F1 Score- 0.0000; Class 5:AUC-ROC- 0.9071, F1 Score- 0.0000; Class 6:AUC-ROC- 0.9752, F1 Score- 0.0000; Macro-Average AUC-ROC: 0.9259,Macro-Average F1 Score: 0.0000\n",
      "torch.Size([175, 64])\n",
      "Validation Loss: 19.7752, Validation Accuracy: 0.1429, Validation Edge Accuracy: 0.5737\n",
      "Class 0:AUC-ROC- 0.6429, F1 Score- 0.0000; Class 1:AUC-ROC- 0.5820, F1 Score- 0.0000; Class 2:AUC-ROC- 0.6512, F1 Score- 0.0000; Class 3:AUC-ROC- 0.6151, F1 Score- 0.0000; Class 4:AUC-ROC- 0.5349, F1 Score- 0.0000; Class 5:AUC-ROC- 0.6047, F1 Score- 0.0000; Class 6:AUC-ROC- 0.6509, F1 Score- 0.0000; Macro-Average AUC-ROC: 0.6117,Macro-Average F1 Score: 0.0000\n",
      "torch.Size([127, 64])\n",
      "Epoch [4/10], Loss: 1.9266, Accuracy: 0.1260, Edge Accuracy: 0.5738\n",
      "Class 0:AUC-ROC- 0.9855, F1 Score- 0.0000; Class 1:AUC-ROC- 0.9514, F1 Score- 0.0000; Class 2:AUC-ROC- 0.9495, F1 Score- 0.0000; Class 3:AUC-ROC- 0.9902, F1 Score- 0.0000; Class 4:AUC-ROC- 0.9327, F1 Score- 0.0000; Class 5:AUC-ROC- 0.9417, F1 Score- 0.0000; Class 6:AUC-ROC- 0.9961, F1 Score- 0.0000; Macro-Average AUC-ROC: 0.9639,Macro-Average F1 Score: 0.0000\n",
      "torch.Size([175, 64])\n",
      "Validation Loss: 19.7515, Validation Accuracy: 0.1429, Validation Edge Accuracy: 0.5719\n",
      "Class 0:AUC-ROC- 0.6688, F1 Score- 0.0000; Class 1:AUC-ROC- 0.6349, F1 Score- 0.0000; Class 2:AUC-ROC- 0.6920, F1 Score- 0.0000; Class 3:AUC-ROC- 0.6469, F1 Score- 0.0000; Class 4:AUC-ROC- 0.5629, F1 Score- 0.0000; Class 5:AUC-ROC- 0.6332, F1 Score- 0.0000; Class 6:AUC-ROC- 0.6693, F1 Score- 0.0000; Macro-Average AUC-ROC: 0.6440,Macro-Average F1 Score: 0.0000\n",
      "torch.Size([127, 64])\n",
      "Epoch [5/10], Loss: 1.9191, Accuracy: 0.1732, Edge Accuracy: 0.5721\n",
      "Class 0:AUC-ROC- 0.9944, F1 Score- 0.0000; Class 1:AUC-ROC- 0.9687, F1 Score- 0.0000; Class 2:AUC-ROC- 0.9650, F1 Score- 0.0000; Class 3:AUC-ROC- 0.9956, F1 Score- 0.0000; Class 4:AUC-ROC- 0.9490, F1 Score- 0.0000; Class 5:AUC-ROC- 0.9649, F1 Score- 0.0000; Class 6:AUC-ROC- 0.9986, F1 Score- 0.0000; Macro-Average AUC-ROC: 0.9766,Macro-Average F1 Score: 0.0000\n",
      "torch.Size([175, 64])\n",
      "Validation Loss: 19.7287, Validation Accuracy: 0.1429, Validation Edge Accuracy: 0.5702\n",
      "Class 0:AUC-ROC- 0.6939, F1 Score- 0.0000; Class 1:AUC-ROC- 0.6856, F1 Score- 0.0000; Class 2:AUC-ROC- 0.7235, F1 Score- 0.0000; Class 3:AUC-ROC- 0.6700, F1 Score- 0.0000; Class 4:AUC-ROC- 0.5799, F1 Score- 0.0000; Class 5:AUC-ROC- 0.6568, F1 Score- 0.0000; Class 6:AUC-ROC- 0.7025, F1 Score- 0.0000; Macro-Average AUC-ROC: 0.6732,Macro-Average F1 Score: 0.0000\n",
      "torch.Size([127, 64])\n",
      "Epoch [6/10], Loss: 1.9106, Accuracy: 0.2441, Edge Accuracy: 0.5707\n",
      "Class 0:AUC-ROC- 0.9972, F1 Score- 0.0000; Class 1:AUC-ROC- 0.9729, F1 Score- 0.0000; Class 2:AUC-ROC- 0.9729, F1 Score- 0.0000; Class 3:AUC-ROC- 0.9967, F1 Score- 0.0000; Class 4:AUC-ROC- 0.9513, F1 Score- 0.0000; Class 5:AUC-ROC- 0.9798, F1 Score- 0.0000; Class 6:AUC-ROC- 1.0000, F1 Score- 0.0000; Macro-Average AUC-ROC: 0.9815,Macro-Average F1 Score: 0.0000\n",
      "torch.Size([175, 64])\n",
      "Validation Loss: 19.7068, Validation Accuracy: 0.1429, Validation Edge Accuracy: 0.5686\n",
      "Class 0:AUC-ROC- 0.7152, F1 Score- 0.0000; Class 1:AUC-ROC- 0.7285, F1 Score- 0.0000; Class 2:AUC-ROC- 0.7507, F1 Score- 0.0000; Class 3:AUC-ROC- 0.6892, F1 Score- 0.0000; Class 4:AUC-ROC- 0.5877, F1 Score- 0.0000; Class 5:AUC-ROC- 0.6495, F1 Score- 0.0000; Class 6:AUC-ROC- 0.7453, F1 Score- 0.0000; Macro-Average AUC-ROC: 0.6952,Macro-Average F1 Score: 0.0000\n",
      "torch.Size([127, 64])\n",
      "Epoch [7/10], Loss: 1.9018, Accuracy: 0.3937, Edge Accuracy: 0.5693\n",
      "Class 0:AUC-ROC- 0.9986, F1 Score- 0.0000; Class 1:AUC-ROC- 0.9752, F1 Score- 0.0000; Class 2:AUC-ROC- 0.9748, F1 Score- 0.0000; Class 3:AUC-ROC- 0.9977, F1 Score- 0.0000; Class 4:AUC-ROC- 0.9595, F1 Score- 0.0000; Class 5:AUC-ROC- 0.9815, F1 Score- 0.0000; Class 6:AUC-ROC- 1.0000, F1 Score- 0.0000; Macro-Average AUC-ROC: 0.9839,Macro-Average F1 Score: 0.0000\n",
      "torch.Size([175, 64])\n",
      "Validation Loss: 19.6856, Validation Accuracy: 0.1486, Validation Edge Accuracy: 0.5671\n",
      "Class 0:AUC-ROC- 0.7189, F1 Score- 0.0000; Class 1:AUC-ROC- 0.7643, F1 Score- 0.0000; Class 2:AUC-ROC- 0.7749, F1 Score- 0.0000; Class 3:AUC-ROC- 0.7068, F1 Score- 0.0000; Class 4:AUC-ROC- 0.6059, F1 Score- 0.0000; Class 5:AUC-ROC- 0.6667, F1 Score- 0.0000; Class 6:AUC-ROC- 0.7113, F1 Score- 0.0000; Macro-Average AUC-ROC: 0.7070,Macro-Average F1 Score: 0.0000\n",
      "torch.Size([127, 64])\n",
      "Epoch [8/10], Loss: 1.8925, Accuracy: 0.4882, Edge Accuracy: 0.5681\n",
      "Class 0:AUC-ROC- 0.9991, F1 Score- 0.0000; Class 1:AUC-ROC- 0.9771, F1 Score- 0.0000; Class 2:AUC-ROC- 0.9766, F1 Score- 0.0000; Class 3:AUC-ROC- 0.9981, F1 Score- 0.0000; Class 4:AUC-ROC- 0.9642, F1 Score- 0.0000; Class 5:AUC-ROC- 0.9902, F1 Score- 0.0000; Class 6:AUC-ROC- 1.0000, F1 Score- 0.0000; Macro-Average AUC-ROC: 0.9865,Macro-Average F1 Score: 0.0000\n",
      "torch.Size([175, 64])\n",
      "Validation Loss: 19.6652, Validation Accuracy: 0.1429, Validation Edge Accuracy: 0.5657\n",
      "Class 0:AUC-ROC- 0.7269, F1 Score- 0.0000; Class 1:AUC-ROC- 0.7885, F1 Score- 0.0000; Class 2:AUC-ROC- 0.7947, F1 Score- 0.0000; Class 3:AUC-ROC- 0.7201, F1 Score- 0.0000; Class 4:AUC-ROC- 0.6159, F1 Score- 0.0000; Class 5:AUC-ROC- 0.6771, F1 Score- 0.0000; Class 6:AUC-ROC- 0.7804, F1 Score- 0.0000; Macro-Average AUC-ROC: 0.7291,Macro-Average F1 Score: 0.0000\n",
      "torch.Size([127, 64])\n",
      "Epoch [9/10], Loss: 1.8807, Accuracy: 0.5748, Edge Accuracy: 0.5671\n",
      "Class 0:AUC-ROC- 0.9991, F1 Score- 0.0000; Class 1:AUC-ROC- 0.9785, F1 Score- 0.0000; Class 2:AUC-ROC- 0.9794, F1 Score- 0.0000; Class 3:AUC-ROC- 0.9986, F1 Score- 0.0000; Class 4:AUC-ROC- 0.9668, F1 Score- 0.0000; Class 5:AUC-ROC- 0.9949, F1 Score- 0.0000; Class 6:AUC-ROC- 1.0000, F1 Score- 0.0000; Macro-Average AUC-ROC: 0.9882,Macro-Average F1 Score: 0.0000\n",
      "torch.Size([175, 64])\n",
      "Validation Loss: 19.6456, Validation Accuracy: 0.1771, Validation Edge Accuracy: 0.5646\n",
      "Class 0:AUC-ROC- 0.7432, F1 Score- 0.0000; Class 1:AUC-ROC- 0.8083, F1 Score- 0.0000; Class 2:AUC-ROC- 0.8125, F1 Score- 0.0000; Class 3:AUC-ROC- 0.7261, F1 Score- 0.0000; Class 4:AUC-ROC- 0.6263, F1 Score- 0.0000; Class 5:AUC-ROC- 0.6855, F1 Score- 0.0000; Class 6:AUC-ROC- 0.7799, F1 Score- 0.0000; Macro-Average AUC-ROC: 0.7402,Macro-Average F1 Score: 0.0000\n",
      "torch.Size([127, 64])\n",
      "Epoch [10/10], Loss: 1.8686, Accuracy: 0.6299, Edge Accuracy: 0.5662\n",
      "Class 0:AUC-ROC- 0.9991, F1 Score- 0.0000; Class 1:AUC-ROC- 0.9808, F1 Score- 0.0000; Class 2:AUC-ROC- 0.9804, F1 Score- 0.0000; Class 3:AUC-ROC- 0.9986, F1 Score- 0.0000; Class 4:AUC-ROC- 0.9673, F1 Score- 0.0000; Class 5:AUC-ROC- 0.9982, F1 Score- 0.0000; Class 6:AUC-ROC- 1.0000, F1 Score- 0.0000; Macro-Average AUC-ROC: 0.9892,Macro-Average F1 Score: 0.0000\n",
      "torch.Size([175, 64])\n",
      "Validation Loss: 19.6277, Validation Accuracy: 0.1771, Validation Edge Accuracy: 0.5635\n",
      "Class 0:AUC-ROC- 0.7540, F1 Score- 0.0000; Class 1:AUC-ROC- 0.8160, F1 Score- 0.0000; Class 2:AUC-ROC- 0.8269, F1 Score- 0.0000; Class 3:AUC-ROC- 0.7299, F1 Score- 0.0000; Class 4:AUC-ROC- 0.6415, F1 Score- 0.0000; Class 5:AUC-ROC- 0.6933, F1 Score- 0.0000; Class 6:AUC-ROC- 0.7735, F1 Score- 0.0000; Macro-Average AUC-ROC: 0.7479,Macro-Average F1 Score: 0.0000\n",
      "Finished Training\n"
     ]
    }
   ],
   "source": [
    "train_smote(train_data, val_data, encoder, classifier, decoder, num_epochs, lr, weight_decay, train_idx, portion = 0, im_class_num = im_class_num)"
   ]
  },
  {
   "cell_type": "code",
   "execution_count": 12,
   "metadata": {},
   "outputs": [
    {
     "name": "stdout",
     "output_type": "stream",
     "text": [
      "torch.Size([385, 64])\n",
      "Test Loss: 58.1518, Test Accuracy: 0.1844, Test Edge Accuracy: 0.5638\n",
      "Class 0:AUC-ROC- 0.7203, F1 Score- 0.0000; Class 1:AUC-ROC- 0.7241, F1 Score- 0.0000; Class 2:AUC-ROC- 0.7318, F1 Score- 0.0000; Class 3:AUC-ROC- 0.7977, F1 Score- 0.0000; Class 4:AUC-ROC- 0.7191, F1 Score- 0.0000; Class 5:AUC-ROC- 0.7320, F1 Score- 0.0000; Class 6:AUC-ROC- 0.7405, F1 Score- 0.0000; Macro-Average AUC-ROC: 0.7379,Macro-Average F1 Score: 0.0000\n"
     ]
    }
   ],
   "source": [
    "test_smote(test_data, encoder, classifier, decoder)"
   ]
  },
  {
   "cell_type": "markdown",
   "metadata": {},
   "source": [
    "Training Part B- On the entire data"
   ]
  },
  {
   "cell_type": "code",
   "execution_count": 13,
   "metadata": {},
   "outputs": [],
   "source": [
    "# train_smote2(data_obj, encoder, classifier, decoder, num_epochs, lr, weight_decay, train_idx, val_idx, portion = 0, im_class_num = im_class_num)"
   ]
  },
  {
   "cell_type": "code",
   "execution_count": 14,
   "metadata": {},
   "outputs": [],
   "source": [
    "# test_smote2(data_obj, encoder, classifier, decoder, test_idx)"
   ]
  }
 ],
 "metadata": {
  "kernelspec": {
   "display_name": "rfmidc",
   "language": "python",
   "name": "python3"
  },
  "language_info": {
   "codemirror_mode": {
    "name": "ipython",
    "version": 3
   },
   "file_extension": ".py",
   "mimetype": "text/x-python",
   "name": "python",
   "nbconvert_exporter": "python",
   "pygments_lexer": "ipython3",
   "version": "3.10.12"
  },
  "orig_nbformat": 4
 },
 "nbformat": 4,
 "nbformat_minor": 2
}
